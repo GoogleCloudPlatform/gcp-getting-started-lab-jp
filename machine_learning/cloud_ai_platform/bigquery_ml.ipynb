{
  "nbformat": 4,
  "nbformat_minor": 0,
  "metadata": {
    "colab": {
      "name": "bigquery-ml",
      "version": "0.3.2",
      "provenance": [],
      "include_colab_link": true
    },
    "kernelspec": {
      "display_name": "Python 3",
      "language": "python",
      "name": "python3"
    }
  },
  "cells": [
    {
      "cell_type": "markdown",
      "metadata": {
        "id": "view-in-github",
        "colab_type": "text"
      },
      "source": [
        "<a href=\"https://colab.research.google.com/github/Youki/cloud-ai-handson/blob/master/machine_learning/cloud_ai_platform/bigquery_ml.ipynb\" target=\"_parent\"><img src=\"https://colab.research.google.com/assets/colab-badge.svg\" alt=\"Open In Colab\"/></a>"
      ]
    },
    {
      "metadata": {
        "id": "ufnRHzX6NKqi",
        "colab_type": "text"
      },
      "cell_type": "markdown",
      "source": [
        "---\n",
        "```\n",
        "Copyright 2019 Google LLC\n",
        "\n",
        "Licensed under the Apache License, Version 2.0 (the \"License\"); you may not use this file except in compliance with the License. You may obtain a copy of the License at\n",
        "\n",
        "https://www.apache.org/licenses/LICENSE-2.0\n",
        "\n",
        "Unless required by applicable law or agreed to in writing, software distributed under the License is distributed on an \"AS IS\" BASIS, WITHOUT WARRANTIES OR CONDITIONS OF ANY KIND, either express or implied. See the License for the specific language governing permissions and limitations under the License.\n",
        "```\n",
        "---"
      ]
    },
    {
      "metadata": {
        "colab_type": "text",
        "id": "aklJxkHBD5aR"
      },
      "cell_type": "markdown",
      "source": [
        "# BigQuery ML で出生体重を予測\n",
        "\n",
        "\n",
        "このノートブックでは、BigQueryの[Publicデータセット](https://bigquery.cloud.google.com/table/bigquery-public-data:samples.natality)を使用して出生時体重を予測しています。\n",
        "\n",
        "このデータには、1969年から2008年までの米国の[出生に関する詳細](https://bigquery.cloud.google.com/table/publicdata:samples.natality?tab=details)が含まれています。\n",
        "\n",
        "BigQueryの詳細は [BigQuery ドキュメント](https://cloud.google.com/bigquery/docs) および [ライブラリリファレンスドキュメント](https://googleapis.github.io/google-cloud-python/latest/bigquery/usage/index.html)を参照してください。\n",
        "\n",
        "## 事前準備\n",
        "\n",
        "\n",
        "1.   まだ作成していない場合は [Google Cloud Platform プロジェクト](https://console.cloud.google.com/cloud-resource-manager)を作成します。 \n",
        "2.   [課金設定](https://support.google.com/cloud/answer/6293499#enable-billing) を有効にします。\n",
        "3.   [BigQuery API](https://console.cloud.google.com/flows/enableapi?apiid=bigquery) を有効にします。"
      ]
    },
    {
      "metadata": {
        "id": "x3anY23YN4s3",
        "colab_type": "code",
        "colab": {}
      },
      "cell_type": "code",
      "source": [
        "import pandas as pd\n",
        "import numpy as np\n",
        "import sys\n",
        "from google.cloud import bigquery"
      ],
      "execution_count": 0,
      "outputs": []
    },
    {
      "metadata": {
        "id": "vomLfcVGsqGF",
        "colab_type": "text"
      },
      "cell_type": "markdown",
      "source": [
        "### Google アカウントの認証を実行します。\n",
        "下記のコードを実行すると、認証コードを取得するための画面へのリンクが表示されるので、そのリンク先へアクセスし、BigQuery への権限を持つアカウントで認証します。その後の画面で表示される認証コードをコピーして Colaboratory のテキストエリアへ入力します。"
      ]
    },
    {
      "metadata": {
        "colab_type": "code",
        "id": "BhUiclqCD5aT",
        "colab": {}
      },
      "cell_type": "code",
      "source": [
        "from google.colab import auth\n",
        "auth.authenticate_user()\n",
        "print('認証されました。')"
      ],
      "execution_count": 0,
      "outputs": []
    },
    {
      "metadata": {
        "id": "ymwkPXGmveHh",
        "colab_type": "text"
      },
      "cell_type": "markdown",
      "source": [
        "### このノートブックで使用するProject IDを設定します"
      ]
    },
    {
      "metadata": {
        "id": "WWsnOalbNgQT",
        "colab_type": "code",
        "colab": {}
      },
      "cell_type": "code",
      "source": [
        "#@title プロジェクト変数の設定 { run: \"auto\", display-mode: \"form\" }\n",
        "project_id = 'your-project-name' #@param {type:\"string\"}\n",
        "client = bigquery.Client(project=project_id)"
      ],
      "execution_count": 0,
      "outputs": []
    },
    {
      "metadata": {
        "id": "o12tfC4jusrD",
        "colab_type": "text"
      },
      "cell_type": "markdown",
      "source": [
        "# BigQuery ML で出生数を予測\n",
        "\n",
        "このノートブックでは、BigQueryの[Publicデータセット](https://bigquery.cloud.google.com/table/bigquery-public-data:samples.natality)を使用して出生時体重を予測しています。\n",
        "\n",
        "このデータには、1969年から2008年までの米国の出生に関する詳細が含まれています。\n",
        "（詳細：https://bigquery.cloud.google.com/table/publicdata:samples.natality?tab=details）\n",
        "\n",
        "BigQueryの詳細は [BigQuery ドキュメント](https://cloud.google.com/bigquery/docs) および [ライブラリリファレンスドキュメント](https://googleapis.github.io/google-cloud-python/latest/bigquery/usage/index.html)を参照してください。\n"
      ]
    },
    {
      "metadata": {
        "colab_type": "code",
        "id": "YrqwSv6vD5aZ",
        "colab": {}
      },
      "cell_type": "code",
      "source": [
        "%%bigquery --project {project_id} data\n",
        "SELECT *\n",
        "FROM\n",
        "  publicdata.samples.natality\n",
        "WHERE\n",
        "  year > 2000\n",
        "  AND gestation_weeks > 0\n",
        "  AND mother_age > 0\n",
        "  AND plurality > 0\n",
        "  AND weight_pounds > 0\n",
        "LIMIT 300"
      ],
      "execution_count": 0,
      "outputs": []
    },
    {
      "metadata": {
        "id": "U4QI03iLik_V",
        "colab_type": "code",
        "colab": {}
      },
      "cell_type": "code",
      "source": [
        "import seaborn\n",
        "from  matplotlib import pyplot as plt\n",
        "#plt(data)\n",
        "fg = seaborn.FacetGrid(data=data, hue='plurality', size=6,aspect=1.67)\n",
        "fg = fg.map(plt.scatter, 'mother_age' ,'weight_pounds').add_legend()\n",
        "fg = fg.set_axis_labels(x_var=\"Mother's age\", y_var=\"Weight pounds\")"
      ],
      "execution_count": 0,
      "outputs": []
    },
    {
      "metadata": {
        "id": "ANAJi24Zi6cP",
        "colab_type": "code",
        "colab": {}
      },
      "cell_type": "code",
      "source": [
        "_ = data.hist(column='weight_pounds',by='is_male', layout=(1,2),  sharey=True, sharex=True)"
      ],
      "execution_count": 0,
      "outputs": []
    },
    {
      "metadata": {
        "id": "LaRWrpEnjY3m",
        "colab_type": "code",
        "colab": {}
      },
      "cell_type": "code",
      "source": [
        "import numpy as np\n",
        "x = data.gestation_weeks\n",
        "y = data.weight_pounds\n",
        "data.plot(kind=\"scatter\",x=\"gestation_weeks\",y=\"weight_pounds\", figsize=[10,6],ylim=0,xlim=20)\n",
        "z = np.polyfit(x, y, 1)\n",
        "p = np.poly1d(z)\n",
        "plt.plot(x,p(x),\"r\")\n",
        "plt.title(\"Weight pounds by Gestation Weeks.\")\n",
        "plt.show()"
      ],
      "execution_count": 0,
      "outputs": []
    },
    {
      "metadata": {
        "colab_type": "text",
        "id": "ep02J20pD5ai"
      },
      "cell_type": "markdown",
      "source": [
        "## 特徴量の設定\n",
        "\n",
        "データセットを見てみると、出生時体重を適切に予測するために活用できそうな、いくつかの列があります。BQMLでは、すべての文字列はカテゴリカル機能と見なされ、すべての数値型は連続値と見なされます。\n",
        "ハッシュ化された年月を追加することで、同様の誕生日の赤ちゃんのデータをトレーニングセットとテストセットにバランスよく分割します。"
      ]
    },
    {
      "metadata": {
        "id": "RO3JRNcfObqf",
        "colab_type": "code",
        "colab": {}
      },
      "cell_type": "code",
      "source": [
        "%%bigquery --project {project_id}\n",
        "SELECT\n",
        "    weight_pounds, -- 回帰分析のラベルとして使用します。\n",
        "    is_male,\n",
        "    mother_age,\n",
        "    plurality,\n",
        "    gestation_weeks,\n",
        "    ABS(FARM_FINGERPRINT(CONCAT(CAST(YEAR AS STRING), CAST(month AS STRING)))) AS hashmonth\n",
        "FROM\n",
        "  publicdata.samples.natality\n",
        "WHERE\n",
        "  year > 2000\n",
        "  AND gestation_weeks > 0\n",
        "  AND mother_age > 0\n",
        "  AND plurality > 0\n",
        "  AND weight_pounds > 0\n",
        "LIMIT 10"
      ],
      "execution_count": 0,
      "outputs": []
    },
    {
      "metadata": {
        "colab_type": "text",
        "id": "H-d7C8KcD5am"
      },
      "cell_type": "markdown",
      "source": [
        "## モデルのトレーニング\n",
        "\n",
        "予測に使用する列を選択することで、BigQueryでモデルを作成（トレーニング）することが可能になります。まず、モデルを保存するためのデータセットが必要になります。 （エラーが発生した場合は、BigQueryコンソールからデータセットを作成してください）。"
      ]
    },
    {
      "metadata": {
        "id": "2cXYosci1lc_",
        "colab_type": "code",
        "colab": {}
      },
      "cell_type": "code",
      "source": [
        "!gcloud config set project {project_id}\n",
        "!bq --location=US mk -d demo"
      ],
      "execution_count": 0,
      "outputs": []
    },
    {
      "metadata": {
        "colab_type": "text",
        "id": "T9JZIQ9nD5ap"
      },
      "cell_type": "markdown",
      "source": [
        "デモデータセットの準備が整ったら、線形回帰モデルを作成してモデルを訓練することができます。\n",
        "実行には約** 4分**かかります。"
      ]
    },
    {
      "metadata": {
        "id": "Tid5r9EFOy2y",
        "colab_type": "code",
        "colab": {}
      },
      "cell_type": "code",
      "source": [
        "%%bigquery --project {project_id}\n",
        "CREATE or REPLACE MODEL demo.babyweight_model_asis\n",
        "OPTIONS\n",
        "  (model_type='linear_reg', labels=['weight_pounds']) AS\n",
        "  \n",
        "WITH natality_data AS (\n",
        "  SELECT\n",
        "    weight_pounds,-- 回帰分析のラベル\n",
        "    is_male AS is_male,\n",
        "    mother_age,\n",
        "    plurality,\n",
        "    gestation_weeks,\n",
        "    ABS(FARM_FINGERPRINT(CONCAT(CAST(YEAR AS STRING), CAST(month AS STRING)))) AS hashmonth\n",
        "  FROM\n",
        "    publicdata.samples.natality\n",
        "  WHERE\n",
        "    year > 2000\n",
        "    AND gestation_weeks > 0\n",
        "    AND mother_age > 0\n",
        "    AND plurality > 0\n",
        "    AND weight_pounds > 0\n",
        ")\n",
        "\n",
        "SELECT\n",
        "    weight_pounds,\n",
        "    is_male,\n",
        "    mother_age,\n",
        "    plurality,\n",
        "    gestation_weeks\n",
        "FROM\n",
        "    natality_data\n",
        "WHERE\n",
        "  MOD(hashmonth, 4) < 3  -- select 75% of the data as training\n",
        "LIMIT 19"
      ],
      "execution_count": 0,
      "outputs": []
    },
    {
      "metadata": {
        "id": "QCPMEY7JSqCl",
        "colab_type": "code",
        "colab": {}
      },
      "cell_type": "code",
      "source": [
        "data.weight_pounds.mad() # MAE, MAD = Mean Absolute Error, Mean Absolute Difference"
      ],
      "execution_count": 0,
      "outputs": []
    },
    {
      "metadata": {
        "colab_type": "text",
        "id": "mJYtGxWyD5at"
      },
      "cell_type": "markdown",
      "source": [
        "## モデルの精度"
      ]
    },
    {
      "metadata": {
        "colab_type": "text",
        "id": "0L92s-gtD5au"
      },
      "cell_type": "markdown",
      "source": [
        "上記の平均絶対誤差 (`mean_absolute_error`) 値 `1.05`. よりも下回れば、期待した精度になっていると言えます。平均絶対誤差は、予測ラベルと実際のラベルとの差の平均値です。\n"
      ]
    },
    {
      "metadata": {
        "colab_type": "code",
        "id": "ZbV6aDcRD5au",
        "colab": {}
      },
      "cell_type": "code",
      "source": [
        "%%bigquery --project {project_id} df\n",
        "select * from ml.EVALUATE(MODEL demo.babyweight_model_asis);"
      ],
      "execution_count": 0,
      "outputs": []
    },
    {
      "metadata": {
        "colab_type": "text",
        "id": "9QPwMA_ZD5a3"
      },
      "cell_type": "markdown",
      "source": [
        "## BQML モデルで予測を実行"
      ]
    },
    {
      "metadata": {
        "colab_type": "text",
        "id": "9QBZxMb6D5a5"
      },
      "cell_type": "markdown",
      "source": [
        "訓練されたモデルで値を予測することが可能になりました。\n",
        "\n",
        "`ml.predict`関数を利用すると、モデルの出力予測列名は` predicted_ <label_column_name> `になります。"
      ]
    },
    {
      "metadata": {
        "colab_type": "code",
        "id": "x-hedqSeD5a6",
        "colab": {}
      },
      "cell_type": "code",
      "source": [
        "%%bigquery --project {project_id}\n",
        "SELECT\n",
        "  *\n",
        "FROM\n",
        "  ml.PREDICT(MODEL demo.babyweight_model_asis,\n",
        "      (SELECT\n",
        "        weight_pounds,\n",
        "        is_male,\n",
        "        mother_age,\n",
        "        plurality AS plurality,\n",
        "        gestation_weeks\n",
        "      FROM\n",
        "        publicdata.samples.natality\n",
        "      WHERE\n",
        "        year > 2000\n",
        "        AND gestation_weeks > 0\n",
        "        AND mother_age > 0\n",
        "        AND plurality > 0\n",
        "        AND weight_pounds > 0\n",
        "    ))\n",
        "LIMIT 10"
      ],
      "execution_count": 0,
      "outputs": []
    },
    {
      "metadata": {
        "colab_type": "text",
        "id": "EGo8fj9qD5bU"
      },
      "cell_type": "markdown",
      "source": [
        "28際の母親から38週で生まれた赤ちゃんの体重を以下のように予測してみます。"
      ]
    },
    {
      "metadata": {
        "id": "f5BT2nsYWcpJ",
        "colab_type": "code",
        "colab": {}
      },
      "cell_type": "code",
      "source": [
        "\n",
        "%%bigquery --project {project_id}\n",
        "SELECT\n",
        "  *\n",
        "FROM\n",
        "  ml.PREDICT(MODEL demo.babyweight_model_asis,\n",
        "      (SELECT\n",
        "          TRUE AS is_male,\n",
        "          28 AS mother_age,\n",
        "          1 AS plurality,\n",
        "          38 AS gestation_weeks\n",
        "    ))"
      ],
      "execution_count": 0,
      "outputs": []
    }
  ]
}
