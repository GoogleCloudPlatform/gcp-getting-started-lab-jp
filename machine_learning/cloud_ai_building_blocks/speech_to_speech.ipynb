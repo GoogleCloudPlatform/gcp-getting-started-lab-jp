{
  "nbformat": 4,
  "nbformat_minor": 0,
  "metadata": {
    "colab": {
      "name": "speech-to-speech.ipynb",
      "version": "0.3.2",
      "provenance": [],
      "collapsed_sections": [
        "Vp6rHT_dRmgl",
        "0GQBWh9yVTTt",
        "2OWkkepTWSbG",
        "-1_8uwnLXcHF",
        "3lGubI3SZiIm",
        "VPlSuRQgbn2P"
      ],
      "include_colab_link": true
    },
    "kernelspec": {
      "name": "python3",
      "display_name": "Python 3"
    }
  },
  "cells": [
    {
      "cell_type": "markdown",
      "metadata": {
        "id": "view-in-github",
        "colab_type": "text"
      },
      "source": [
        "<a href=\"https://colab.research.google.com/github/GoogleCloudPlatform/gcp-getting-started-lab-jp/blob/master/machine_learning/cloud_ai_building_blocks/speech_to_speech.ipynb\" target=\"_parent\"><img src=\"https://colab.research.google.com/assets/colab-badge.svg\" alt=\"Open In Colab\"/></a>"
      ]
    },
    {
      "cell_type": "markdown",
      "metadata": {
        "id": "6Uv7HNj2RemH",
        "colab_type": "text"
      },
      "source": [
        "\n",
        "--- \n",
        "```\n",
        "Copyright 2019 Google LLC\n",
        "\n",
        "Licensed under the Apache License, Version 2.0 (the \"License\");\n",
        "you may not use this file except in compliance with the License.\n",
        "You may obtain a copy of the License at\n",
        "\n",
        "    https://www.apache.org/licenses/LICENSE-2.0\n",
        "\n",
        "Unless required by applicable law or agreed to in writing, software\n",
        "distributed under the License is distributed on an \"AS IS\" BASIS,\n",
        "WITHOUT WARRANTIES OR CONDITIONS OF ANY KIND, either express or implied.\n",
        "See the License for the specific language governing permissions and\n",
        "limitations under the License.\n",
        "```\n",
        "---"
      ]
    },
    {
      "cell_type": "markdown",
      "metadata": {
        "id": "Vp6rHT_dRmgl",
        "colab_type": "text"
      },
      "source": [
        "## Google Cloud API の認証情報を入力\n",
        "\n",
        "Google Cloud API を REST インタフェースから利用するために、 [API Key](https://console.cloud.google.com/apis/credentials) を利用します。 Google Cloud Console から API Key をコピーしましょう。"
      ]
    },
    {
      "cell_type": "code",
      "metadata": {
        "id": "csV4mL9oRkQ5",
        "colab_type": "code",
        "colab": {}
      },
      "source": [
        "import getpass\n",
        "APIKEY = getpass.getpass()"
      ],
      "execution_count": 0,
      "outputs": []
    },
    {
      "cell_type": "markdown",
      "metadata": {
        "id": "0GQBWh9yVTTt",
        "colab_type": "text"
      },
      "source": [
        "## 音声データを録音する\n",
        "この手順は Colaboratory でしか動作しません。 Colaboratory を使わない場合は別途 flac 形式の音声データを用意頂く必要があります。"
      ]
    },
    {
      "cell_type": "code",
      "metadata": {
        "id": "ksqWMd8OTU2z",
        "colab_type": "code",
        "colab": {},
        "cellView": "form"
      },
      "source": [
        "#@title このセルを実行して record_audio を定義\n",
        "\n",
        "# Install required libraries and packages\n",
        "!pip install -qq pydub\n",
        "!apt-get -qq update\n",
        "!apt-get -qq install -y ffmpeg\n",
        "\n",
        "# Define record_audio\n",
        "import base64\n",
        "import google.colab\n",
        "import pydub\n",
        "\n",
        "from io import BytesIO\n",
        "\n",
        "def record_audio(file_id, framerate=16000, file_format='flac'):\n",
        "  # Record webm file from Colaboratory.\n",
        "  audio = google.colab._message.blocking_request(\n",
        "    'user_media',\n",
        "    {\n",
        "      'audio': True,\n",
        "      'video': False,\n",
        "      'duration': -1\n",
        "    },\n",
        "    timeout_sec=600)\n",
        "\n",
        "  # Convert web file into in_memory file.\n",
        "  mfile = BytesIO(base64.b64decode(audio[audio.index(',')+1:]))\n",
        "\n",
        "  # Store webm file locally.\n",
        "  with open('{0}.webm'.format(file_id), 'wb') as f:\n",
        "    mfile.seek(0)\n",
        "    f.write(mfile.read())\n",
        "\n",
        "  # Open stored web file and save it as wav with sample_rate=16000\n",
        "  output_file = '{0}.{1}'.format(file_id, file_format)\n",
        "  _ = pydub.AudioSegment.from_file('{0}.webm'.format(file_id), codec='opus')\n",
        "  _.set_frame_rate(16000).export(output_file, format=file_format)\n",
        "\n",
        "  return output_file"
      ],
      "execution_count": 0,
      "outputs": []
    },
    {
      "cell_type": "markdown",
      "metadata": {
        "id": "QbvsIbWRV20W",
        "colab_type": "text"
      },
      "source": [
        "```record_audio``` を実行して音声を録音します。"
      ]
    },
    {
      "cell_type": "code",
      "metadata": {
        "id": "1W_kbb55UkcF",
        "colab_type": "code",
        "colab": {}
      },
      "source": [
        "record_audio('ja-sample')\n",
        "audio_filename='ja-sample.flac'"
      ],
      "execution_count": 0,
      "outputs": []
    },
    {
      "cell_type": "markdown",
      "metadata": {
        "id": "EAtqr9yJV_9f",
        "colab_type": "text"
      },
      "source": [
        "録音した音声を確認します。"
      ]
    },
    {
      "cell_type": "code",
      "metadata": {
        "id": "KCWAsnYQS8zF",
        "colab_type": "code",
        "colab": {}
      },
      "source": [
        "from IPython.display import Audio\n",
        "Audio(audio_filename, rate=16000)"
      ],
      "execution_count": 0,
      "outputs": []
    },
    {
      "cell_type": "markdown",
      "metadata": {
        "id": "2OWkkepTWSbG",
        "colab_type": "text"
      },
      "source": [
        "## Cloud Speech-to-Text API で音声データをテキスト化する"
      ]
    },
    {
      "cell_type": "code",
      "metadata": {
        "id": "DbtLqdrIV1Qu",
        "colab_type": "code",
        "colab": {}
      },
      "source": [
        "from googleapiclient.discovery import build\n",
        "speech_service = build('speech', 'v1p1beta1', developerKey=APIKEY)"
      ],
      "execution_count": 0,
      "outputs": []
    },
    {
      "cell_type": "markdown",
      "metadata": {
        "id": "0EwbFsCyWiil",
        "colab_type": "text"
      },
      "source": [
        "Cloud Speech-to-Text API に入力する情報を定義します."
      ]
    },
    {
      "cell_type": "code",
      "metadata": {
        "id": "aMAg9L-aWbZ0",
        "colab_type": "code",
        "colab": {}
      },
      "source": [
        "from base64 import b64encode\n",
        "from json import dumps\n",
        "\n",
        "audio_filename = \"ja-sample.flac\" #@param {type:\"string\"}\n",
        "\n",
        "with open(audio_filename, 'rb') as audio_file:\n",
        "  content = b64encode(audio_file.read()).decode('utf-8')\n",
        "\n",
        "my_audio = {\n",
        "  'content': content\n",
        "}\n",
        "\n",
        "languageCode = 'ja-JP' #@param [\"en-US\", \"ja-JP\"]\n",
        "model = 'default' #@param [\"command_and_search\", \"phone_call\", \"video\", \"default\"]"
      ],
      "execution_count": 0,
      "outputs": []
    },
    {
      "cell_type": "markdown",
      "metadata": {
        "id": "mcWtQCITWyGL",
        "colab_type": "text"
      },
      "source": [
        "Cloud Speech-to-Text API の動作オプションを指定するための [RecognitionConfig](https://cloud.google.com/speech-to-text/docs/reference/rest/v1p1beta1/RecognitionConfig) を定義します。"
      ]
    },
    {
      "cell_type": "code",
      "metadata": {
        "id": "eWf3DnpKWqOh",
        "colab_type": "code",
        "colab": {}
      },
      "source": [
        "my_recognition_config = {\n",
        "  'encoding': 'FLAC',\n",
        "  'sampleRateHertz': 16000,\n",
        "  'languageCode': languageCode,\n",
        "  'model': model\n",
        "}"
      ],
      "execution_count": 0,
      "outputs": []
    },
    {
      "cell_type": "markdown",
      "metadata": {
        "id": "HbJn1wbeW2nU",
        "colab_type": "text"
      },
      "source": [
        "Cloud Speech-to-Text のリクエスト Body を定義します。"
      ]
    },
    {
      "cell_type": "code",
      "metadata": {
        "id": "6abiXrrLW0ML",
        "colab_type": "code",
        "colab": {}
      },
      "source": [
        "my_request_body={\n",
        "  'audio': my_audio,\n",
        "  'config': my_recognition_config,\n",
        "}"
      ],
      "execution_count": 0,
      "outputs": []
    },
    {
      "cell_type": "markdown",
      "metadata": {
        "id": "DEs7HZcQW_6N",
        "colab_type": "text"
      },
      "source": [
        "Cloud Speech-to-Text にリクエストを送信します。"
      ]
    },
    {
      "cell_type": "code",
      "metadata": {
        "id": "cQOA2iemW4TB",
        "colab_type": "code",
        "colab": {}
      },
      "source": [
        "response = speech_service.speech().recognize(body=my_request_body).execute()"
      ],
      "execution_count": 0,
      "outputs": []
    },
    {
      "cell_type": "markdown",
      "metadata": {
        "id": "82P16cKiXLrO",
        "colab_type": "text"
      },
      "source": [
        "Cloud Speech-to-Text のレスポンスの中身を確認します。"
      ]
    },
    {
      "cell_type": "code",
      "metadata": {
        "id": "gUqu_vG5XDt5",
        "colab_type": "code",
        "colab": {}
      },
      "source": [
        "import pprint\n",
        "pprint.pprint(response)"
      ],
      "execution_count": 0,
      "outputs": []
    },
    {
      "cell_type": "markdown",
      "metadata": {
        "id": "eV3UtGJIY9i-",
        "colab_type": "text"
      },
      "source": [
        "レスポンスから日本語のテキストのみを抽出します。"
      ]
    },
    {
      "cell_type": "code",
      "metadata": {
        "id": "8d2LmtD0YNNj",
        "colab_type": "code",
        "colab": {}
      },
      "source": [
        "ja_text = response['results'][0]['alternatives'][0]['transcript']"
      ],
      "execution_count": 0,
      "outputs": []
    },
    {
      "cell_type": "markdown",
      "metadata": {
        "id": "-1_8uwnLXcHF",
        "colab_type": "text"
      },
      "source": [
        "## Cloud Translation API で日本語テキストを英語テキストに翻訳する\n",
        "Cloud Translation API では、数千もの言語ペアの間でダイナミックにテキストを翻訳できます。 Cloud Translation API を使えば、プログラム上でウェブサイトやアプリケーションを Google Translate と統合できます。"
      ]
    },
    {
      "cell_type": "code",
      "metadata": {
        "id": "56YQk9dDXfhe",
        "colab_type": "code",
        "colab": {}
      },
      "source": [
        "from googleapiclient.discovery import build\n",
        "translate_service = build('translate', 'v2', developerKey=APIKEY)"
      ],
      "execution_count": 0,
      "outputs": []
    },
    {
      "cell_type": "markdown",
      "metadata": {
        "id": "pQ-ytgpOX6eN",
        "colab_type": "text"
      },
      "source": [
        "Cloud Translation API に入力する情報を定義します。"
      ]
    },
    {
      "cell_type": "code",
      "metadata": {
        "id": "U8HV7TjpX3hp",
        "colab_type": "code",
        "colab": {}
      },
      "source": [
        "source_language = \"ja\" #@param [\"en\", \"ja\"] {type: \"string\"}\n",
        "target_language = \"en\" #@param [\"en\", \"ja\"] {type: \"string\"}"
      ],
      "execution_count": 0,
      "outputs": []
    },
    {
      "cell_type": "markdown",
      "metadata": {
        "id": "6RU_xDqKYqOi",
        "colab_type": "text"
      },
      "source": [
        "Cloud Translation API を実行します。"
      ]
    },
    {
      "cell_type": "code",
      "metadata": {
        "id": "SC4aWF_EX_xy",
        "colab_type": "code",
        "colab": {}
      },
      "source": [
        "response = translate_service.translations().list(\n",
        "  source=source_language,\n",
        "  target=target_language,\n",
        "  q=ja_text,\n",
        "  model='nmt',\n",
        "  format='html').execute()"
      ],
      "execution_count": 0,
      "outputs": []
    },
    {
      "cell_type": "markdown",
      "metadata": {
        "id": "Ex9Do_QPYwHV",
        "colab_type": "text"
      },
      "source": [
        "Cloud Translation API のレスポンスの中身を確認します。"
      ]
    },
    {
      "cell_type": "code",
      "metadata": {
        "id": "A_e2qENAYb7W",
        "colab_type": "code",
        "colab": {}
      },
      "source": [
        "import pprint\n",
        "pprint.pprint(response)"
      ],
      "execution_count": 0,
      "outputs": []
    },
    {
      "cell_type": "markdown",
      "metadata": {
        "id": "oiguEVlfZYyM",
        "colab_type": "text"
      },
      "source": [
        "レスポンスから英語のテキストのみを抽出します。"
      ]
    },
    {
      "cell_type": "code",
      "metadata": {
        "id": "3Q5-6FjvY8iF",
        "colab_type": "code",
        "colab": {}
      },
      "source": [
        "en_text = response['translations'][0]['translatedText']"
      ],
      "execution_count": 0,
      "outputs": []
    },
    {
      "cell_type": "markdown",
      "metadata": {
        "id": "3lGubI3SZiIm",
        "colab_type": "text"
      },
      "source": [
        "## Cloud Natural Language API で固有名詞を検出する"
      ]
    },
    {
      "cell_type": "code",
      "metadata": {
        "id": "ohDom0_WZgkK",
        "colab_type": "code",
        "colab": {}
      },
      "source": [
        "from googleapiclient.discovery import build\n",
        "language_service = build('language', 'v1beta2', developerKey=APIKEY)"
      ],
      "execution_count": 0,
      "outputs": []
    },
    {
      "cell_type": "code",
      "metadata": {
        "id": "pxswEHGTZplq",
        "colab_type": "code",
        "colab": {}
      },
      "source": [
        "source_language = \"en\" #@param [\"en\", \"ja\"] {type: \"string\"}\n",
        "document_type = \"PLAIN_TEXT\" #@param[\"PLAIN_TEXT\", \"HTML\"] {type: \"string\"}\n",
        "encoding_type = \"UTF8\" #@param[\"UTF8\", \"UTF16\", \"UTF32\"] {type: \"string\"}"
      ],
      "execution_count": 0,
      "outputs": []
    },
    {
      "cell_type": "markdown",
      "metadata": {
        "id": "XSk7VrN2Z14s",
        "colab_type": "text"
      },
      "source": [
        "Cloud Natural Language API のエンティティ分析を実行します"
      ]
    },
    {
      "cell_type": "code",
      "metadata": {
        "id": "k35FLvJ5ZuYM",
        "colab_type": "code",
        "colab": {}
      },
      "source": [
        "response = language_service.documents().analyzeEntities(\n",
        "  body={\n",
        "    'document': {\n",
        "      'type': document_type,\n",
        "      'content': en_text,\n",
        "      'language': source_language,\n",
        "    },\n",
        "    'encodingType': encoding_type,\n",
        "  }\n",
        ").execute()"
      ],
      "execution_count": 0,
      "outputs": []
    },
    {
      "cell_type": "markdown",
      "metadata": {
        "id": "JM30qSQJZ7M4",
        "colab_type": "text"
      },
      "source": [
        "Cloud Natural Language API のエンティティ分析のレスポンスを確認します。"
      ]
    },
    {
      "cell_type": "code",
      "metadata": {
        "id": "NNPX_jbyZ-qa",
        "colab_type": "code",
        "colab": {}
      },
      "source": [
        "import pprint\n",
        "pprint.pprint(response)"
      ],
      "execution_count": 0,
      "outputs": []
    },
    {
      "cell_type": "markdown",
      "metadata": {
        "id": "jFz6Q5yabduZ",
        "colab_type": "text"
      },
      "source": [
        "レスポンスの中から固有名詞を抽出します。"
      ]
    },
    {
      "cell_type": "code",
      "metadata": {
        "id": "Za4RdjmCZ_PG",
        "colab_type": "code",
        "colab": {}
      },
      "source": [
        "proper_nouns = []\n",
        "\n",
        "entities = response['entities']\n",
        "for entity in entities:\n",
        "  mentions = entity['mentions']\n",
        "  for mention in mentions:\n",
        "    if mention['type'] == 'PROPER':\n",
        "      proper_nouns.append(mention['text']['content'])\n",
        "\n",
        "print(proper_nouns)"
      ],
      "execution_count": 0,
      "outputs": []
    },
    {
      "cell_type": "markdown",
      "metadata": {
        "id": "VPlSuRQgbn2P",
        "colab_type": "text"
      },
      "source": [
        "## Cloud Text-to-Speech API で英語音声を合成する"
      ]
    },
    {
      "cell_type": "code",
      "metadata": {
        "id": "p3kmD0DrbY2K",
        "colab_type": "code",
        "colab": {}
      },
      "source": [
        "from googleapiclient.discovery import build\n",
        "texttospeech_service = build('texttospeech', 'v1beta1', developerKey=APIKEY)"
      ],
      "execution_count": 0,
      "outputs": []
    },
    {
      "cell_type": "markdown",
      "metadata": {
        "id": "UhvYhi4vcOjO",
        "colab_type": "text"
      },
      "source": [
        "### テキストから音声を合成する\n",
        "\n",
        "[text.synthesize](https://cloud.google.com/text-to-speech/docs/reference/rest/v1beta1/text/synthesize) メソッドを使用すると、単語や文を自然な人間の音声の base64 でエンコードされた音声データに変換できます。このメソッドは、入力を生のテキストまたは[音声合成マークアップ言語（SSML）](https://cloud.google.com/text-to-speech/docs/ssml)として受け入れます。なお、合成する音声の種類は音声のサンプル付で[こちら](https://cloud.google.com/text-to-speech/docs/voices)に記載されています。"
      ]
    },
    {
      "cell_type": "code",
      "metadata": {
        "id": "5sMwffE9cE2X",
        "colab_type": "code",
        "colab": {}
      },
      "source": [
        "source_language = \"en-US\" #@param {type: \"string\"}\n",
        "audio_encoding = 'OGG_OPUS' #@param ['OGG_OPUS', 'LINEAR16', 'MP3']\n",
        "voice_gender = 'SSML_VOICE_GENDER_UNSPECIFIED' #@param ['FEMALE', 'MALE', 'NEUTRAL', 'SSML_VOICE_GENDER_UNSPECIFIED']\n",
        "voice_name = 'en-US-Wavenet-D' #@param {type: \"string\"}"
      ],
      "execution_count": 0,
      "outputs": []
    },
    {
      "cell_type": "markdown",
      "metadata": {
        "id": "jq201W77cP_G",
        "colab_type": "text"
      },
      "source": [
        "### 英語音声を合成する"
      ]
    },
    {
      "cell_type": "code",
      "metadata": {
        "id": "uK_5I7KicLYy",
        "colab_type": "code",
        "colab": {}
      },
      "source": [
        "response = texttospeech_service.text().synthesize(\n",
        "  body={\n",
        "    'input': {\n",
        "      'text': en_text,\n",
        "    },\n",
        "    'voice': {\n",
        "      'languageCode': source_language,\n",
        "      'ssmlGender': voice_gender,\n",
        "      'name': voice_name,\n",
        "    },\n",
        "    'audioConfig': {\n",
        "      'audioEncoding': audio_encoding,\n",
        "    },\n",
        "  }\n",
        ").execute()"
      ],
      "execution_count": 0,
      "outputs": []
    },
    {
      "cell_type": "code",
      "metadata": {
        "id": "-Bp0fDEpfP16",
        "colab_type": "code",
        "colab": {}
      },
      "source": [
        "import base64\n",
        "from IPython.display import Audio\n",
        "\n",
        "Audio(base64.b64decode(response['audioContent']))"
      ],
      "execution_count": 0,
      "outputs": []
    },
    {
      "cell_type": "markdown",
      "metadata": {
        "id": "nnEZ8bMnfhcd",
        "colab_type": "text"
      },
      "source": [
        "### 音声マークアップを利用して固有名詞を強調した音声を合成する"
      ]
    },
    {
      "cell_type": "code",
      "metadata": {
        "id": "PczaNfqOfoeD",
        "colab_type": "code",
        "colab": {}
      },
      "source": [
        "en_ssml = \"\"\"<speak>{0}</speak>\"\"\".format(en_text)\n",
        "for proper_noun in proper_nouns:\n",
        "  en_ssml = en_ssml.replace(\n",
        "      proper_noun,\n",
        "      '<prosody rate=\"slow\" volume=\"loud\">{0}</prosody>'.format(proper_noun))\n",
        "\n",
        "print(en_ssml)"
      ],
      "execution_count": 0,
      "outputs": []
    },
    {
      "cell_type": "code",
      "metadata": {
        "id": "v9GLrHlLgIr9",
        "colab_type": "code",
        "colab": {}
      },
      "source": [
        "response = texttospeech_service.text().synthesize(\n",
        "  body={\n",
        "    'input': {\n",
        "      'ssml': en_ssml,\n",
        "    },\n",
        "    'voice': {\n",
        "      'languageCode': source_language,\n",
        "      'ssmlGender': voice_gender,\n",
        "      'name': voice_name,\n",
        "    },\n",
        "    'audioConfig': {\n",
        "      'audioEncoding': audio_encoding,\n",
        "    },\n",
        "  }\n",
        ").execute()"
      ],
      "execution_count": 0,
      "outputs": []
    },
    {
      "cell_type": "code",
      "metadata": {
        "id": "Tdze2nAjgKEK",
        "colab_type": "code",
        "colab": {}
      },
      "source": [
        "import base64\n",
        "from IPython.display import Audio\n",
        "\n",
        "Audio(base64.b64decode(response['audioContent']))"
      ],
      "execution_count": 0,
      "outputs": []
    }
  ]
}