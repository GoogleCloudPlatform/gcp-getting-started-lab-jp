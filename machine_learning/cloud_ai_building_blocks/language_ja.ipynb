{
  "nbformat": 4,
  "nbformat_minor": 0,
  "metadata": {
    "colab": {
      "name": "language_ja",
      "version": "0.3.2",
      "provenance": [],
      "collapsed_sections": [
        "ifmLrz6aOc1y",
        "gAifg1LVBCyJ",
        "ZV3n06DDAZya",
        "aOX38r8oAzOc",
        "prYMj5yliBCn",
        "ITxnMYwD-njf",
        "tUDIOJ-iF4fU",
        "cw6EjNhxEdeC",
        "RNH1HmaX9j53"
      ],
      "toc_visible": true,
      "include_colab_link": true
    },
    "kernelspec": {
      "name": "python3",
      "display_name": "Python 3"
    }
  },
  "cells": [
    {
      "cell_type": "markdown",
      "metadata": {
        "id": "view-in-github",
        "colab_type": "text"
      },
      "source": [
        "<a href=\"https://colab.research.google.com/github/GoogleCloudPlatform/gcp-getting-started-lab-jp/blob/master/machine_learning/cloud_ai_building_blocks/language_ja.ipynb\" target=\"_parent\"><img src=\"https://colab.research.google.com/assets/colab-badge.svg\" alt=\"Open In Colab\"/></a>"
      ]
    },
    {
      "cell_type": "markdown",
      "metadata": {
        "id": "5PxyE_pB2xRs",
        "colab_type": "text"
      },
      "source": [
        "\n",
        "--- \n",
        "```\n",
        "Copyright 2019 Google LLC\n",
        "\n",
        "Licensed under the Apache License, Version 2.0 (the \"License\");\n",
        "you may not use this file except in compliance with the License.\n",
        "You may obtain a copy of the License at\n",
        "\n",
        "    https://www.apache.org/licenses/LICENSE-2.0\n",
        "\n",
        "Unless required by applicable law or agreed to in writing, software\n",
        "distributed under the License is distributed on an \"AS IS\" BASIS,\n",
        "WITHOUT WARRANTIES OR CONDITIONS OF ANY KIND, either express or implied.\n",
        "See the License for the specific language governing permissions and\n",
        "limitations under the License.\n",
        "```\n",
        "---"
      ]
    },
    {
      "cell_type": "markdown",
      "metadata": {
        "id": "tydnRRNqssaY",
        "colab_type": "text"
      },
      "source": [
        "## 事前準備\n",
        "\n",
        "\n",
        "\n",
        "1.   [GCP プロジェクト](https://console.cloud.google.com/cloud-resource-manager) を作成します。\n",
        "2.   [課金設定](https://support.google.com/cloud/answer/6293499#enable-billing) を有効にします。\n",
        "3.   [API Key](https://console.cloud.google.com/apis/credentials) を作成します。\n",
        "4.   [Cloud Natural Language API と Cloud Translation API](https://console.cloud.google.com/flows/enableapi?apiid=translate.googleapis.com,language.googleapis.com) を有効にします。\n",
        "\n"
      ]
    },
    {
      "cell_type": "markdown",
      "metadata": {
        "id": "ZyKVGuy4ckAn",
        "colab_type": "text"
      },
      "source": [
        "## Google Cloud API の認証情報を入力\n",
        "\n",
        "Google Cloud API を REST インタフェースから利用するために、 [API Key](https://console.cloud.google.com/apis/credentials) を利用します。 Google Cloud Console から API Key をコピーしましょう。"
      ]
    },
    {
      "cell_type": "code",
      "metadata": {
        "id": "LKAPUQ8hAnpc",
        "colab_type": "code",
        "colab": {}
      },
      "source": [
        "import getpass\n",
        "\n",
        "APIKEY = getpass.getpass()"
      ],
      "execution_count": 0,
      "outputs": []
    },
    {
      "cell_type": "markdown",
      "metadata": {
        "id": "ifmLrz6aOc1y",
        "colab_type": "text"
      },
      "source": [
        "## Cloud Natural Language API を使ってみよう !\n",
        "**Cloud Natural Language API** は、エンティティ分析、感情分析、コンテンツ分類、構文解析などの自然言語を理解するための技術をデベロッパーに提供します。"
      ]
    },
    {
      "cell_type": "markdown",
      "metadata": {
        "id": "9KuUC22D0NUs",
        "colab_type": "text"
      },
      "source": [
        "API Discovery Service を利用して **Cloud Natural Language API** を発見します。 Cloud Natural Language の REST API 仕様は [こちら](https://cloud.google.com/natural-language/docs/reference/rest/) に解説されています。\n",
        "\n"
      ]
    },
    {
      "cell_type": "code",
      "metadata": {
        "id": "ezKcIGviNp7w",
        "colab_type": "code",
        "colab": {}
      },
      "source": [
        "from googleapiclient.discovery import build\n",
        "\n",
        "nl_service = build('language', 'v1beta2', developerKey=APIKEY)"
      ],
      "execution_count": 0,
      "outputs": []
    },
    {
      "cell_type": "markdown",
      "metadata": {
        "id": "k-L-vfdP0-WX",
        "colab_type": "text"
      },
      "source": [
        "Cloud Natural Language API に入力する情報を定義します。"
      ]
    },
    {
      "cell_type": "code",
      "metadata": {
        "id": "wBVjyEJkOnTR",
        "colab_type": "code",
        "cellView": "form",
        "colab": {}
      },
      "source": [
        "import textwrap\n",
        "\n",
        "source_language = \"en\" #@param [\"en\", \"ja\"] {type: \"string\"}\n",
        "source_sentence = \"Classifying Opinion and Editorials can be time-consuming and difficult work for any data science team, but Cloud Natural Language was able to instantly identify clear topics with a high-level of confidence. This tool has saved me weeks, if not months, of work to achieve a level of accuracy that may not have been possible with our in-house resources.\" #@param {type:\"string\"}\n",
        "\n",
        "document_type = \"PLAIN_TEXT\" #@param[\"PLAIN_TEXT\", \"HTML\"] {type: \"string\"}\n",
        "encoding_type = \"UTF8\" #@param[\"UTF8\", \"UTF16\", \"UTF32\"] {type: \"string\"}\n",
        "\n",
        "textwrap.wrap(source_sentence)"
      ],
      "execution_count": 0,
      "outputs": []
    },
    {
      "cell_type": "markdown",
      "metadata": {
        "id": "gAifg1LVBCyJ",
        "colab_type": "text"
      },
      "source": [
        "### エンティティ分析\n",
        "\n",
        "**エンティティ分析**は、指定されたテキストに既知のエンティティ（著名人、ランドマークなどの固有名詞）が含まれていないかどうかを調べて、それらのエンティティに関する情報を返します。エンティティ分析に関する REST API 仕様は[こちら](https://cloud.google.com/natural-language/docs/reference/rest/v1beta2/documents/analyzeEntities)で解説されています。"
      ]
    },
    {
      "cell_type": "code",
      "metadata": {
        "id": "sDvSWlIrBCLZ",
        "colab_type": "code",
        "colab": {}
      },
      "source": [
        "response = nl_service.documents().analyzeEntities(\n",
        "  body={\n",
        "    'document': {\n",
        "      'type': document_type,\n",
        "      'content': source_sentence,\n",
        "      'language': source_language,\n",
        "    },\n",
        "    'encodingType': encoding_type,\n",
        "  }\n",
        ").execute()"
      ],
      "execution_count": 0,
      "outputs": []
    },
    {
      "cell_type": "code",
      "metadata": {
        "id": "5P4M1_sADjUw",
        "colab_type": "code",
        "colab": {}
      },
      "source": [
        "# Below code is extracting only proper nouns from a response message. If you\n",
        "# have interest on what information is exactly contained in a response message,\n",
        "# please try to explore it :D\n",
        "\n",
        "for entity in response['entities']:\n",
        "  for mention in entity['mentions']:\n",
        "    if mention['type'] == 'PROPER':\n",
        "      print(mention, entity['metadata'])"
      ],
      "execution_count": 0,
      "outputs": []
    },
    {
      "cell_type": "markdown",
      "metadata": {
        "id": "ZV3n06DDAZya",
        "colab_type": "text"
      },
      "source": [
        "### 感情分析\n",
        "\n",
        "**感情分析**は、指定されたテキストを調べて、そのテキストの背景にある感情的な考え方を分析します。具体的には、執筆者の考え方がポジティブか、ネガティブか、ニュートラルかを判断します。感情分析に関する REST API 仕様は[こちら](https://cloud.google.com/natural-language/docs/reference/rest/v1beta2/documents/analyzeSentiment)で解説されています。"
      ]
    },
    {
      "cell_type": "code",
      "metadata": {
        "id": "8wZhfjlfOsvp",
        "colab_type": "code",
        "colab": {}
      },
      "source": [
        "response = nl_service.documents().analyzeSentiment(\n",
        "  body={\n",
        "    'document': {\n",
        "      'type': document_type,\n",
        "      'content': source_sentence,\n",
        "      'language': source_language,\n",
        "    },\n",
        "    'encodingType': encoding_type,\n",
        "  }\n",
        ").execute()"
      ],
      "execution_count": 0,
      "outputs": []
    },
    {
      "cell_type": "code",
      "metadata": {
        "id": "rzhe-FTuHMa4",
        "colab_type": "code",
        "colab": {}
      },
      "source": [
        "# This shows you document-level sentiment.\n",
        "response['documentSentiment']"
      ],
      "execution_count": 0,
      "outputs": []
    },
    {
      "cell_type": "code",
      "metadata": {
        "id": "dhqhI2eBHY2R",
        "colab_type": "code",
        "colab": {}
      },
      "source": [
        "# This shows you sentence-level sentiment.\n",
        "for sentence in response['sentences']:\n",
        "  print(sentence['sentiment'], sentence['text']['content'])"
      ],
      "execution_count": 0,
      "outputs": []
    },
    {
      "cell_type": "markdown",
      "metadata": {
        "id": "aOX38r8oAzOc",
        "colab_type": "text"
      },
      "source": [
        "### コンテンツの分類 (英語のみ)\n",
        "\n",
        "**コンテンツの分類**は、ドキュメントを分析し、ドキュメント内で見つかったテキストに適用されるコンテンツ カテゴリのリストを返します。ドキュメント内のコンテンツを分類するには、[classifyText](https://cloud.google.com/natural-language/docs/reference/rest/v1beta2/documents/classifyText) メソッドを呼び出します。\n",
        "\n"
      ]
    },
    {
      "cell_type": "code",
      "metadata": {
        "id": "p6mIDMlgPD-4",
        "colab_type": "code",
        "colab": {}
      },
      "source": [
        "response = nl_service.documents().classifyText(\n",
        "  body={\n",
        "    'document': {\n",
        "      'type': document_type,\n",
        "      'content': source_sentence,\n",
        "      'language': source_language,\n",
        "    },\n",
        "  }\n",
        ").execute()"
      ],
      "execution_count": 0,
      "outputs": []
    },
    {
      "cell_type": "code",
      "metadata": {
        "id": "N0cE8arJizYT",
        "colab_type": "code",
        "colab": {}
      },
      "source": [
        "response['categories']"
      ],
      "execution_count": 0,
      "outputs": []
    },
    {
      "cell_type": "markdown",
      "metadata": {
        "id": "prYMj5yliBCn",
        "colab_type": "text"
      },
      "source": [
        "### 構文解析\n",
        "\n",
        "**構文解析**では、指定されたテキストを一連の文とトークン（通常は単語）に分解して、それらのトークンに関する言語情報を提供します。ほとんどの Natural Language API メソッドは、指定されたテキストの内容を分析しますが、[analyzeSyntax](https://cloud.google.com/natural-language/docs/reference/rest/v1beta2/documents/analyzeSyntax)  メソッドは、言語自体の構造を検査します。"
      ]
    },
    {
      "cell_type": "code",
      "metadata": {
        "id": "ojKuQAfOiAXn",
        "colab_type": "code",
        "colab": {}
      },
      "source": [
        "response = nl_service.documents().analyzeSyntax(\n",
        "  body={\n",
        "    'document': {\n",
        "      'type': document_type,\n",
        "      'content': source_sentence,\n",
        "      'language': source_language,\n",
        "    },\n",
        "    'encodingType': encoding_type,\n",
        "  }\n",
        ").execute()"
      ],
      "execution_count": 0,
      "outputs": []
    },
    {
      "cell_type": "code",
      "metadata": {
        "id": "BUcEQ-WJiLsb",
        "colab_type": "code",
        "colab": {}
      },
      "source": [
        "# This shows you output of syntax analysis. To leverage this output, you may\n",
        "# need domain knowledge on natural language analysis.\n",
        "\n",
        "response['tokens']"
      ],
      "execution_count": 0,
      "outputs": []
    },
    {
      "cell_type": "markdown",
      "metadata": {
        "id": "ITxnMYwD-njf",
        "colab_type": "text"
      },
      "source": [
        "### 演習問題"
      ]
    },
    {
      "cell_type": "markdown",
      "metadata": {
        "id": "4RAFpvOE-p2F",
        "colab_type": "text"
      },
      "source": [
        "** 1. エンティティ分析で著名人やランドマークを抽出してみましょう。**\n"
      ]
    },
    {
      "cell_type": "markdown",
      "metadata": {
        "id": "bV2eLI-O_RF8",
        "colab_type": "text"
      },
      "source": [
        "** 2. 感情分析をさまざまな文章に対して実行してみましょう。 **"
      ]
    },
    {
      "cell_type": "markdown",
      "metadata": {
        "id": "wwxyo14L-BJk",
        "colab_type": "text"
      },
      "source": [
        "## Cloud Translation API を使ってみよう !\n",
        "\n",
        "** Cloud Translation API** では、数千もの言語ペアの間でダイナミックにテキストを翻訳できます。 Cloud Translation API を使えば、プログラム上でウェブサイトやアプリケーションを Google Translate と統合できます。"
      ]
    },
    {
      "cell_type": "markdown",
      "metadata": {
        "id": "b22Oua1h72N8",
        "colab_type": "text"
      },
      "source": [
        "API Discovery Service を利用して **Cloud Translation API** を発見します。 Cloud Natural Language の REST API 仕様は[こちら](https://cloud.google.com/translate/docs/reference/rest)で解説されています。"
      ]
    },
    {
      "cell_type": "code",
      "metadata": {
        "id": "0gTvennn-CHo",
        "colab_type": "code",
        "colab": {}
      },
      "source": [
        "from googleapiclient.discovery import build\n",
        "\n",
        "translate_service = build('translate', 'v2', developerKey=APIKEY)"
      ],
      "execution_count": 0,
      "outputs": []
    },
    {
      "cell_type": "markdown",
      "metadata": {
        "id": "MKbkmjod8hBW",
        "colab_type": "text"
      },
      "source": [
        "Cloud Translation API に入力する情報を定義します。"
      ]
    },
    {
      "cell_type": "code",
      "metadata": {
        "id": "VvYNcZfp4556",
        "colab_type": "code",
        "cellView": "form",
        "colab": {}
      },
      "source": [
        "import textwrap\n",
        "\n",
        "source_language = \"en\" #@param [\"en\", \"ja\"] {type: \"string\"}\n",
        "target_language = \"ja\" #@param [\"en\", \"ja\"] {type: \"string\"}\n",
        "source_sentence = \"Classifying Opinion and Editorials can be time-consuming and difficult work for any data science team, but Cloud Natural Language was able to instantly identify clear topics with a high-level of confidence. This tool has saved me weeks, if not months, of work to achieve a level of accuracy that may not have been possible with our in-house resources.\" #@param {type:\"string\"}\n",
        "textwrap.wrap(source_sentence, width=50)"
      ],
      "execution_count": 0,
      "outputs": []
    },
    {
      "cell_type": "markdown",
      "metadata": {
        "id": "tUDIOJ-iF4fU",
        "colab_type": "text"
      },
      "source": [
        "### テキストの翻訳\n",
        "\n",
        "[translations](https://cloud.google.com/translate/docs/reference/translate) リクエストを使えば、入力テキストを、指定した言語に翻訳されたテキストを取得することが出来ます。入力テキストには**書式なしテキスト**または **HTML** を使用できます。Cloud Translation API は入力テキスト内の HTML タグは翻訳せず、タグ間にあるテキストのみを翻訳します。出力では、（未翻訳の）HTML タグは保持されます。タグは翻訳されたテキストに合わせて挿入されますが、ソース言語とターゲット言語には差異があるため、その位置調整は可能な範囲に留まります。出力内の HTML タグの順序は、翻訳による語順変化のため入力テキスト内の順序と異なる場合があります。"
      ]
    },
    {
      "cell_type": "code",
      "metadata": {
        "id": "9D_goQ6SF6G4",
        "colab_type": "code",
        "colab": {}
      },
      "source": [
        "# Note that you can change Translation model by changing 'model' parameter.\n",
        "\n",
        "response = translate_service.translations().list(\n",
        "  source=source_language,\n",
        "  target=target_language,\n",
        "  q=source_sentence,\n",
        "  model='nmt',\n",
        "  format='html').execute()"
      ],
      "execution_count": 0,
      "outputs": []
    },
    {
      "cell_type": "code",
      "metadata": {
        "id": "2gKqsTvF85Sj",
        "colab_type": "code",
        "colab": {}
      },
      "source": [
        "text = response['translations'][0]['translatedText']\n",
        "textwrap.wrap(text)"
      ],
      "execution_count": 0,
      "outputs": []
    },
    {
      "cell_type": "markdown",
      "metadata": {
        "id": "cw6EjNhxEdeC",
        "colab_type": "text"
      },
      "source": [
        "### 言語の検出\n",
        "\n",
        "[detections](https://cloud.google.com/translate/docs/reference/detect) リクエストを使えば、入力テキストの言語を特定できます。この機能は使われている言語が不明なテキストを自動的に翻訳するときなどに利用できます。\n"
      ]
    },
    {
      "cell_type": "code",
      "metadata": {
        "id": "GKbHQ-pKFubA",
        "colab_type": "code",
        "colab": {}
      },
      "source": [
        "response = translate_service.detections().list(\n",
        "  q=source_sentence\n",
        ").execute()\n",
        "\n",
        "response['detections']"
      ],
      "execution_count": 0,
      "outputs": []
    },
    {
      "cell_type": "markdown",
      "metadata": {
        "id": "RNH1HmaX9j53",
        "colab_type": "text"
      },
      "source": [
        "### 演習問題"
      ]
    },
    {
      "cell_type": "markdown",
      "metadata": {
        "id": "CesX_3vn9oLT",
        "colab_type": "text"
      },
      "source": [
        "** 1. 翻訳モデルを NMT から PBT に変更するとどうなるか確かめましょう ** "
      ]
    },
    {
      "cell_type": "markdown",
      "metadata": {
        "id": "QIahWrox9poj",
        "colab_type": "text"
      },
      "source": [
        "** 2. 次のテキストを英語に翻訳しましょう: **\n",
        "\n",
        "Google Cloud Translation API'nin en iyi gerçek zamanlı çeviri sonuçlarını ve Google'ın da en güvenilir hizmeti sunduğunu gördük. Çeviri araçları Clash of Kings sohbet hizmetiyle de sorunsuz şekilde entegre oldu."
      ]
    }
  ]
}