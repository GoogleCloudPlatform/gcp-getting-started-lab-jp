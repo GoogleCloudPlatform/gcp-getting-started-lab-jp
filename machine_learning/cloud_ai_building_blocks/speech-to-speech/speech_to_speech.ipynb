{
  "nbformat": 4,
  "nbformat_minor": 0,
  "metadata": {
    "colab": {
      "name": "speech-to-speech.ipynb",
      "version": "0.3.2",
      "provenance": [],
      "collapsed_sections": [],
      "include_colab_link": true
    },
    "kernelspec": {
      "name": "python3",
      "display_name": "Python 3"
    }
  },
  "cells": [
    {
      "cell_type": "markdown",
      "metadata": {
        "id": "view-in-github",
        "colab_type": "text"
      },
      "source": [
        "<a href=\"https://colab.research.google.com/github/GoogleCloudPlatform/gcp-getting-started-lab-jp/blob/master/machine_learning/cloud_ai_building_blocks/speech-to-speech/speech_to_speech.ipynb\" target=\"_parent\"><img src=\"https://colab.research.google.com/assets/colab-badge.svg\" alt=\"Open In Colab\"/></a>"
      ]
    },
    {
      "cell_type": "markdown",
      "metadata": {
        "id": "6Uv7HNj2RemH",
        "colab_type": "text"
      },
      "source": [
        "\n",
        "--- \n",
        "```\n",
        "Copyright 2019 Google LLC\n",
        "\n",
        "Licensed under the Apache License, Version 2.0 (the \"License\");\n",
        "you may not use this file except in compliance with the License.\n",
        "You may obtain a copy of the License at\n",
        "\n",
        "    https://www.apache.org/licenses/LICENSE-2.0\n",
        "\n",
        "Unless required by applicable law or agreed to in writing, software\n",
        "distributed under the License is distributed on an \"AS IS\" BASIS,\n",
        "WITHOUT WARRANTIES OR CONDITIONS OF ANY KIND, either express or implied.\n",
        "See the License for the specific language governing permissions and\n",
        "limitations under the License.\n",
        "```\n",
        "---"
      ]
    },
    {
      "cell_type": "markdown",
      "metadata": {
        "id": "jLz5MUA-4_HQ",
        "colab_type": "text"
      },
      "source": [
        "## 機械学習 API を使い始める準備"
      ]
    },
    {
      "cell_type": "markdown",
      "metadata": {
        "id": "we-mqopc5C2N",
        "colab_type": "text"
      },
      "source": [
        "GCP で機械学習 API を使い始める手順は次の通りです。\n",
        "\n",
        "1. プロジェクトを[作成する](https://pantheon.corp.google.com/projectcreate)\n",
        "\n",
        " GCP コンソール経由で機械学習 API を利用するプロジェクトを作成します。\n",
        "\n",
        "2. 課金設定を[有効にする](https://cloud.google.com/billing/docs/how-to/manage-billing-account?hl=ja)\n",
        "\n",
        " 上記手順 1 で作成したプロジェクトに請求先アカウントを紐づけます。\n",
        "\n",
        "3. 機械学習 API を[有効にする](https://console.cloud.google.com/flows/enableapi?apiid=speech.googleapis.com,translate.googleapis.com,language.googleapis.com,texttospeech.googleapis.com)\n",
        "\n",
        " Speech-to-Speech を作成するために必要な機械学習 API を有効にします。\n",
        "\n",
        "4. API キーを[作成する](https://cloud.google.com/docs/authentication/api-keys?hl=ja)\n",
        "\n",
        " API の認証に利用する API キーを作成します。"
      ]
    },
    {
      "cell_type": "markdown",
      "metadata": {
        "id": "Vp6rHT_dRmgl",
        "colab_type": "text"
      },
      "source": [
        "## 認証情報をコピーする\n",
        "\n",
        "Google Cloud API を REST インタフェースから利用するために、 [API Key](https://console.cloud.google.com/apis/credentials) を利用します。 Google Cloud Console から API Key をコピーしましょう。"
      ]
    },
    {
      "cell_type": "code",
      "metadata": {
        "id": "csV4mL9oRkQ5",
        "colab_type": "code",
        "colab": {}
      },
      "source": [
        "import getpass\n",
        "APIKEY = getpass.getpass()"
      ],
      "execution_count": 0,
      "outputs": []
    },
    {
      "cell_type": "markdown",
      "metadata": {
        "id": "0GQBWh9yVTTt",
        "colab_type": "text"
      },
      "source": [
        "## 音声データを録音する\n",
        "この手順は Colaboratory でしか動作しません。 Colaboratory を使わない場合は別途 flac 形式の音声データを用意頂く必要があります。"
      ]
    },
    {
      "cell_type": "code",
      "metadata": {
        "id": "ksqWMd8OTU2z",
        "colab_type": "code",
        "cellView": "form",
        "colab": {}
      },
      "source": [
        "#@title このセルを実行して record_audio を定義\n",
        "\n",
        "# Install required libraries and packages\n",
        "!pip install -qq pydub\n",
        "!apt-get -qq update\n",
        "!apt-get -qq install -y ffmpeg\n",
        "\n",
        "# Define record_audio\n",
        "import base64\n",
        "import google.colab\n",
        "import pydub\n",
        "\n",
        "from io import BytesIO\n",
        "\n",
        "def record_audio(file_id, framerate=16000, file_format='flac'):\n",
        "  # Record webm file from Colaboratory.\n",
        "  audio = google.colab._message.blocking_request(\n",
        "    'user_media',\n",
        "    {\n",
        "      'audio': True,\n",
        "      'video': False,\n",
        "      'duration': -1\n",
        "    },\n",
        "    timeout_sec=600)\n",
        "\n",
        "  # Convert web file into in_memory file.\n",
        "  mfile = BytesIO(base64.b64decode(audio[audio.index(',')+1:]))\n",
        "\n",
        "  # Store webm file locally.\n",
        "  with open('{0}.webm'.format(file_id), 'wb') as f:\n",
        "    mfile.seek(0)\n",
        "    f.write(mfile.read())\n",
        "\n",
        "  # Open stored web file and save it as wav with sample_rate=16000\n",
        "  output_file = '{0}.{1}'.format(file_id, file_format)\n",
        "  _ = pydub.AudioSegment.from_file('{0}.webm'.format(file_id), codec='opus')\n",
        "  _.set_frame_rate(16000).export(output_file, format=file_format)\n",
        "\n",
        "  return output_file"
      ],
      "execution_count": 0,
      "outputs": []
    },
    {
      "cell_type": "markdown",
      "metadata": {
        "id": "QbvsIbWRV20W",
        "colab_type": "text"
      },
      "source": [
        "```record_audio``` を実行して音声を録音します。\n",
        "\n",
        "試しに 「昨日は東京タワーに行きました。楽しかったです。」と録音してみてください。"
      ]
    },
    {
      "cell_type": "code",
      "metadata": {
        "id": "1W_kbb55UkcF",
        "colab_type": "code",
        "colab": {}
      },
      "source": [
        "record_audio('ja-sample')\n",
        "audio_filename='ja-sample.flac'"
      ],
      "execution_count": 0,
      "outputs": []
    },
    {
      "cell_type": "markdown",
      "metadata": {
        "id": "EAtqr9yJV_9f",
        "colab_type": "text"
      },
      "source": [
        "録音した音声を確認します。"
      ]
    },
    {
      "cell_type": "code",
      "metadata": {
        "id": "KCWAsnYQS8zF",
        "colab_type": "code",
        "colab": {}
      },
      "source": [
        "from IPython.display import Audio\n",
        "Audio(audio_filename, rate=16000)"
      ],
      "execution_count": 0,
      "outputs": []
    },
    {
      "cell_type": "markdown",
      "metadata": {
        "id": "2OWkkepTWSbG",
        "colab_type": "text"
      },
      "source": [
        "## Cloud Speech-to-Text API で音声データをテキスト化する"
      ]
    },
    {
      "cell_type": "code",
      "metadata": {
        "id": "qyfAxA_skO0C",
        "colab_type": "code",
        "colab": {}
      },
      "source": [
        "import base64\n",
        "from googleapiclient.discovery import build\n",
        " \n",
        "# Speech-to-Text API を取得する\n",
        "speech_service = build('speech', 'v1', developerKey=APIKEY)\n",
        " \n",
        "# 音声ファイルを base64 エンコードする\n",
        "with open(\"ja-sample.flac\", 'rb') as audio:\n",
        " audio_content = audio.read()\n",
        " audio_content_b64 = base64.b64encode(audio_content)\n",
        " \n",
        "_audio = {\n",
        " # JSON にシリアライズできるように bytes から string に変換する\n",
        " 'content': audio_content_b64.decode(),\n",
        "}\n",
        "\n",
        "_recognition_config = {\n",
        " 'encoding': 'FLAC',       # 音声コーデックを指定\n",
        " 'sampleRateHertz': 16000, # サンプリング周波数を指定\n",
        " 'languageCode': 'ja-JP',  # 言語を指定\n",
        " 'model': 'default',       # 音声認識モデルの種類を指定\n",
        "}\n",
        "\n",
        "_request_body={\n",
        " 'audio': _audio,\n",
        " 'config': _recognition_config,\n",
        "}\n",
        "\n",
        "# Speech-to-Text API に音声認識のリクエストを送信し、結果を受け取る\n",
        "response = speech_service.speech().recognize(body=_request_body).execute()\n",
        "source_text = response['results'][0]['alternatives'][0]['transcript']\n",
        "\n",
        "print(source_text)"
      ],
      "execution_count": 0,
      "outputs": []
    },
    {
      "cell_type": "code",
      "metadata": {
        "id": "gUqu_vG5XDt5",
        "colab_type": "code",
        "colab": {}
      },
      "source": [
        "import pprint\n",
        "pprint.pprint(response)"
      ],
      "execution_count": 0,
      "outputs": []
    },
    {
      "cell_type": "markdown",
      "metadata": {
        "id": "eV3UtGJIY9i-",
        "colab_type": "text"
      },
      "source": [
        "レスポンスから日本語のテキストのみを抽出します。"
      ]
    },
    {
      "cell_type": "markdown",
      "metadata": {
        "id": "-1_8uwnLXcHF",
        "colab_type": "text"
      },
      "source": [
        "## Cloud Translation API で日本語テキストを英語テキストに翻訳する\n",
        "Cloud Translation API では、数千もの言語ペアの間でダイナミックにテキストを翻訳できます。 Cloud Translation API を使えば、プログラム上でウェブサイトやアプリケーションを Google Translate と統合できます。"
      ]
    },
    {
      "cell_type": "code",
      "metadata": {
        "id": "zUN5Dymqkvlx",
        "colab_type": "code",
        "colab": {}
      },
      "source": [
        "from googleapiclient.discovery import build\n",
        "translate_service = build('translate', 'v2', developerKey=APIKEY)\n",
        " \n",
        "response = translate_service.translations().list(\n",
        "  q=source_text,\n",
        "  source='ja',\n",
        "  target='en',\n",
        "  model='nmt',\n",
        "  format='text'\n",
        ").execute()\n",
        " \n",
        "target_text = response['translations'][0]['translatedText']"
      ],
      "execution_count": 0,
      "outputs": []
    },
    {
      "cell_type": "code",
      "metadata": {
        "id": "56YQk9dDXfhe",
        "colab_type": "code",
        "colab": {}
      },
      "source": [
        "import pprint\n",
        "pprint.pprint(response)"
      ],
      "execution_count": 0,
      "outputs": []
    },
    {
      "cell_type": "markdown",
      "metadata": {
        "id": "pQ-ytgpOX6eN",
        "colab_type": "text"
      },
      "source": [
        "Cloud Translation API に入力する情報を定義します。"
      ]
    },
    {
      "cell_type": "markdown",
      "metadata": {
        "id": "3lGubI3SZiIm",
        "colab_type": "text"
      },
      "source": [
        "## Cloud Natural Language API で固有名詞を検出する"
      ]
    },
    {
      "cell_type": "code",
      "metadata": {
        "id": "Diqlnfi6k5lG",
        "colab_type": "code",
        "colab": {}
      },
      "source": [
        "from googleapiclient.discovery import build\n",
        "language_service = build('language', 'v1', developerKey=APIKEY)\n",
        "\n",
        "_document = {\n",
        "  'content': target_text,\n",
        "  'type': 'PLAIN_TEXT',\n",
        "  'language': 'en',\n",
        "}\n",
        "\n",
        "_body = {\n",
        "    'document': _document,\n",
        "    'encodingType': 'UTF8',\n",
        "}\n",
        "\n",
        "response = language_service.documents().analyzeEntities(body=_body).execute()"
      ],
      "execution_count": 0,
      "outputs": []
    },
    {
      "cell_type": "code",
      "metadata": {
        "id": "RSoojZlKl0jd",
        "colab_type": "code",
        "colab": {}
      },
      "source": [
        "import pprint\n",
        "pprint.pprint(response)"
      ],
      "execution_count": 0,
      "outputs": []
    },
    {
      "cell_type": "markdown",
      "metadata": {
        "id": "jFz6Q5yabduZ",
        "colab_type": "text"
      },
      "source": [
        "レスポンスの中から固有名詞を抽出します。"
      ]
    },
    {
      "cell_type": "code",
      "metadata": {
        "id": "Za4RdjmCZ_PG",
        "colab_type": "code",
        "colab": {}
      },
      "source": [
        "proper_nouns = []\n",
        "\n",
        "entities = response['entities']\n",
        "for entity in entities:\n",
        "  mentions = entity['mentions']\n",
        "  for mention in mentions:\n",
        "    if mention['type'] == 'PROPER':\n",
        "      proper_nouns.append(mention['text']['content'])\n",
        "\n",
        "print(proper_nouns)"
      ],
      "execution_count": 0,
      "outputs": []
    },
    {
      "cell_type": "markdown",
      "metadata": {
        "id": "VPlSuRQgbn2P",
        "colab_type": "text"
      },
      "source": [
        "## Cloud Text-to-Speech API で英語音声を合成する"
      ]
    },
    {
      "cell_type": "code",
      "metadata": {
        "id": "p3kmD0DrbY2K",
        "colab_type": "code",
        "colab": {}
      },
      "source": [
        "from googleapiclient.discovery import build\n",
        "texttospeech_service = build('texttospeech', 'v1beta1', developerKey=APIKEY)\n",
        "\n",
        "_input = {\n",
        "  'text': target_text\n",
        "}\n",
        "\n",
        "_voice = {\n",
        "  'languageCode': 'en-US',\n",
        "  'name': 'en-US-Wavenet-D',\n",
        "}\n",
        "\n",
        "_audio_config = {\n",
        "  'audioEncoding': 'MP3'\n",
        "}\n",
        "\n",
        "_body = {\n",
        "  'input': _input,\n",
        "  'voice': _voice,\n",
        "  'audioConfig': _audio_config\n",
        "}\n",
        "\n",
        "response = texttospeech_service.text().synthesize(body=_body).execute()"
      ],
      "execution_count": 0,
      "outputs": []
    },
    {
      "cell_type": "code",
      "metadata": {
        "id": "fyUmv1lIrWTG",
        "colab_type": "code",
        "colab": {}
      },
      "source": [
        "import base64\n",
        "from IPython.display import Audio\n",
        "\n",
        "Audio(base64.b64decode(response['audioContent']))"
      ],
      "execution_count": 0,
      "outputs": []
    },
    {
      "cell_type": "markdown",
      "metadata": {
        "id": "nnEZ8bMnfhcd",
        "colab_type": "text"
      },
      "source": [
        "### (Option) 音声マークアップを利用して固有名詞を強調した音声を合成する"
      ]
    },
    {
      "cell_type": "code",
      "metadata": {
        "id": "PczaNfqOfoeD",
        "colab_type": "code",
        "colab": {}
      },
      "source": [
        "en_ssml = \"\"\"<speak>{0}</speak>\"\"\".format(target_text)\n",
        "for proper_noun in proper_nouns:\n",
        "  en_ssml = en_ssml.replace(\n",
        "      proper_noun,\n",
        "      '<prosody rate=\"slow\" volume=\"loud\">{0}</prosody>'.format(proper_noun))\n",
        "\n",
        "print(en_ssml)"
      ],
      "execution_count": 0,
      "outputs": []
    },
    {
      "cell_type": "code",
      "metadata": {
        "id": "v9GLrHlLgIr9",
        "colab_type": "code",
        "colab": {}
      },
      "source": [
        "response = texttospeech_service.text().synthesize(\n",
        "  body={\n",
        "    'input': {\n",
        "      'ssml': en_ssml,\n",
        "    },\n",
        "    'voice': {\n",
        "      'languageCode': source_language,\n",
        "      'ssmlGender': voice_gender,\n",
        "      'name': voice_name,\n",
        "    },\n",
        "    'audioConfig': {\n",
        "      'audioEncoding': audio_encoding,\n",
        "    },\n",
        "  }\n",
        ").execute()"
      ],
      "execution_count": 0,
      "outputs": []
    },
    {
      "cell_type": "code",
      "metadata": {
        "id": "Tdze2nAjgKEK",
        "colab_type": "code",
        "colab": {}
      },
      "source": [
        "import base64\n",
        "from IPython.display import Audio\n",
        "\n",
        "Audio(base64.b64decode(response['audioContent']))"
      ],
      "execution_count": 0,
      "outputs": []
    }
  ]
}