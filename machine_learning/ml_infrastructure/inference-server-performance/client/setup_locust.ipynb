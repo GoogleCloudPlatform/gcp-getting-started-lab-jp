{
 "cells": [
  {
   "cell_type": "markdown",
   "metadata": {},
   "source": [
    "# Set up a Locust client container"
   ]
  },
  {
   "cell_type": "code",
   "execution_count": 434,
   "metadata": {},
   "outputs": [
    {
     "name": "stdout",
     "output_type": "stream",
     "text": [
      "Sending build context to Docker daemon  12.31MB\n",
      "Step 1/4 : FROM gcr.io/sandbox-kathryn-ml/tensorrtserver_client\n",
      " ---> c0db5114eee5\n",
      "Step 2/4 : RUN pip install --upgrade locust\n",
      " ---> Using cache\n",
      " ---> 456b71165cd7\n",
      "Step 3/4 : COPY locust locust\n",
      " ---> 93fd01edf7cd\n",
      "Step 4/4 : COPY data data\n",
      " ---> 9a6e7f5a646a\n",
      "Successfully built 9a6e7f5a646a\n",
      "Successfully tagged locust_tester:latest\n",
      "The push refers to repository [gcr.io/sandbox-kathryn-ml/locust_tester]\n",
      "8464088aae03: Preparing\n",
      "bb901fe46084: Preparing\n",
      "8059cffb97be: Preparing\n",
      "7c6974a457f2: Preparing\n",
      "055169cf5da7: Preparing\n",
      "fbd8889d27d6: Preparing\n",
      "db53449549c2: Preparing\n",
      "8d41da6c1def: Preparing\n",
      "1e8317e242a6: Preparing\n",
      "d1bb97cb5fee: Preparing\n",
      "335b8eed7ca7: Preparing\n",
      "2c732f48ceb6: Preparing\n",
      "fb7ac298d8da: Preparing\n",
      "3d1b01769526: Preparing\n",
      "303059468949: Preparing\n",
      "e79142719515: Preparing\n",
      "aeda103e78c9: Preparing\n",
      "2558e637fbff: Preparing\n",
      "f749b9b0fb21: Preparing\n",
      "2c732f48ceb6: Waiting\n",
      "fb7ac298d8da: Waiting\n",
      "d1bb97cb5fee: Waiting\n",
      "3d1b01769526: Waiting\n",
      "db53449549c2: Waiting\n",
      "8d41da6c1def: Waiting\n",
      "303059468949: Waiting\n",
      "1e8317e242a6: Waiting\n",
      "335b8eed7ca7: Waiting\n",
      "e79142719515: Waiting\n",
      "f749b9b0fb21: Waiting\n",
      "aeda103e78c9: Waiting\n",
      "fbd8889d27d6: Waiting\n",
      "7c6974a457f2: Layer already exists\n",
      "8059cffb97be: Layer already exists\n",
      "055169cf5da7: Layer already exists\n",
      "8d41da6c1def: Layer already exists\n",
      "fbd8889d27d6: Layer already exists\n",
      "db53449549c2: Layer already exists\n",
      "d1bb97cb5fee: Layer already exists\n",
      "1e8317e242a6: Layer already exists\n",
      "335b8eed7ca7: Layer already exists\n",
      "2c732f48ceb6: Layer already exists\n",
      "fb7ac298d8da: Layer already exists\n",
      "3d1b01769526: Layer already exists\n",
      "303059468949: Layer already exists\n",
      "e79142719515: Layer already exists\n",
      "aeda103e78c9: Layer already exists\n",
      "2558e637fbff: Layer already exists\n",
      "f749b9b0fb21: Layer already exists\n",
      "bb901fe46084: Pushed\n",
      "8464088aae03: Pushed\n",
      "latest: digest: sha256:f0b274c2389ad58c3f1f54ebbfe351d9a08393a845ea45edb60dfbfe555b852c size: 4307\n"
     ]
    }
   ],
   "source": [
    "%%bash\n",
    "\n",
    "export PROJECT_NAME='sandbox-kathryn-ml'\n",
    "docker build -t locust_tester -f Dockerfile .\n",
    "docker tag locust_tester gcr.io/${PROJECT_NAME}/locust_tester\n",
    "docker push gcr.io/${PROJECT_NAME}/locust_tester"
   ]
  },
  {
   "cell_type": "markdown",
   "metadata": {},
   "source": [
    "## Set up a Locust Cluster"
   ]
  },
  {
   "cell_type": "code",
   "execution_count": 32,
   "metadata": {},
   "outputs": [
    {
     "name": "stdout",
     "output_type": "stream",
     "text": [
      "Overwriting service_master.yaml\n"
     ]
    }
   ],
   "source": [
    "%%writefile service_master.yaml\n",
    "\n",
    "kind: Service\n",
    "apiVersion: v1\n",
    "metadata:\n",
    "  name: locust-master\n",
    "  labels:\n",
    "    app: locust-master\n",
    "spec:\n",
    "  ports:\n",
    "  - name: loc-master\n",
    "    port: 8089\n",
    "    targetPort: 8089\n",
    "    protocol: TCP\n",
    "  - name: loc-master-p1\n",
    "    port: 5557\n",
    "    targetPort: 5557\n",
    "    protocol: TCP\n",
    "  - name: loc-master-p2\n",
    "    port: 5558\n",
    "    targetPort: 5558\n",
    "    protocol: TCP\n",
    "  selector:\n",
    "    app: locust-master\n",
    "  type: LoadBalancer"
   ]
  },
  {
   "cell_type": "code",
   "execution_count": 33,
   "metadata": {},
   "outputs": [
    {
     "name": "stdout",
     "output_type": "stream",
     "text": [
      "service/locust-master created\n"
     ]
    }
   ],
   "source": [
    "!kubectl apply -f service_master.yaml"
   ]
  },
  {
   "cell_type": "code",
   "execution_count": 435,
   "metadata": {},
   "outputs": [
    {
     "name": "stdout",
     "output_type": "stream",
     "text": [
      "10.59.254.225"
     ]
    }
   ],
   "source": [
    "!kubectl get svc inference-server -o \"jsonpath={.spec['clusterIP']}\""
   ]
  },
  {
   "cell_type": "code",
   "execution_count": 436,
   "metadata": {},
   "outputs": [
    {
     "name": "stdout",
     "output_type": "stream",
     "text": [
      "Overwriting deployment_master.yaml\n"
     ]
    }
   ],
   "source": [
    "%%writefile deployment_master.yaml\n",
    "\n",
    "apiVersion: extensions/v1beta1\n",
    "kind: Deployment\n",
    "metadata:\n",
    "  name: locust-master\n",
    "  labels:\n",
    "    name: locust-master\n",
    "spec:\n",
    "  replicas: 1\n",
    "  selector:\n",
    "    matchLabels:\n",
    "      app: locust-master\n",
    "  template:\n",
    "    metadata:\n",
    "      labels:\n",
    "        app: locust-master\n",
    "    spec:\n",
    "      containers:\n",
    "      - name: locust-master\n",
    "        image: gcr.io/sandbox-kathryn-ml/locust_tester\n",
    "        ports:\n",
    "          - name: loc-master\n",
    "            containerPort: 8089\n",
    "            protocol: TCP\n",
    "          - name: loc-master-p1\n",
    "            containerPort: 5557\n",
    "            protocol: TCP\n",
    "          - name: loc-master-p2\n",
    "            containerPort: 5558\n",
    "            protocol: TCP\n",
    "        command: [\"locust\",\"-f\",\"locust/trtis_grpc_client.py\"]\n",
    "        args: [\"--host\", \"10.59.254.225\", \"--master\"]\n",
    "        resources:\n",
    "          requests:\n",
    "            cpu: 200m"
   ]
  },
  {
   "cell_type": "code",
   "execution_count": 437,
   "metadata": {},
   "outputs": [
    {
     "name": "stdout",
     "output_type": "stream",
     "text": [
      "10.59.242.220"
     ]
    }
   ],
   "source": [
    "!kubectl get svc locust-master -o \"jsonpath={.spec['clusterIP']}\""
   ]
  },
  {
   "cell_type": "code",
   "execution_count": 444,
   "metadata": {},
   "outputs": [
    {
     "name": "stdout",
     "output_type": "stream",
     "text": [
      "Overwriting deployment_slave.yaml\n"
     ]
    }
   ],
   "source": [
    "%%writefile deployment_slave.yaml\n",
    "\n",
    "apiVersion: extensions/v1beta1\n",
    "kind: Deployment\n",
    "metadata:\n",
    "  name: locust-slave\n",
    "  labels:\n",
    "    name: locust-slave\n",
    "spec:\n",
    "  replicas: 40\n",
    "  selector:\n",
    "    matchLabels:\n",
    "      app: locust-slave\n",
    "  template:\n",
    "    metadata:\n",
    "      labels:\n",
    "        app: locust-slave\n",
    "    spec:\n",
    "      containers:\n",
    "      - name: locust-slave\n",
    "        image: gcr.io/sandbox-kathryn-ml/locust_tester\n",
    "        command: [\"locust\",\"-f\",\"locust/trtis_grpc_client.py\"]\n",
    "        args: [\"--slave\", \"--master-host=10.59.242.220\"]\n",
    "        resources:\n",
    "          requests:\n",
    "            cpu: 100m"
   ]
  },
  {
   "cell_type": "code",
   "execution_count": 449,
   "metadata": {},
   "outputs": [
    {
     "name": "stdout",
     "output_type": "stream",
     "text": [
      "deployment.extensions \"locust-master\" deleted\n",
      "deployment.extensions \"locust-slave\" deleted\n"
     ]
    }
   ],
   "source": [
    "!kubectl delete -f deployment_master.yaml\n",
    "!kubectl delete -f deployment_slave.yaml"
   ]
  },
  {
   "cell_type": "code",
   "execution_count": 446,
   "metadata": {},
   "outputs": [
    {
     "name": "stdout",
     "output_type": "stream",
     "text": [
      "deployment.extensions/locust-master created\n",
      "deployment.extensions/locust-slave created\n"
     ]
    }
   ],
   "source": [
    "!kubectl apply -f deployment_master.yaml\n",
    "!kubectl apply -f deployment_slave.yaml"
   ]
  },
  {
   "cell_type": "code",
   "execution_count": 393,
   "metadata": {},
   "outputs": [
    {
     "name": "stdout",
     "output_type": "stream",
     "text": [
      "NAME               TYPE           CLUSTER-IP      EXTERNAL-IP     PORT(S)                                        AGE\n",
      "inference-server   ClusterIP      10.59.254.225   <none>          8000/TCP,8001/TCP,8002/TCP                     31h\n",
      "kubernetes         ClusterIP      10.59.240.1     <none>          443/TCP                                        33h\n",
      "locust-master      LoadBalancer   10.59.242.220   35.200.99.104   8089:32253/TCP,5557:30210/TCP,5558:30840/TCP   32h\n"
     ]
    }
   ],
   "source": [
    "!kubectl get svc"
   ]
  },
  {
   "cell_type": "code",
   "execution_count": 451,
   "metadata": {},
   "outputs": [
    {
     "name": "stdout",
     "output_type": "stream",
     "text": [
      "NAME                                READY   STATUS        RESTARTS   AGE\n",
      "inference-server-56588945c6-v9kcx   1/1     Running       0          31h\n",
      "locust-slave-6588496b58-47mtp       1/1     Terminating   0          36s\n",
      "locust-slave-6588496b58-54qcp       0/1     Terminating   0          35s\n",
      "locust-slave-6588496b58-8ln7w       1/1     Terminating   0          42s\n",
      "locust-slave-6588496b58-8pxj4       0/1     Terminating   0          33s\n",
      "locust-slave-6588496b58-h6z9h       1/1     Terminating   0          46s\n"
     ]
    }
   ],
   "source": [
    "!kubectl get pods"
   ]
  }
 ],
 "metadata": {
  "kernelspec": {
   "display_name": "Python 3",
   "language": "python",
   "name": "python3"
  },
  "language_info": {
   "codemirror_mode": {
    "name": "ipython",
    "version": 3
   },
   "file_extension": ".py",
   "mimetype": "text/x-python",
   "name": "python",
   "nbconvert_exporter": "python",
   "pygments_lexer": "ipython3",
   "version": "3.5.3"
  }
 },
 "nbformat": 4,
 "nbformat_minor": 2
}
