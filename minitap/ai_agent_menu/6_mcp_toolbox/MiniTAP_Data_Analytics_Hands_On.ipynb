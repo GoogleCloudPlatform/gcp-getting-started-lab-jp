{
 "cells": [
  {
   "cell_type": "markdown",
   "id": "GSnm-DRRLkcH",
   "metadata": {
    "id": "GSnm-DRRLkcH"
   },
   "source": [
    "# MiniTAP: MCP Toolbox を活用した Agentic Data Analytics 入門\n",
    "\n",
    "## 📊 ハンズオン概要\n",
    "\n",
    "この Notebook は、**MCP (Model Context Protocol) Toolbox for Databases** を活用して、Google Trends データの高度な分析を行うハンズオン学習環境です。\n",
    "\n",
    "ローカルと Agent Engine の両方で MCP Toolbox を活用し、AI エージェントによるデータ分析の最新手法を体験できます。\n",
    "\n",
    "## 🎯 ハンズオンのゴール\n",
    "\n",
    "**「MCP を活用したエージェントによるデータアナリティクスの基本レベル体験」**\n",
    "\n",
    "- **MCP アーキテクチャ**の理解と実践的活用\n",
    "- **MCP Toolbox for Databases** による設定ベースのツール管理\n",
    "- **Cloud Run** でのスケーラブルなMCPサーバーデプロイ\n",
    "- **ADK + Agent Engine** での本格的なエージェント開発・運用"
   ]
  },
  {
   "cell_type": "markdown",
   "id": "e7826393",
   "metadata": {},
   "source": [
    "## はじめに - AI によるデータ分析の夜明け"
   ]
  },
  {
   "cell_type": "markdown",
   "id": "647ab45e",
   "metadata": {},
   "source": [
    "膨大なデータが眠る BigQuery を前に、『このデータから、自然言語で対話するようにインサイトを引き出せないだろうか』と考えたことはありませんか？\n",
    "\n",
    "本ハンズオンでは、Google Cloud の ADK (Agent Development Kit) を使い、それを実現する AI エージェントを構築します。\n",
    "\n",
    "構築にあたり、**(A) ADK の標準機能で迅速に開発するパターン**と、**(B) MCP Toolbox を使い、より高度なガバナンスと拡張性を実現するパターン** の 2 つのアプローチを体験します。それぞれの違いを学び、ビジネス要件に最適なアーキテクチャを選定できるスキルを身につけましょう。\n",
    "\n",
    "![image](https://raw.githubusercontent.com/googleapis/genai-toolbox/main/docs/en/getting-started/introduction/architecture.png)"
   ]
  },
  {
   "cell_type": "markdown",
   "id": "9768b612",
   "metadata": {},
   "source": [
    "---"
   ]
  },
  {
   "cell_type": "markdown",
   "id": "4b207a01",
   "metadata": {},
   "source": [
    "## 第 1 章：環境構築\n",
    "\n",
    "### 📋 **事前準備**\n",
    "\n",
    "#### ライブラリのインストール"
   ]
  },
  {
   "cell_type": "code",
   "execution_count": 1,
   "id": "-6wg1NisNW3v",
   "metadata": {
    "id": "-6wg1NisNW3v"
   },
   "outputs": [
    {
     "name": "stdout",
     "output_type": "stream",
     "text": [
      "✅ ライブラリのインストールが完了しました。\n"
     ]
    }
   ],
   "source": [
    "# === ライブラリのインストール ===\n",
    "\n",
    "!pip install toolbox-core==0.5.0 -q\n",
    "!pip install google-cloud-aiplatform==1.110.0 -q\n",
    "!pip install google-adk==1.13.0 -q\n",
    "!pip install google-genai==1.30.0 -q\n",
    "!pip install google-cloud-bigquery==3.36.0 -q\n",
    "!pip install requests==2.32.5 -q\n",
    "!pip install python-dotenv==1.1.1 -q\n",
    "!pip install db-dtypes==1.4.3 -q\n",
    "!pip install nest-asyncio==1.6.0 -q\n",
    "\n",
    "print(\"✅ ライブラリのインストールが完了しました。\")"
   ]
  },
  {
   "cell_type": "markdown",
   "id": "23d494ef",
   "metadata": {},
   "source": [
    "### Google Cloud への認証\n",
    "\n",
    "まず、この Notebook 環境からあなたの Google Cloud プロジェクトを操作できるよう、認証を行います。\n",
    "\n",
    "以下のコマンドを実行すると認証用のリンクが表示されるので、クリックしてログインしてください。"
   ]
  },
  {
   "cell_type": "code",
   "execution_count": null,
   "id": "1bad1051",
   "metadata": {
    "vscode": {
     "languageId": "shellscript"
    }
   },
   "outputs": [],
   "source": [
    "gcloud auth application-default login"
   ]
  },
  {
   "cell_type": "markdown",
   "id": "0ebb16b0",
   "metadata": {},
   "source": [
    "#### 自動プロジェクトセットアップ\n",
    "\n",
    "下記のコマンドを**ターミナル**で実行してください。"
   ]
  },
  {
   "cell_type": "code",
   "execution_count": null,
   "id": "83226d76",
   "metadata": {
    "vscode": {
     "languageId": "shellscript"
    }
   },
   "outputs": [],
   "source": [
    "# プロジェクト ID の自動検出と設定\n",
    "python setup/setup_project.py\n",
    "\n",
    "# BigQuery 環境の準備\n",
    "python setup/bigquery_setup.py"
   ]
  },
  {
   "cell_type": "markdown",
   "id": "686DPK7ANf1b",
   "metadata": {
    "id": "686DPK7ANf1b"
   },
   "source": [
    "#### プロジェクト設定\n",
    "\n",
    "必要な変数を取得し、定義します。"
   ]
  },
  {
   "cell_type": "code",
   "execution_count": 1,
   "id": "XBiOAxrNNi-m",
   "metadata": {
    "id": "XBiOAxrNNi-m"
   },
   "outputs": [
    {
     "name": "stdout",
     "output_type": "stream",
     "text": [
      "📕 使用するプロジェクト: data-agent-bq\n",
      "📦 使用するバケット: gs://data-agent-bq-data-analysis\n",
      "✅ 環境セットアップ完了\n"
     ]
    }
   ],
   "source": [
    "import os\n",
    "import subprocess\n",
    "import vertexai\n",
    "from google.cloud import bigquery\n",
    "import requests\n",
    "import json\n",
    "from datetime import datetime, timedelta\n",
    "from typing import List, Dict, Any\n",
    "import warnings\n",
    "from toolbox_core import ToolboxClient\n",
    "from dotenv import load_dotenv\n",
    "import nest_asyncio\n",
    "import asyncio\n",
    "warnings.filterwarnings('ignore')\n",
    "\n",
    "nest_asyncio.apply()\n",
    "load_dotenv()\n",
    "# プロジェクト設定\n",
    "GOOGLE_CLOUD_PROJECT = os.environ.get(\"GOOGLE_CLOUD_PROJECT\")\n",
    "\n",
    "if not GOOGLE_CLOUD_PROJECT:\n",
    "    print(\"❌ プロジェクト ID が検出できませんでした\")\n",
    "    print(\"💡 gcloud config set project YOUR_PROJECT_ID を実行してください\")\n",
    "    GOOGLE_CLOUD_PROJECT = input(\"プロジェクト ID を手動で入力してください: \")\n",
    "\n",
    "# 自動バケット名生成（プロジェクト ID ベース）\n",
    "STAGING_BUCKET = f\"gs://{GOOGLE_CLOUD_PROJECT}-data-analysis\"\n",
    "LOCATION = \"us-central1\"\n",
    "\n",
    "print(f\"📕 使用するプロジェクト: {GOOGLE_CLOUD_PROJECT}\")\n",
    "print(f\"📦 使用するバケット: {STAGING_BUCKET}\")\n",
    "\n",
    "# 環境変数設定\n",
    "os.environ[\"GOOGLE_GENAI_USE_VERTEXAI\"] = \"True\"\n",
    "os.environ[\"GOOGLE_CLOUD_LOCATION\"] = LOCATION\n",
    "\n",
    "# Vertex AI 初期化\n",
    "vertexai.init(\n",
    "    project=GOOGLE_CLOUD_PROJECT,\n",
    "    location=LOCATION,\n",
    "    staging_bucket=STAGING_BUCKET,\n",
    ")\n",
    "\n",
    "# モデル定数を定義\n",
    "DEFAULT_MODEL = \"gemini-2.5-pro\"\n",
    "LITE_MODEL = \"gemini-2.5-flash\"\n",
    "\n",
    "# ログ設定（不要な警告を非表示）\n",
    "import logging\n",
    "class _NoFunctionCallWarning(logging.Filter):\n",
    "    def filter(self, record: logging.LogRecord) -> bool:\n",
    "        message = record.getMessage()\n",
    "        if \"there are non-text parts in the response:\" in message:\n",
    "            return False\n",
    "        else:\n",
    "            return True\n",
    "\n",
    "logging.getLogger(\"google_genai.types\").addFilter(_NoFunctionCallWarning())\n",
    "\n",
    "print(\"✅ 環境セットアップ完了\")"
   ]
  },
  {
   "cell_type": "markdown",
   "id": "8TKQtmxZNoKO",
   "metadata": {
    "id": "8TKQtmxZNoKO"
   },
   "source": [
    "### データソースの準備 - BigQuery 接続と Google Trends データ\n",
    "\n",
    "##### 📊 使用するデータセットの概要\n",
    "\n",
    "**Google Trends - International BigQuery Public Dataset**\n",
    "- Dataset: `bigquery-public-data.google_trends.international_top_terms`\n",
    "- 更新頻度: 毎日\n",
    "- データ範囲: 5 年間のローリング履歴\n",
    "- 地域: 世界各国・地域\n",
    "\n",
    "##### データスキーマ\n",
    "\n",
    "| カラム | 型 | 説明 |\n",
    "|--------|----|----|\n",
    "| `term` | STRING | トレンドキーワード |\n",
    "| `country_code` | STRING | ISO 3166-2 国コード |\n",
    "| `country_name` | STRING | 国名 |\n",
    "| `region_name` | STRING | 地域名 |\n",
    "| `week` | DATE | 週の開始日 |\n",
    "| `rank` | INT | 順位 (1-25) |\n",
    "| `score` | INT | トレンドスコア (0-100) |\n",
    "\n",
    "\n",
    "#### BigQuery 接続テスト"
   ]
  },
  {
   "cell_type": "code",
   "execution_count": 3,
   "id": "8TFH_OfvNraH",
   "metadata": {
    "id": "8TFH_OfvNraH"
   },
   "outputs": [
    {
     "name": "stdout",
     "output_type": "stream",
     "text": [
      "🧪 BigQuery 接続テスト:\n"
     ]
    },
    {
     "data": {
      "text/html": [
       "<div>\n",
       "<style scoped>\n",
       "    .dataframe tbody tr th:only-of-type {\n",
       "        vertical-align: middle;\n",
       "    }\n",
       "\n",
       "    .dataframe tbody tr th {\n",
       "        vertical-align: top;\n",
       "    }\n",
       "\n",
       "    .dataframe thead th {\n",
       "        text-align: right;\n",
       "    }\n",
       "</style>\n",
       "<table border=\"1\" class=\"dataframe\">\n",
       "  <thead>\n",
       "    <tr style=\"text-align: right;\">\n",
       "      <th></th>\n",
       "      <th>country_name</th>\n",
       "      <th>unique_terms</th>\n",
       "      <th>total_records</th>\n",
       "      <th>latest_week</th>\n",
       "    </tr>\n",
       "  </thead>\n",
       "  <tbody>\n",
       "    <tr>\n",
       "      <th>0</th>\n",
       "      <td>Turkey</td>\n",
       "      <td>679</td>\n",
       "      <td>151875</td>\n",
       "      <td>2025-09-14</td>\n",
       "    </tr>\n",
       "    <tr>\n",
       "      <th>1</th>\n",
       "      <td>Thailand</td>\n",
       "      <td>677</td>\n",
       "      <td>144067</td>\n",
       "      <td>2025-09-14</td>\n",
       "    </tr>\n",
       "    <tr>\n",
       "      <th>2</th>\n",
       "      <td>Vietnam</td>\n",
       "      <td>684</td>\n",
       "      <td>116865</td>\n",
       "      <td>2025-09-14</td>\n",
       "    </tr>\n",
       "    <tr>\n",
       "      <th>3</th>\n",
       "      <td>Japan</td>\n",
       "      <td>710</td>\n",
       "      <td>87937</td>\n",
       "      <td>2025-09-14</td>\n",
       "    </tr>\n",
       "    <tr>\n",
       "      <th>4</th>\n",
       "      <td>Romania</td>\n",
       "      <td>652</td>\n",
       "      <td>78456</td>\n",
       "      <td>2025-09-14</td>\n",
       "    </tr>\n",
       "    <tr>\n",
       "      <th>5</th>\n",
       "      <td>Nigeria</td>\n",
       "      <td>699</td>\n",
       "      <td>69375</td>\n",
       "      <td>2025-09-14</td>\n",
       "    </tr>\n",
       "    <tr>\n",
       "      <th>6</th>\n",
       "      <td>India</td>\n",
       "      <td>712</td>\n",
       "      <td>67500</td>\n",
       "      <td>2025-09-14</td>\n",
       "    </tr>\n",
       "    <tr>\n",
       "      <th>7</th>\n",
       "      <td>Indonesia</td>\n",
       "      <td>710</td>\n",
       "      <td>63206</td>\n",
       "      <td>2025-09-14</td>\n",
       "    </tr>\n",
       "    <tr>\n",
       "      <th>8</th>\n",
       "      <td>Colombia</td>\n",
       "      <td>676</td>\n",
       "      <td>61875</td>\n",
       "      <td>2025-09-14</td>\n",
       "    </tr>\n",
       "    <tr>\n",
       "      <th>9</th>\n",
       "      <td>Mexico</td>\n",
       "      <td>693</td>\n",
       "      <td>60000</td>\n",
       "      <td>2025-09-14</td>\n",
       "    </tr>\n",
       "  </tbody>\n",
       "</table>\n",
       "</div>"
      ],
      "text/plain": [
       "  country_name  unique_terms  total_records latest_week\n",
       "0       Turkey           679         151875  2025-09-14\n",
       "1     Thailand           677         144067  2025-09-14\n",
       "2      Vietnam           684         116865  2025-09-14\n",
       "3        Japan           710          87937  2025-09-14\n",
       "4      Romania           652          78456  2025-09-14\n",
       "5      Nigeria           699          69375  2025-09-14\n",
       "6        India           712          67500  2025-09-14\n",
       "7    Indonesia           710          63206  2025-09-14\n",
       "8     Colombia           676          61875  2025-09-14\n",
       "9       Mexico           693          60000  2025-09-14"
      ]
     },
     "metadata": {},
     "output_type": "display_data"
    },
    {
     "name": "stdout",
     "output_type": "stream",
     "text": [
      "✅ BigQuery 接続成功!\n",
      "📊 2025-09-14 までのデータを参照可能\n"
     ]
    }
   ],
   "source": [
    "# BigQuery クライアントの初期化\n",
    "client = bigquery.Client(project=GOOGLE_CLOUD_PROJECT)\n",
    "\n",
    "# Google Trends データの確認\n",
    "test_query = \"\"\"\n",
    "SELECT\n",
    "    country_name,\n",
    "    COUNT(DISTINCT term) as unique_terms,\n",
    "    COUNT(*) as total_records,\n",
    "    MAX(week) as latest_week\n",
    "FROM `bigquery-public-data.google_trends.international_top_terms`\n",
    "WHERE week >= DATE_SUB(CURRENT_DATE(), INTERVAL 30 DAY)\n",
    "GROUP BY country_name\n",
    "ORDER BY total_records DESC\n",
    "LIMIT 10\n",
    "\"\"\"\n",
    "\n",
    "print(\"🧪 BigQuery 接続テスト:\")\n",
    "df_test = client.query(test_query).to_dataframe()\n",
    "display(df_test)\n",
    "\n",
    "if not df_test.empty:\n",
    "    print(\"✅ BigQuery 接続成功!\")\n",
    "    print(f\"📊 {df_test['latest_week'].max()} までのデータを参照可能\")\n",
    "else:\n",
    "    print(\"❌ データ取得に失敗しました\")"
   ]
  },
  {
   "cell_type": "markdown",
   "id": "c004eb5c",
   "metadata": {},
   "source": [
    "## 第 2 章：パターン A - ADK BigQuery Toolkit で迅速な分析を実現する\n",
    "\n",
    "### MCP を使わない「素の ADK」での実装を体験し、これを比較のベースラインとします。\n",
    "\n",
    "ADK には、BigQuery と対話するための便利な『ツールキット』が標準で用意されています。\n",
    "\n",
    "この方法の最大の特徴は、MCP サーバーのデプロイが不要である点です。\n",
    "\n",
    "ADK エージェントがツールキットを通じて BigQuery と直接対話するため、アーキテクチャがシンプルになり、より迅速に開発を始めることができます。"
   ]
  },
  {
   "cell_type": "markdown",
   "id": "abc0f193",
   "metadata": {},
   "source": [
    "[![](https://mermaid.ink/img/pako:eNpdkm9r00Acx9_KcT7Yk7amf9I2QQZtsxWUjQl9pJFxbS9paJqraQLWUnDJHnTIdDpxsD2YwlxFEQTnrFj0vey09Vn3ErxcTRf25Li7z-_7uV8u14M1UsdQhvF4XLVqxNIMXVYtAJwGbmEZLFnYdWxkLqkWr9Bt1G6AihKUAFC4r8LL4-GLiye7l8cvfwDqn1J_TL1zNqrwAYjHl0GR1-zvg9tuu-tgG6wTB1cJad6q2jeX1wzLqBQ2WPHcWOSZEs-cvAYF5Q6g3nsuHVFvSP0v1B_wZNXQH7rY7m4iC5ndjrOJdGw5C1GJixQuOnozGz0HRUO_GwRAhRCzaTjcMhsPgjNCRv3t4Cz_42y8s1ApXLXCVQfbURVXlAnRTQwqNrbqHaAgB3XwVR_zcZWFLw7fgunO9z8_z8KrKbPdtdIG9b7yQ_fY-Hu0-_d0i3up941_7gFrh259mAyfTgZ7cxLsfWIXQb1f1Duh_qug0PvM4fTobPLsXdghm07PD69103G6rOEC0AzTlG_gpCZqOEqK_4mWxqImRkkpJBpjQpQooS2viTgfJSthpoYzuBYlq1c2qZaJkvI1AmNQt406lB3bxTHYwnYLBUvYC1Iq5K9VhTKb1pHdVKFq9Vmmjax7hLTCmE1cvQFlDZkdtnLbdeRgxUDsTbcWu8FfxHaJuJYD5aSU5hIo9-AjKGey-UQ6l0tn0lJSkMScFINdKEtSIiumBCmTykopISXm-zH4mJ8qJPJCKiekk5lUMptNsmj_H0grSjA?type=png)](https://mermaid.live/edit#pako:eNpdkm9r00Acx9_KcT7Yk7amf9I2QQZtsxWUjQl9pJFxbS9paJqraQLWUnDJHnTIdDpxsD2YwlxFEQTnrFj0vey09Vn3ErxcTRf25Li7z-_7uV8u14M1UsdQhvF4XLVqxNIMXVYtAJwGbmEZLFnYdWxkLqkWr9Bt1G6AihKUAFC4r8LL4-GLiye7l8cvfwDqn1J_TL1zNqrwAYjHl0GR1-zvg9tuu-tgG6wTB1cJad6q2jeX1wzLqBQ2WPHcWOSZEs-cvAYF5Q6g3nsuHVFvSP0v1B_wZNXQH7rY7m4iC5ndjrOJdGw5C1GJixQuOnozGz0HRUO_GwRAhRCzaTjcMhsPgjNCRv3t4Cz_42y8s1ApXLXCVQfbURVXlAnRTQwqNrbqHaAgB3XwVR_zcZWFLw7fgunO9z8_z8KrKbPdtdIG9b7yQ_fY-Hu0-_d0i3up941_7gFrh259mAyfTgZ7cxLsfWIXQb1f1Duh_qug0PvM4fTobPLsXdghm07PD69103G6rOEC0AzTlG_gpCZqOEqK_4mWxqImRkkpJBpjQpQooS2viTgfJSthpoYzuBYlq1c2qZaJkvI1AmNQt406lB3bxTHYwnYLBUvYC1Iq5K9VhTKb1pHdVKFq9Vmmjax7hLTCmE1cvQFlDZkdtnLbdeRgxUDsTbcWu8FfxHaJuJYD5aSU5hIo9-AjKGey-UQ6l0tn0lJSkMScFINdKEtSIiumBCmTykopISXm-zH4mJ8qJPJCKiekk5lUMptNsmj_H0grSjA)"
   ]
  },
  {
   "cell_type": "markdown",
   "id": "f54aca96",
   "metadata": {},
   "source": [
    "### エージェントの定義\n",
    "- `google.adk.tools.bigquery.BigQueryToolset` をインポートし、エージェントが使用できるツール（テーブル情報取得や SQL 実行など）を定義します。\n",
    "\n",
    "- エージェントへの指示（Instruction）に、より具体的で丁寧な指示を与えることで、動作の安定性を高めています。"
   ]
  },
  {
   "cell_type": "code",
   "execution_count": 30,
   "id": "beb9a125",
   "metadata": {},
   "outputs": [
    {
     "name": "stdout",
     "output_type": "stream",
     "text": [
      "✅ ADK エージェント定義完了\n"
     ]
    }
   ],
   "source": [
    "import os\n",
    "from google.adk import Agent\n",
    "from google.adk.tools.bigquery import BigQueryCredentialsConfig, BigQueryToolset\n",
    "from google.adk.tools.bigquery.config import BigQueryToolConfig\n",
    "from google.adk.tools.bigquery.config import WriteMode\n",
    "import google.auth\n",
    "\n",
    "# エージェントが BigQuery のテーブルを誤って変更・削除しないよう、書き込み操作を禁止します\n",
    "# データ分析のように読み取り専用アクセスが期待される場合に推奨されるセキュリティ設定です\n",
    "tool_config = BigQueryToolConfig(write_mode=WriteMode.BLOCKED)\n",
    "\n",
    "# BigQuery ツールセットを定義\n",
    "# 使用するツールを tool_filter で明示的に指定します\n",
    "bigquery_toolset = BigQueryToolset(\n",
    "    bigquery_tool_config=tool_config,\n",
    "    tool_filter=[\n",
    "        'list_dataset_ids',\n",
    "        'get_dataset_info',\n",
    "        'list_table_ids',\n",
    "        'get_table_info',\n",
    "        'execute_sql',\n",
    "    ]\n",
    ")\n",
    "\n",
    "# --- エージェントの定義 ---\n",
    "# 作成したツールキットをエージェントに渡します。\n",
    "root_agent = Agent(\n",
    "    model=DEFAULT_MODEL,\n",
    "    name=\"bigquery_analyst_agent\",\n",
    "    description=\"BigQueryのデータをSQLクエリを実行して分析し、質問に答えるエージェント\",\n",
    "    instruction=\"\"\"\n",
    "    あなたはBigQueryのツールにアクセスできる、優秀なデータ分析エージェントです。\n",
    "    あなたの役割は、ビジネスに関する質問に対して、SQLクエリを生成・実行し、実用的な回答を自然言語で返すことです。\n",
    "\n",
    "    # データセット情報\n",
    "    project_id: data-agent-bq\n",
    "    dataset_id: data-agent-bq.minitap_analytics\n",
    "    view_id: data-agent-bq.minitap_analytics.recent_global_trends\n",
    "    public_dataset: bigquery-public-data.google_trends.international_top_terms\n",
    "\n",
    "    # 行動のルール\n",
    "    1. まずは `list_dataset_ids` や `list_table_ids` を使って、利用可能なデータセットやテーブルの情報を把握してください。\n",
    "    2. ユーザーの質問に答えるために、適切なSQLクエリを `execute_sql` ツールを使って実行してください。\n",
    "    3. 回答は必ず自然言語で行い、SQLクエリやコードそのものを提示しないでください。\n",
    "    4. 回答は必ずツールで取得したデータに基づき、回答してください。憶測や不正確な情報は絶対に入れないでください。\n",
    "    \"\"\",\n",
    "    tools=[bigquery_toolset],\n",
    ")\n",
    "print(\"✅ ADK エージェント定義完了\")"
   ]
  },
  {
   "cell_type": "markdown",
   "id": "7d2c8a2a",
   "metadata": {},
   "source": [
    "### ローカルエージェントラッパー\n",
    "これは、Jupyter Notebook 上でエージェントとの対話を簡単に行うためのヘルパークラスです。\n",
    "\n",
    "ADK の Runner や Session の管理をラップしています。"
   ]
  },
  {
   "cell_type": "code",
   "execution_count": 31,
   "id": "53c1b50b",
   "metadata": {},
   "outputs": [],
   "source": [
    "import copy, datetime, json, os, pprint, time, uuid\n",
    "from google.genai.types import Part, Content\n",
    "from google.adk.sessions import InMemorySessionService\n",
    "from google.adk.runners import Runner\n",
    "from IPython.display import display, Markdown\n",
    "\n",
    "# ADK の主要なオブジェクト(Runner, SessionService, Agent) のクラス\n",
    "class LocalAgent:\n",
    "    def __init__(self, agent, app_name='default_app', user_id='default_user', debug=False, initial_state = None):\n",
    "        self._agent = agent\n",
    "        self._app_name = app_name\n",
    "        self._user_id = user_id\n",
    "        self._runner = Runner(\n",
    "            app_name=self._app_name,\n",
    "            agent=self._agent,\n",
    "            session_service=InMemorySessionService()\n",
    "        )\n",
    "        self._session = None\n",
    "        self._debug = debug\n",
    "        self._initial_state = initial_state\n",
    "\n",
    "    def print_session_state(self):\n",
    "        return self._session\n",
    "    \n",
    "    async def stream(self, query):\n",
    "        if not self._session:\n",
    "            self._session = await self._runner.session_service.create_session(\n",
    "                app_name=self._app_name,\n",
    "                user_id=self._user_id,\n",
    "                session_id=uuid.uuid4().hex,\n",
    "                state = self._initial_state\n",
    "            )\n",
    "        content = Content(role='user', parts=[Part.from_text(text=query)])\n",
    "        async_events = self._runner.run_async(\n",
    "            user_id=self._user_id,\n",
    "            session_id=self._session.id,\n",
    "            new_message=content,\n",
    "        )\n",
    "        result = []\n",
    "\n",
    "        async for event in async_events:\n",
    "            if self._debug:\n",
    "                print(f\"呼び出しAgent: {event.author}\")\n",
    "            if (event.content and event.content.parts):\n",
    "\n",
    "                response = '\\n'.join([p.text for p in event.content.parts if p.text])\n",
    "                if self._debug:\n",
    "                    function_call = '\\n'.join([p.function_call.name for p in event.content.parts if p.function_call])\n",
    "                    if function_call:\n",
    "                        print(f\"呼び出しTool: {function_call}\")\n",
    "                if response:\n",
    "                    display(Markdown(response))\n",
    "                    result.append(response)\n",
    "        return result"
   ]
  },
  {
   "cell_type": "markdown",
   "id": "190a1196",
   "metadata": {},
   "source": [
    "### 分析シナリオの実行\n",
    "それでは、プロンプトを投げて、エージェントが自律的に SQL を生成・実行し、分析を行う様子を確認しましょう。\n",
    "\n",
    "エージェントに対して、データセットに関する質問からトレンド分析、そして洞察の要求まで、段階的に問いかけを行います。\n",
    "\n",
    "エージェントがどのようにツールを使い分け、回答を生成するかを確認しましょう。"
   ]
  },
  {
   "cell_type": "code",
   "execution_count": 32,
   "id": "5d55b775",
   "metadata": {},
   "outputs": [
    {
     "name": "stdout",
     "output_type": "stream",
     "text": [
      "------------------ message (1) ------------------\n",
      "呼び出しAgent: bigquery_analyst_agent\n",
      "呼び出しTool: list_table_ids\n",
      "呼び出しAgent: bigquery_analyst_agent\n",
      "呼び出しAgent: bigquery_analyst_agent\n"
     ]
    },
    {
     "data": {
      "text/markdown": [
       "データセットには「recent_global_trends」というテーブルがあります。"
      ],
      "text/plain": [
       "<IPython.core.display.Markdown object>"
      ]
     },
     "metadata": {},
     "output_type": "display_data"
    },
    {
     "name": "stdout",
     "output_type": "stream",
     "text": [
      "\n",
      "------------------ message (2) ------------------\n",
      "呼び出しAgent: bigquery_analyst_agent\n",
      "呼び出しTool: execute_sql\n",
      "呼び出しAgent: bigquery_analyst_agent\n",
      "呼び出しAgent: bigquery_analyst_agent\n",
      "呼び出しTool: execute_sql\n",
      "呼び出しAgent: bigquery_analyst_agent\n",
      "呼び出しAgent: bigquery_analyst_agent\n"
     ]
    },
    {
     "data": {
      "text/markdown": [
       "日本の異なるトレンドは次の10個です。\n",
       "\n",
       "* f1\n",
       "* ハンセン病\n",
       "* 小島秀夫\n",
       "* bts v\n",
       "* 藤原竜也 広瀬アリス\n",
       "* 山口航輝\n",
       "* 日本事故物件監視協会\n",
       "* カブス 対 ブルワーズ\n",
       "* 日産\n",
       "* 松崎しげる"
      ],
      "text/plain": [
       "<IPython.core.display.Markdown object>"
      ]
     },
     "metadata": {},
     "output_type": "display_data"
    },
    {
     "name": "stdout",
     "output_type": "stream",
     "text": [
      "\n",
      "------------------ message (3) ------------------\n",
      "呼び出しAgent: bigquery_analyst_agent\n",
      "呼び出しTool: execute_sql\n",
      "呼び出しAgent: bigquery_analyst_agent\n",
      "呼び出しAgent: bigquery_analyst_agent\n"
     ]
    },
    {
     "data": {
      "text/markdown": [
       "はい、承知いたしました。グローバルの異なるトレンドは次の10個です。\n",
       "\n",
       "* fenerbahçe\n",
       "* anchorage\n",
       "* meteo napoli\n",
       "* hamad medjedovic\n",
       "* west indies vs pakistan\n",
       "* 옌스 카스트로프\n",
       "* ibge ipca acumulado\n",
       "* sao paulo x atletico nacional\n",
       "* cristiano ronaldo\n",
       "* lịch cúp điện cần thơ"
      ],
      "text/plain": [
       "<IPython.core.display.Markdown object>"
      ]
     },
     "metadata": {},
     "output_type": "display_data"
    },
    {
     "name": "stdout",
     "output_type": "stream",
     "text": [
      "\n",
      "------------------ message (4) ------------------\n",
      "呼び出しAgent: bigquery_analyst_agent\n"
     ]
    },
    {
     "data": {
      "text/markdown": [
       "分析結果に基づき、日本のマーケティング担当者が次に注目すべき点は以下の通りです。\n",
       "\n",
       "日本のトレンドは、特定の人物（俳優、アスリート、クリエイターなど）や、国内のニッチなトピックに強く関連している傾向があります。一方で、グローバルなトレンドはスポーツ選手やイベントが中心です。\n",
       "\n",
       "このことから、日本の市場では次の2点が重要と考えられます。\n",
       "\n",
       "1.  **影響力のある人物の起用:** 話題の著名人やインフルエンサーを起用したプロモーションは、ユーザーの関心を効果的に引きつける可能性が高いです。\n",
       "2.  **ニッチなコミュニティへのアプローチ:** 特定の趣味や社会問題など、深く狭いテーマに特化したコンテンツは、ターゲット層に強く響き、エンゲージメントを高めることが期待できます。"
      ],
      "text/plain": [
       "<IPython.core.display.Markdown object>"
      ]
     },
     "metadata": {},
     "output_type": "display_data"
    },
    {
     "data": {
      "text/plain": [
       "['分析結果に基づき、日本のマーケティング担当者が次に注目すべき点は以下の通りです。\\n\\n日本のトレンドは、特定の人物（俳優、アスリート、クリエイターなど）や、国内のニッチなトピックに強く関連している傾向があります。一方で、グローバルなトレンドはスポーツ選手やイベントが中心です。\\n\\nこのことから、日本の市場では次の2点が重要と考えられます。\\n\\n1.  **影響力のある人物の起用:** 話題の著名人やインフルエンサーを起用したプロモーションは、ユーザーの関心を効果的に引きつける可能性が高いです。\\n2.  **ニッチなコミュニティへのアプローチ:** 特定の趣味や社会問題など、深く狭いテーマに特化したコンテンツは、ターゲット層に強く響き、エンゲージメントを高めることが期待できます。']"
      ]
     },
     "execution_count": 32,
     "metadata": {},
     "output_type": "execute_result"
    }
   ],
   "source": [
    "client = LocalAgent(root_agent, debug=True) # debug=True でツールの呼び出しを確認\n",
    "\n",
    "print(\"------------------ message (1) ------------------\")\n",
    "# まずはデータセットの全体像を把握させます\n",
    "await client.stream(\"データセットの中にあるテーブルを教えてください。\")\n",
    "\n",
    "print(\"\\n------------------ message (2) ------------------\")\n",
    "# 具体的な国のトレンドを尋ね、基本的な SQL 実行能力を確認します\n",
    "await client.stream(\"日本の異なるトレンドを10個教えてください。\")\n",
    "\n",
    "print(\"\\n------------------ message (3) ------------------\")\n",
    "# 指示通り、複数国のトレンドを集計して回答できるかテストします\n",
    "await client.stream(\"グローバルの異なるトレンドを10個教えてください。\")\n",
    "\n",
    "print(\"\\n------------------ message (4) ------------------\")\n",
    "# 複数の分析結果を統合し、洞察を生成する能力をテストします\n",
    "await client.stream(\"ここまでの分析結果を基に、日本のマーケティング担当者が次に注目すべき点を簡潔に提案してください。\")"
   ]
  },
  {
   "cell_type": "markdown",
   "id": "V-ny0hjBNuyW",
   "metadata": {
    "id": "V-ny0hjBNuyW"
   },
   "source": [
    "---\n",
    "\n",
    "## 第 3 章：パターン B - MCP Toolbox のデプロイと動作確認\n",
    "\n"
   ]
  },
  {
   "cell_type": "markdown",
   "id": "62328246",
   "metadata": {},
   "source": [
    "### MCP Toolbox は、AI エージェントの『思考』と、データアクセスの『ツール』を分離するサーバーです。\n",
    "\n",
    "データに関するツール（SQL クエリなど）を `tools.yaml` という設定ファイルで一元管理することで、安全で再利用可能なデータ分析基盤を構築できます。\n",
    "\n",
    "この章では、この MCP Toolbox サーバーを Cloud Run にデプロイし、エージェントから利用する方法を学びます。"
   ]
  },
  {
   "cell_type": "markdown",
   "id": "1173b0e1",
   "metadata": {},
   "source": [
    "![image.png](./image.png)"
   ]
  },
  {
   "cell_type": "markdown",
   "id": "834cd1ad",
   "metadata": {},
   "source": [
    "### MCP Toolbox サーバーの構築とデプロイ"
   ]
  },
  {
   "cell_type": "markdown",
   "id": "acd4e1a1",
   "metadata": {},
   "source": [
    "下記のコマンドをターミナルで実行し、MCP サーバーをデプロイしましょう。\n",
    "\n",
    "このスクリプト (`setup/deploy_toolbox.py`) を実行することで、デプロイする MCP サーバーに「どのデータベースに、どの認証情報を使って接続するか」を教えるための設定ファイル (`mcp_config.py`) が生成されます。\n",
    "\n",
    "その後、`mcp_config.py` を読み込んで、設定済みの MCP サーバーを Cloud Run にデプロイします。"
   ]
  },
  {
   "cell_type": "code",
   "execution_count": null,
   "id": "ecaebd28",
   "metadata": {
    "vscode": {
     "languageId": "shellscript"
    }
   },
   "outputs": [],
   "source": [
    "# MCP Toolbox for Databases を Cloud Run にデプロイ\n",
    "python setup/deploy_toolbox.py"
   ]
  },
  {
   "cell_type": "markdown",
   "id": "e77a5047",
   "metadata": {},
   "source": [
    "### デプロイする MCP サーバーの構成\n",
    "\n",
    "`tools.yaml`: 使用するツールを定義します。\n",
    "\n",
    "Python コードではなく、設定ファイルでツールを定義できます。\n",
    "\n",
    "`tools.yaml` で、公式やカスタムツールを定義することで、Gemini の分析能力を上げることができます。\n",
    "\n",
    "今回は **MCP Toolbox for Databases** が提供している公式ツールと日本のトレンドを取得するカスタムツールを使用します。\n",
    "\n",
    "実際にみてみましょう。"
   ]
  },
  {
   "cell_type": "markdown",
   "id": "ca2cdd57",
   "metadata": {},
   "source": [
    "##### tools.yaml の中身\n",
    "今回は公式提供のツールのみを使用するため、とてもシンプルな構成です。\n",
    "\n",
    "```yaml\n",
    "# データソース定義\n",
    "sources:\n",
    "  google-trends-bigquery:\n",
    "    kind: bigquery\n",
    "    project: data-agent-bq\n",
    "    location: us\n",
    "\n",
    "# ツール定義\n",
    "tools:\n",
    "  # MCP Toolboxの BigQuery 向けの公式ツールを定義\n",
    "  execute_sql_tool:\n",
    "    kind: bigquery-execute-sql\n",
    "    source: google-trends-bigquery\n",
    "    description: \"Execute SQL query on Google Trends BigQuery dataset\"\n",
    "\n",
    "  bigquery_get_dataset_info:\n",
    "    kind: bigquery-get-dataset-info\n",
    "    source: google-trends-bigquery\n",
    "    description: Use this tool to get dataset metadata.\n",
    "\n",
    "  bigquery_get_table_info:\n",
    "    kind: bigquery-get-table-info\n",
    "    source: google-trends-bigquery\n",
    "    description: Use this tool to get table metadata.\n",
    "\n",
    "   # 日本のトレンド取得ツール（カスタム）\n",
    "  get_japan_trends:\n",
    "    kind: bigquery-sql\n",
    "    source: google-trends-bigquery\n",
    "    description: \"Get top trending terms for Japan from Google Trends dataset\"\n",
    "    parameters:\n",
    "      - name: days\n",
    "        type: integer\n",
    "        description: \"Number of days to look back from current date\"\n",
    "        default: 7\n",
    "      - name: limit\n",
    "        type: integer\n",
    "        description: \"Maximum number of results to return\"\n",
    "        default: 10\n",
    "    statement: |\n",
    "      WITH RankedTerms AS (\n",
    "        SELECT \n",
    "          term,\n",
    "          country_name,\n",
    "          region_name,\n",
    "          week,\n",
    "          rank,\n",
    "          score,\n",
    "          ROW_NUMBER() OVER(\n",
    "            PARTITION BY term \n",
    "            ORDER BY rank ASC, week DESC\n",
    "          ) as rn\n",
    "        FROM `bigquery-public-data.google_trends.international_top_terms`\n",
    "        WHERE country_code = 'JP'\n",
    "          AND week >= DATE_SUB(CURRENT_DATE(), INTERVAL @days DAY)\n",
    "      )\n",
    "      SELECT\n",
    "        term,\n",
    "        country_name,\n",
    "        region_name,\n",
    "        week,\n",
    "        rank,\n",
    "        score\n",
    "      FROM RankedTerms\n",
    "      WHERE rn = 1\n",
    "      ORDER BY rank ASC, week DESC -- 最終結果をランク順で並び替え\n",
    "      LIMIT @limit\n",
    "\n",
    "# ツールセット定義\n",
    "toolsets:\n",
    "  google-trends-analysis:\n",
    "    - execute_sql_tool\n",
    "    - bigquery_get_dataset_info\n",
    "    - bigquery_get_table_info\n",
    "    - get_japan_trends\n",
    "\n",
    "```"
   ]
  },
  {
   "cell_type": "markdown",
   "id": "95d46967",
   "metadata": {},
   "source": [
    "#### MCP Toolbox の実行パターン比較\n",
    "\n",
    "##### 動的 SQL 生成（`execute_sql_tool` を使用）\n",
    "MCP Toolbox が提供している公式ツールです。\n",
    "\n",
    "エージェントがユーザーの曖昧な指示を解釈し、自ら SQL クエリを**動的に生成**して実行します。\n",
    "\n",
    "非常に柔軟性が高い反面、エージェントの動作がブラックボックスになりやすいというトレードオフがあります。\n",
    "- **メリット**: 柔軟性が高い。臨機応変に応答できます。\n",
    "- **デメリット**: ブラックボックス性。意図しない SQL（間違ったクエリ）が実行されるリスク、所要時間が長くかかる場合があります。\n",
    "\n",
    "##### 事前定義SQL（`get_japan_trends` を使用）\n",
    "これは、日本のトレンドを取得するために**事前に SQL 文を定義**しておいたカスタムツールです。\n",
    "\n",
    "SQL 文は MCP Toolbox 側（tools.yaml）にテンプレートとして埋め込まれています。\n",
    "\n",
    "エージェントは SQL を生成せず、必要なパラメータ（例：国名、日数）を渡すことだけに専念します。\n",
    "- **メリット**: 実行される SQL が常に同じであるため、安全・高速・予測可能。クエリのパフォーマンスチューニングも可能です。\n",
    "- **デメリット**: 柔軟性が低い。tools.yaml に定義された定型的な質問にしか答えられません。\n",
    "\n",
    "##### まとめ\n",
    "『よくある質問（定型業務）』は安全な事前定義 SQL に任せ、『未知の質問（非定型分析）』は柔軟な動的 SQL に任せます。\n",
    "\n",
    "このハイブリッド設計で、MCP Toolbox を最大限に活用した実用的でインテリジェントなデータエージェントを実装できます。"
   ]
  },
  {
   "cell_type": "markdown",
   "id": "491e3ac4",
   "metadata": {},
   "source": [
    "### MCP 設定の確認と読み込み\n",
    "\n",
    "先ほど生成された `mcp_config.py` を読み込ませて、デプロイした MCP サーバーの URL など必要な情報を取得します。"
   ]
  },
  {
   "cell_type": "code",
   "execution_count": 4,
   "id": "PyoctDKINx3l",
   "metadata": {
    "id": "PyoctDKINx3l"
   },
   "outputs": [
    {
     "name": "stdout",
     "output_type": "stream",
     "text": [
      "✅ MCP 設定ファイルが見つかりました\n",
      "🌐 MCP Server URL: https://mcp-trends-custom-babj3ulyaa-uc.a.run.app\n",
      "📝 Project ID: data-agent-bq\n",
      "📅 デプロイ日時: 2025-09-16 10:00:38\n"
     ]
    }
   ],
   "source": [
    "# 🔍 事前デプロイされた MCP 設定を確認\n",
    "import os\n",
    "if os.path.exists('mcp_config.py'):\n",
    "    from mcp_config import MCP_CONFIG\n",
    "    print(\"✅ MCP 設定ファイルが見つかりました\")\n",
    "    print(f\"🌐 MCP Server URL: {MCP_CONFIG['server_url']}\")\n",
    "    print(f\"📝 Project ID: {MCP_CONFIG['project_id']}\")\n",
    "    print(f\"📅 デプロイ日時: {MCP_CONFIG['deployed_at']}\")\n",
    "else:\n",
    "    print(\"❌ mcp_config.py が見つかりません\")\n",
    "    print(\"📋 Cloud Shell 環境で以下を実行してください:\")\n",
    "    print(\"   cd setup && python deploy_mcp.py\")\n",
    "    # フォールバック設定を使用\n",
    "    MCP_CONFIG = {\n",
    "        \"server_url\": \"\",  # 空の場合は BigQuery 直接接続\n",
    "        \"project_id\": GOOGLE_CLOUD_PROJECT,\n",
    "        \"method\": \"fallback\"\n",
    "    }"
   ]
  },
  {
   "cell_type": "markdown",
   "id": "-V4AfOEbN1e1",
   "metadata": {
    "id": "-V4AfOEbN1e1"
   },
   "source": [
    "### MCP クライアントの定義\n",
    "\n",
    "このセルでは、先ほどデプロイした **MCP サーバー** と対話するための「**クライアント**」を Python のクラスとして定義します。\n",
    "\n",
    "このクライアントの役割は非常にシンプルです。\n",
    "\n",
    "1.  **MCP サーバーに接続する**: `mcp_config.py` に保存された URL を使って、Cloud Run 上のサーバーに接続します。\n",
    "2.  **利用可能なツールを読み込む**: サーバーの `tools.yaml` で定義されているツールセット (`google-trends-analysis`) をすべて読み込みます。\n",
    "3.  **ツール実行を仲介する**: `execute_sql` のようなメソッドを提供し、エージェントからの指示を MCP サーバーに伝達して、ツールを実行させます。\n",
    "\n",
    "重要なのは、このクライアント自体には**特定の分析ロジック（日本のトレンドを取得するなど）が含まれていない**点です。あくまで、エージェントとツールサーバーを繋ぐ、汎用的な仲介役として機能します。"
   ]
  },
  {
   "cell_type": "code",
   "execution_count": 5,
   "id": "yPdgqkwKN5_X",
   "metadata": {
    "id": "yPdgqkwKN5_X"
   },
   "outputs": [
    {
     "name": "stdout",
     "output_type": "stream",
     "text": [
      "🚀 MCP Client Demo Start\n",
      "✅ MCP Client connected to https://mcp-trends-custom-babj3ulyaa-uc.a.run.app\n",
      "   Tools loaded: ['bigquery_get_dataset_info', 'bigquery_get_table_info', 'execute_sql_tool', 'get_japan_trends']\n",
      "Executing SQL via MCP: SELECT term, rank FROM `bigquery-public-data.google_trends.international_top_terms` WHERE country_co...\n",
      "\n",
      "✅ Query Result:\n",
      "\"[{\\\"rank\\\":1,\\\"term\\\":\\\"へずまりゅう 辞職勧告\\\"},{\\\"rank\\\":1,\\\"term\\\":\\\"へずまりゅう 辞職勧告\\\"},{\\\"rank\\\":1,\\\"term\\\":\\\"へずまりゅう 辞職勧告\\\"}]\"\n",
      "Executing get_japan_trends via MCP with days=7, limit=2...\n",
      "\n",
      "✅ Demo Query Result (get_japan_trends):\n",
      "\"[{\\\"country_name\\\":\\\"Japan\\\",\\\"rank\\\":1,\\\"region_name\\\":\\\"Ishikawa Prefecture\\\",\\\"score\\\":100,\\\"term\\\":\\\"ティファール 電気ケトル 無償交換\\\",\\\"week\\\":\\\"2025-09-14\\\"},{\\\"country_name\\\":\\\"Japan\\\",\\\"rank\\\":1,\\\"region_name\\\":\\\"Ibaraki Prefecture\\\",\\\"score\\\":100,\\\"term\\\":\\\"へずまりゅう 辞職勧告\\\",\\\"week\\\":\\\"2025-09-14\\\"}]\"\n"
     ]
    }
   ],
   "source": [
    "import asyncio\n",
    "import json\n",
    "from mcp_config import MCP_CONFIG\n",
    "from toolbox_core import ToolboxClient\n",
    "import nest_asyncio\n",
    "\n",
    "# Jupyter 環境での非同期実行を有効化\n",
    "nest_asyncio.apply()\n",
    "\n",
    "class MCPClient:\n",
    "    \"\"\"\n",
    "    MCP Toolbox サーバーに接続し、ツールを実行するための汎用クライアント。\n",
    "    特定の分析ロジックを持たず、ツールの実行に特化する。\n",
    "    \"\"\"\n",
    "    \n",
    "    def __init__(self, server_url: str = None):\n",
    "        \"\"\"\n",
    "        クライアントを初期化します。\n",
    "        \n",
    "        Args:\n",
    "            server_url: 接続先の MCP サーバー URL。None の場合は設定ファイルから読み込みます。\n",
    "        \"\"\"\n",
    "        self.server_url = server_url or MCP_CONFIG[\"server_url\"]\n",
    "        self._toolbox = ToolboxClient(self.server_url)\n",
    "        self._tools = {}  # ツールを名前で管理するための辞書\n",
    "\n",
    "    async def __aenter__(self):\n",
    "        \"\"\"非同期コンテキストマネージャーを開始し、ツールを読み込みます。\"\"\"\n",
    "        await self._toolbox.__aenter__()\n",
    "        # サーバーから利用可能なすべてのツールを読み込む\n",
    "        loaded_tools = await self._toolbox.load_toolset(\"google-trends-analysis\")\n",
    "        # ツールを名前で簡単に呼び出せるように辞書に格納\n",
    "        self._tools = {getattr(tool, '_name', ''): tool for tool in loaded_tools}\n",
    "        \n",
    "        print(f\"✅ MCP Client connected to {self.server_url}\")\n",
    "        print(f\"   Tools loaded: {list(self._tools.keys())}\")\n",
    "        return self\n",
    "\n",
    "    async def __aexit__(self, exc_type, exc_val, exc_tb):\n",
    "        \"\"\"非同期コンテキストマネージャーを終了します。\"\"\"\n",
    "        await self._toolbox.__aexit__(exc_type, exc_val, exc_tb)\n",
    "\n",
    "    async def execute_sql(self, sql: str) -> any:\n",
    "        \"\"\"\n",
    "        MCP サーバー経由で 'bigquery-execute-sql' ツールを実行します。\n",
    "        \n",
    "        Args:\n",
    "            sql: 実行する SQL クエリ文字列。\n",
    "            \n",
    "        Returns:\n",
    "            クエリの実行結果。\n",
    "        \"\"\"\n",
    "        # 'bigquery-execute-sql' ツールを取得\n",
    "        sql_tool = self._tools.get('execute_sql_tool')\n",
    "        if not sql_tool:\n",
    "            raise RuntimeError(\"'execute_sql_tool' tool not found on the MCP server.\")\n",
    "            \n",
    "        try:\n",
    "            # ツールを直接パラメータ付きで呼び出す\n",
    "            print(f\"Executing SQL via MCP: {sql[:100]}...\")\n",
    "            result = await sql_tool(sql=sql)\n",
    "            return result\n",
    "        except Exception as e:\n",
    "            print(f\"❌ Error executing SQL via MCP: {e}\")\n",
    "            raise\n",
    "\n",
    "    async def get_japan_trends(self, days: int = 7, limit: int = 20) -> any:\n",
    "        \"\"\"\n",
    "        【カスタムツール】MCPサーバー経由で'get_japan_trends'ツールを実行し、日本のトレンドを取得します。\n",
    "        \n",
    "        Args:\n",
    "            days: 遡る日数 (デフォルト: 7)\n",
    "            limit: 取得する最大件数 (デフォルト: 20)\n",
    "            \n",
    "        Returns:\n",
    "            クエリの実行結果。\n",
    "        \"\"\"\n",
    "        # tools.yamlで定義されたツール名 'get_japan_trends' を指定\n",
    "        trends_tool = self._tools.get('get_japan_trends')\n",
    "        if not trends_tool:\n",
    "            raise RuntimeError(\"'get_japan_trends' tool not found on the MCP server.\")\n",
    "            \n",
    "        try:\n",
    "            print(f\"Executing get_japan_trends via MCP with days={days}, limit={limit}...\")\n",
    "            result = await trends_tool(days=days, limit=limit)\n",
    "            return result\n",
    "        except Exception as e:\n",
    "            print(f\"❌ Error executing get_japan_trends via MCP: {e}\")\n",
    "            raise\n",
    "\n",
    "    async def bigquery_get_dataset_info(self, dataset_id: str) -> any:\n",
    "        \"\"\"\n",
    "        【ADKツール】MCPサーバー経由で'bigquery_get_dataset_info'ツールを実行します。\n",
    "        \n",
    "        Args:\n",
    "            dataset_id: 情報を取得するBigQueryデータセットID。\n",
    "            \n",
    "        Returns:\n",
    "            データセット情報。\n",
    "        \"\"\"\n",
    "        tool = self._tools.get('bigquery_get_dataset_info')\n",
    "        if not tool:\n",
    "            raise RuntimeError(\"'bigquery_get_dataset_info' tool not found on the MCP server.\")\n",
    "            \n",
    "        try:\n",
    "            print(f\"Executing bigquery_get_dataset_info via MCP for dataset: {dataset_id}...\")\n",
    "            result = await tool(dataset_id=dataset_id)\n",
    "            return result\n",
    "        except Exception as e:\n",
    "            print(f\"❌ Error executing bigquery_get_dataset_info via MCP: {e}\")\n",
    "            raise\n",
    "\n",
    "    async def bigquery_get_table_info(self, table_id: str) -> any:\n",
    "        \"\"\"\n",
    "        【ADKツール】MCPサーバー経由で'bigquery_get_table_info'ツールを実行します。\n",
    "        \n",
    "        Args:\n",
    "            table_id: 情報を取得するBigQueryテーブルID。\n",
    "            \n",
    "        Returns:\n",
    "            テーブル情報（スキーマなど）。\n",
    "        \"\"\"\n",
    "        tool = self._tools.get('bigquery_get_table_info')\n",
    "        if not tool:\n",
    "            raise RuntimeError(\"'bigquery_get_table_info' tool not found on the MCP server.\")\n",
    "            \n",
    "        try:\n",
    "            print(f\"Executing bigquery_get_table_info via MCP for table: {table_id}...\")\n",
    "            result = await tool(table_id=table_id)\n",
    "            return result\n",
    "        except Exception as e:\n",
    "            print(f\"❌ Error executing bigquery_get_table_info via MCP: {e}\")\n",
    "            raise\n",
    "\n",
    "# ----------------------------------------------------\n",
    "# 動作確認用のデモ関数\n",
    "# ----------------------------------------------------\n",
    "async def demo_simple_mcp_client():\n",
    "    \"\"\"\n",
    "    MCPClient の動作を確認するためのデモ関数です。\n",
    "    \"\"\"\n",
    "    print(\"🚀 MCP Client Demo Start\")\n",
    "    try:\n",
    "        async with MCPClient() as client:\n",
    "            query = \"SELECT term, rank FROM `bigquery-public-data.google_trends.international_top_terms` WHERE country_code = 'JP' ORDER BY week DESC, rank ASC LIMIT 3\"\n",
    "            result = await client.execute_sql(sql=query)\n",
    "            \n",
    "            print(\"\\n✅ Query Result:\")\n",
    "            # 結果を整形して表示\n",
    "            print(json.dumps(result, indent=2, ensure_ascii=False))\n",
    "\n",
    "            result_trends = await client.get_japan_trends(days=7, limit=2)\n",
    "            print(\"\\n✅ Demo Query Result (get_japan_trends):\")\n",
    "            print(json.dumps(result_trends, indent=2, ensure_ascii=False))\n",
    "\n",
    "    except Exception as e:\n",
    "        print(f\"\\n❌ Demo failed: {e}\")\n",
    "\n",
    "# --- デモを実行 ---\n",
    "# このセルを実行すると、MCP サーバーに接続し、簡単な SQL クエリを実行して結果を表示します。\n",
    "asyncio.run(demo_simple_mcp_client())"
   ]
  },
  {
   "cell_type": "markdown",
   "id": "uOP5abSuN_my",
   "metadata": {
    "id": "uOP5abSuN_my"
   },
   "source": [
    "---\n",
    "\n",
    "## 第 4 章：エージェントの開発 - ADK を使ったデータ分析エージェント"
   ]
  },
  {
   "cell_type": "markdown",
   "id": "o00VmbqyOMAR",
   "metadata": {
    "id": "o00VmbqyOMAR"
   },
   "source": [
    "### ADK エージェントの定義"
   ]
  },
  {
   "cell_type": "code",
   "execution_count": 116,
   "id": "pQ-CsCYIOMpn",
   "metadata": {
    "id": "pQ-CsCYIOMpn"
   },
   "outputs": [
    {
     "name": "stderr",
     "output_type": "stream",
     "text": [
      "Unclosed client session\n",
      "client_session: <aiohttp.client.ClientSession object at 0x7a1b22edb290>\n"
     ]
    },
    {
     "name": "stdout",
     "output_type": "stream",
     "text": [
      "🚀 MCP Toolbox エージェント初期化開始...\n",
      "✅ ツール読み込み成功: 4個\n",
      "   📋 bigquery_get_dataset_info: Use this tool to get dataset metadata.\n",
      "   📋 bigquery_get_table_info: Use this tool to get table metadata.\n",
      "   📋 execute_sql_tool: Execute SQL query on Google Trends BigQuery dataset\n",
      "   📋 get_japan_trends: Get top trending terms for Japan from Google Trends dataset\n",
      "🤖 エージェント初期化完了!\n",
      "🎉 MCP Toolbox ADK エージェント準備完了!\n"
     ]
    }
   ],
   "source": [
    "from google.adk.agents import Agent\n",
    "from toolbox_core import ToolboxClient\n",
    "import asyncio\n",
    "from mcp_config import MCP_CONFIG\n",
    "\n",
    "# グローバル変数で MCP Toolbox クライアントとツールを管理\n",
    "global_toolbox_client = None\n",
    "global_tools = None\n",
    "trends_analysis_agent = None\n",
    "\n",
    "async def initialize_mcp_agent():\n",
    "    \"\"\"MCP Toolbox エージェントの初期化\"\"\"\n",
    "    global global_toolbox_client, global_tools, trends_analysis_agent\n",
    "    \n",
    "    print(\"🚀 MCP Toolbox エージェント初期化開始...\")\n",
    "    \n",
    "    try:\n",
    "        # 永続的な MCP Toolbox クライアント作成\n",
    "        global_toolbox_client = ToolboxClient(MCP_CONFIG['server_url'])\n",
    "        await global_toolbox_client.__aenter__()\n",
    "        \n",
    "        # ツールセットロード\n",
    "        global_tools = await global_toolbox_client.load_toolset(\"google-trends-analysis\")\n",
    "        print(f\"✅ ツール読み込み成功: {len(global_tools)}個\")\n",
    "        \n",
    "        # ツール一覧表示\n",
    "        for tool in global_tools:\n",
    "            tool_name = getattr(tool, '_name', 'unknown')\n",
    "            tool_desc = getattr(tool, '_description', 'No description')\n",
    "            print(f\"   📋 {tool_name}: {tool_desc}\")\n",
    "        \n",
    "        # ADK エージェント定義\n",
    "        trends_analysis_agent = Agent(\n",
    "            name=\"trends_analysis_agent\",\n",
    "            model=DEFAULT_MODEL,\n",
    "            description=\"Google Trends データを分析してマーケティングインサイトを提供します。\",\n",
    "            instruction=\"\"\"あなたは BigQuery のツールにアクセスできる、優秀なデータ分析エージェントです。\n",
    "    あなたの役割は、ビジネスに関する質問に対して、SQL クエリを生成・実行し、実用的な回答を自然言語で返すことです。\n",
    "\n",
    "    # データセット情報\n",
    "    public_dataset: bigquery-public-data.google_trends.international_top_terms\n",
    "\n",
    "    利用可能なツール:\n",
    "    - execute_sql_tool: SQL クエリ実行\n",
    "    - bigquery_get_dataset_info: BigQuery データセット情報取得\n",
    "    - bigquery_get_table_info: BigQuery テーブル情報取得,\n",
    "    - get_japan_trends: 日本のトレンド取得\n",
    "\n",
    "    # 行動のルール\n",
    "    1. まず、使用可能なツールを理解してください。\n",
    "    2. ユーザーの質問に答えるために、適切なツールを使ってください。\n",
    "    3. 回答は必ず自然言語で行い、取得したデータに基づいて回答してください。\n",
    "    4. SQL クエリやコードそのものを提示しないでください。\n",
    "\"\"\",\n",
    "            tools=global_tools  # 永続的なツール\n",
    "        )\n",
    "        \n",
    "        print(f\"🤖 エージェント初期化完了!\")\n",
    "        return trends_analysis_agent\n",
    "        \n",
    "    except Exception as e:\n",
    "        print(f\"❌ 初期化エラー: {e}\")\n",
    "        import traceback\n",
    "        traceback.print_exc()\n",
    "        return None\n",
    "\n",
    "async def cleanup_mcp_agent():\n",
    "    \"\"\"MCP Toolbox エージェントのクリーンアップ\"\"\"\n",
    "    global global_toolbox_client\n",
    "    \n",
    "    if global_toolbox_client:\n",
    "        try:\n",
    "            await global_toolbox_client.__aexit__(None, None, None)\n",
    "            print(\"✅ MCP Toolbox セッション正常終了\")\n",
    "        except Exception as e:\n",
    "            print(f\"⚠️ クリーンアップエラー: {e}\")\n",
    "\n",
    "# 初期化実行\n",
    "trends_analysis_agent = await initialize_mcp_agent()\n",
    "\n",
    "if trends_analysis_agent:\n",
    "    print(\"🎉 MCP Toolbox ADK エージェント準備完了!\")\n",
    "else:\n",
    "    print(\"❌ エージェント初期化に失敗しました\")\n"
   ]
  },
  {
   "cell_type": "markdown",
   "id": "pMDERYNdORgz",
   "metadata": {
    "id": "pMDERYNdORgz"
   },
   "source": [
    "### LocalAgent ラッパークラス（非同期対応）"
   ]
  },
  {
   "cell_type": "code",
   "execution_count": 117,
   "id": "L3kegThUOT0W",
   "metadata": {
    "id": "L3kegThUOT0W"
   },
   "outputs": [
    {
     "name": "stdout",
     "output_type": "stream",
     "text": [
      "✅ LocalAgent ラッパークラスを定義しました\n"
     ]
    }
   ],
   "source": [
    "import uuid\n",
    "import asyncio\n",
    "import json\n",
    "import base64\n",
    "from google.adk.sessions import InMemorySessionService\n",
    "from google.adk.runners import Runner\n",
    "from google.genai import types\n",
    "from IPython.display import display, Markdown, Image\n",
    "\n",
    "class LocalAgent:\n",
    "    \"\"\"MCP Toolbox 対応 LocalAgent ラッパー\"\"\"\n",
    "    \n",
    "    def __init__(self, agent, app_name='minitap_analytics', user_id='analyst_user', debug=False, initial_state=None):\n",
    "        self._agent = agent\n",
    "        self._app_name = app_name\n",
    "        self._user_id = user_id\n",
    "        self._runner = Runner(\n",
    "            app_name=self._app_name,\n",
    "            agent=self._agent,\n",
    "            session_service=InMemorySessionService()\n",
    "        )\n",
    "        self._session = None\n",
    "        self._debug = debug\n",
    "        self._initial_state = initial_state\n",
    "\n",
    "    def print_session_state(self):\n",
    "        \"\"\"セッション状態を表示\"\"\"\n",
    "        return self._session\n",
    "    \n",
    "    async def stream(self, query):\n",
    "        \"\"\"非同期ストリーミング処理\"\"\"\n",
    "        try:\n",
    "            # セッション初期化\n",
    "            if not self._session:\n",
    "                self._session = await self._runner.session_service.create_session(\n",
    "                    app_name=self._app_name,\n",
    "                    user_id=self._user_id,\n",
    "                    session_id=uuid.uuid4().hex,\n",
    "                    state=self._initial_state\n",
    "                )\n",
    "            \n",
    "            # メッセージ作成\n",
    "            content = types.Content(role='user', parts=[types.Part.from_text(text=query)])\n",
    "            \n",
    "            # エージェント実行\n",
    "            async_events = self._runner.run_async(\n",
    "                user_id=self._user_id,\n",
    "                session_id=self._session.id,\n",
    "                new_message=content,\n",
    "            )\n",
    "            \n",
    "            messages = []\n",
    "            \n",
    "            # イベント処理\n",
    "            async for event in async_events:\n",
    "                if self._debug:\n",
    "                    print(f\"呼び出しAgent: {getattr(event, 'author', 'unknown')}\")\n",
    "\n",
    "                if getattr(event, 'content', None) and getattr(event.content, 'parts', None):\n",
    "                    for p in event.content.parts:\n",
    "                        # テキスト応答の処理\n",
    "                        if getattr(p, 'text', None):\n",
    "                            response = p.text\n",
    "                            display(Markdown(response))\n",
    "                            messages.append(response)\n",
    "                        \n",
    "                        # ツールからの応答（画像を含む JSON）の処理\n",
    "                        elif getattr(p, 'function_response', None):\n",
    "                            try:\n",
    "                                tool_result_json = p.function_response.response['result']\n",
    "                                \n",
    "                                # JSON 文字列の場合はパース\n",
    "                                if isinstance(tool_result_json, str):\n",
    "                                    try:\n",
    "                                        tool_result = json.loads(tool_result_json)\n",
    "                                    except json.JSONDecodeError:\n",
    "                                        tool_result = {\"message\": tool_result_json}\n",
    "                                else:\n",
    "                                    tool_result = tool_result_json\n",
    "                                \n",
    "                                # メッセージ表示\n",
    "                                if 'message' in tool_result:\n",
    "                                    display(Markdown(tool_result['message']))\n",
    "                                    messages.append(tool_result['message'])\n",
    "                                \n",
    "                                # 画像表示\n",
    "                                if 'image' in tool_result:\n",
    "                                    image_data = base64.b64decode(tool_result['image'])\n",
    "                                    display(Image(data=image_data))\n",
    "                                    \n",
    "                            except (json.JSONDecodeError, KeyError, TypeError) as e:\n",
    "                                if self._debug:\n",
    "                                    print(f\"⚠️ ツール結果処理エラー: {e}\")\n",
    "                                pass\n",
    "                        \n",
    "                        # デバッグ用のツール呼び出しログ\n",
    "                        elif self._debug and getattr(p, 'function_call', None):\n",
    "                            function_call_name = p.function_call.name\n",
    "                            if function_call_name:\n",
    "                                print(f\"呼び出し Tool: {function_call_name}\")\n",
    "                            \n",
    "            return '\\\\n'.join(messages)\n",
    "            \n",
    "        except Exception as e:\n",
    "            error_msg = f\"❌ エージェント実行エラー: {e}\"\n",
    "            print(error_msg)\n",
    "            if self._debug:\n",
    "                import traceback\n",
    "                traceback.print_exc()\n",
    "            return error_msg\n",
    "\n",
    "    def chat(self, query):\n",
    "        \"\"\"同期版のチャット関数（Jupyter Notebook用）\"\"\"\n",
    "        try:\n",
    "            loop = asyncio.get_event_loop()\n",
    "            if loop.is_running():\n",
    "                # Jupyter環境での非同期実行\n",
    "                import nest_asyncio\n",
    "                nest_asyncio.apply()\n",
    "                return loop.run_until_complete(self.stream(query))\n",
    "            else:\n",
    "                return asyncio.run(self.stream(query))\n",
    "        except Exception as e:\n",
    "            error_msg = f\"❌ チャット実行エラー: {e}\"\n",
    "            print(error_msg)\n",
    "            if self._debug:\n",
    "                import traceback\n",
    "                traceback.print_exc()\n",
    "            return error_msg\n",
    "\n",
    "print(\"✅ LocalAgent ラッパークラスを定義しました\")"
   ]
  },
  {
   "cell_type": "markdown",
   "id": "plJEgziIOXJC",
   "metadata": {
    "id": "plJEgziIOXJC"
   },
   "source": [
    "### 🤖 実践分析 - エージェントとの対話\n",
    "\n",
    "#### エージェントクライアントの初期化"
   ]
  },
  {
   "cell_type": "code",
   "execution_count": 119,
   "id": "SO5JRF5eOaBZ",
   "metadata": {
    "id": "SO5JRF5eOaBZ"
   },
   "outputs": [
    {
     "name": "stdout",
     "output_type": "stream",
     "text": [
      "🎯 トレンド分析を開始します\n",
      "============================================================\n"
     ]
    }
   ],
   "source": [
    "# エージェントクライアントの初期化\n",
    "analysis_agent = LocalAgent(trends_analysis_agent, debug=True)\n",
    "\n",
    "print(\"🎯 トレンド分析を開始します\")\n",
    "print(\"=\" * 60)"
   ]
  },
  {
   "cell_type": "markdown",
   "id": "cUwXpq4wOdJf",
   "metadata": {
    "id": "cUwXpq4wOdJf"
   },
   "source": [
    "### 🌟 **自然言語でのデータ分析体験**\n",
    "\n",
    "#### シナリオ 1: 急上昇キーワード分析"
   ]
  },
  {
   "cell_type": "code",
   "execution_count": 120,
   "id": "5ozlpFdyOf2h",
   "metadata": {
    "id": "5ozlpFdyOf2h"
   },
   "outputs": [
    {
     "name": "stdout",
     "output_type": "stream",
     "text": [
      "------------------シナリオ 1: 急上昇キーワード分析------------------\n",
      "呼び出しAgent: trends_analysis_agent\n",
      "呼び出し Tool: get_japan_trends\n",
      "呼び出しAgent: trends_analysis_agent\n",
      "呼び出しAgent: trends_analysis_agent\n"
     ]
    },
    {
     "data": {
      "text/markdown": [
       "日本の最新トップトレンドと、その背景についての分析結果をお伝えします。\n",
       "\n",
       "*   **へずまりゅう 辞職勧告**: こちらは、迷惑系YouTuberとして知られる「へずまりゅう」氏に関する話題です。彼が何らかの役職に就いており、その職を辞するように勧告されたという出来事が注目を集めているようです。\n",
       "\n",
       "*   **江口のりこ**: 女優の「江口のりこ」さんに関するトレンドです。新しいドラマや映画への出演、あるいは彼女に関する何らかのニュースが報じられ、検索数が増加したと考えられます。\n",
       "\n",
       "*   **棒高跳び 世界記録**: 陸上競技の棒高跳びで、世界新記録が樹立されたことによるトレンドです。スポーツ界における大きなニュースとして、多くの関心を集めています。\n",
       "\n",
       "*   **Mリーグ**: プロ麻雀リーグ「Mリーグ」に関するトレンドです。新シーズンの開幕や、注目度の高い試合が行われたことなどが、検索数増加の要因として考えられます。\n",
       "\n",
       "*   **ヒカル 炎上**: 人気YouTuberの「ヒカル」氏が、何らかの騒動や批判を浴びている状況（いわゆる「炎上」）になっていることを示唆しています。彼の言動が注目され、多くの人が情報を検索しているようです。\n",
       "\n",
       "*   **齋藤みう**: 「齋藤みう」という人物名がトレンド入りしています。これは、新人タレントの登場や、最近話題の出来事に関わっている人物である可能性が考えられます。\n",
       "\n",
       "*   **ロト6当選番号**: 数字選択式宝くじ「ロト6」の当選番号が発表され、多くの人が結果を確認するために検索しています。\n",
       "\n",
       "*   **山本有真**: 「山本有真」という人物名もトレンドに上がっています。スポーツ選手や芸能人など、最近メディアで取り上げられた人物である可能性が高いです。\n",
       "\n",
       "*   **上白石萌音 結婚**: 人気女優・歌手の「上白石萌音」さんの結婚に関する情報や噂が広まり、大きな話題となっていることを示しています。\n",
       "\n",
       "*   **3000メートル障害**: 陸上競技の3000メートル障害に関するトレンドです。日本の選手が活躍した大会があったか、あるいは注目すべき記録が出たことなどが考えられます。\n",
       "\n",
       "これらのトレンドは、エンターテイメント、スポーツ、時事問題など、多岐にわたる分野の出来事がリアルタイムで人々の関心を集めていることを示しています。"
      ],
      "text/plain": [
       "<IPython.core.display.Markdown object>"
      ]
     },
     "metadata": {},
     "output_type": "display_data"
    }
   ],
   "source": [
    "print(\"------------------シナリオ 1: 急上昇キーワード分析------------------\")\n",
    "\n",
    "# 自然言語での分析指示\n",
    "query1 = \"\"\"\n",
    "日本のトップトレンドを取得し、背景を分析してください。\n",
    "\"\"\"\n",
    "\n",
    "# エージェントとの対話実行\n",
    "result1 = analysis_agent.chat(query1)"
   ]
  },
  {
   "cell_type": "markdown",
   "id": "aeJFmauDOjrN",
   "metadata": {
    "id": "aeJFmauDOjrN"
   },
   "source": [
    "#### シナリオ 2: 主要市場の比較分析"
   ]
  },
  {
   "cell_type": "code",
   "execution_count": 121,
   "id": "OGjXm7mPOlro",
   "metadata": {
    "id": "OGjXm7mPOlro"
   },
   "outputs": [
    {
     "name": "stdout",
     "output_type": "stream",
     "text": [
      "\n",
      "------------------シナリオ 2: 主要市場の比較分析------------------\n",
      "呼び出しAgent: trends_analysis_agent\n",
      "呼び出し Tool: execute_sql_tool\n",
      "呼び出しAgent: trends_analysis_agent\n",
      "呼び出しAgent: trends_analysis_agent\n",
      "呼び出し Tool: execute_sql_tool\n",
      "呼び出しAgent: trends_analysis_agent\n",
      "呼び出しAgent: trends_analysis_agent\n",
      "呼び出し Tool: get_japan_trends\n",
      "呼び出しAgent: trends_analysis_agent\n",
      "呼び出しAgent: trends_analysis_agent\n"
     ]
    },
    {
     "data": {
      "text/markdown": [
       "日本とイギリスのトレンド比較分析、およびそれに基づいたマーケティング戦略をご提案します。\n",
       "\n",
       "### 日本とイギリスのトレンド比較分析\n",
       "\n",
       "#### 共通するグローバルトレンド\n",
       "\n",
       "*   **著名人・ブランド**: イギリスのトレンドに見られる「The Rock」（世界的な映画スター）や「Apple」（グローバルIT企業）は、国境を越えて関心を集めるトピックです。\n",
       "*   **スポーツへの関心**: 日本の「棒高跳び 世界記録」やイギリスの「BBC Sport」「BBC Football」など、両国ともにスポーツニュースへの関心が高いことが共通しています。ただし、関心のある競技の種類は異なります。\n",
       "\n",
       "#### 市場固有のローカルトレンド\n",
       "\n",
       "*   **日本**:\n",
       "    *   **国内の著名人・エンタメ情報が中心**: 「へずまりゅう」「江口のりこ」「ヒカル」「上白石萌音」など、国内のYouTuberや俳優、タレントに関する話題がトレンドの大半を占めています。これは、日本のユーザーが国内のエンターテイメントやインフルエンサーに非常に高い関心を持っていることを示しています。\n",
       "    *   **特定のイベントやサービス**: 「Mリーグ」（国内のプロ麻雀リーグ）や「ロト6当選番号」（宝くじ）など、日本独自の文化やサービスに関連するキーワードが目立ちます。\n",
       "\n",
       "*   **イギリス**:\n",
       "    *   **実用的な情報検索**: 「Weather tomorrow」（明日の天気）や「Sleeping bag」（寝袋）、「TV licence」（テレビ受信許可証）など、日常生活に密着した実用的なキーワードが多く見られます。\n",
       "    *   **大手国内ブランド・メディア**: 「Tesco」（大手スーパーマーケット）や「BBC」（英国放送協会）など、国民的なブランドやメディアへの関心が高いことが伺えます。\n",
       "\n",
       "#### 文化的・地域的な違いが表れているキーワード\n",
       "\n",
       "*   **インフルエンサー文化**: 日本では「炎上」という言葉に代表されるように、インフルエンサーの言動が大きな話題となりやすい文化があります。\n",
       "*   **スポーツの好み**: イギリスでは「Football」（サッカー）が強い関心を集めている一方、日本では「棒高跳び」「3000メートル障害」といった陸上競技や、「Mリーグ」のような独自のプロスポーツがトレンド入りしており、両国のスポーツ文化の違いを反映しています。\n",
       "*   **検索行動**: イギリスのトレンドは日々の生活に必要な情報を得るための「目的志向」の検索が多いのに対し、日本のトレンドは話題の出来事や人物に関する「好奇心主導」の検索が多いという違いが見られます。\n",
       "\n",
       "### 各市場での戦略の違いのご提案\n",
       "\n",
       "以上の分析に基づき、各市場で効果的と考えられるマーケティング戦略を提案します。\n",
       "\n",
       "#### 日本市場向けの戦略\n",
       "\n",
       "*   **インフルエンサーマーケティングの積極活用**:\n",
       "    話題の俳優、タレント、YouTuberとのタイアップは非常に効果的です。ただし、「炎上」のリスクも考慮し、起用するインフルエンサーの選定は慎重に行う必要があります。\n",
       "*   **トレンドや時事ネタとの連動**:\n",
       "    スポーツの速報やエンタメニュースなど、世間の関心が高まっているトピックに絡めた迅速な情報発信やプロモーションが有効です。\n",
       "*   **国内の文化・イベントに根差した企画**:\n",
       "    Mリーグのような国内独自の人気コンテンツや、季節のイベントなどに合わせたキャンペーンを展開することで、ユーザーの共感を呼びやすくなります。\n",
       "\n",
       "#### イギリス市場向けの戦略\n",
       "\n",
       "*   **実用性と価値の訴求**:\n",
       "    製品やサービスが「いかに日々の生活の役に立つか」を具体的かつ分かりやすく伝えるメッセージが響きやすいでしょう。\n",
       "*   **信頼性の高い大手メディア・ブランドとの連携**:\n",
       "    BBCやTescoのような国民的ブランドと連携することで、信頼性を高め、幅広い層にアプローチすることが可能です。\n",
       "*   **地域性に合わせたターゲティング**:\n",
       "    「North West」（北西地域）のような地域名がトレンド入りすることから、特定の地域に絞った広告配信やプロモーションも効果が期待できます。"
      ],
      "text/plain": [
       "<IPython.core.display.Markdown object>"
      ]
     },
     "metadata": {},
     "output_type": "display_data"
    }
   ],
   "source": [
    "print(\"\\n------------------シナリオ 2: 主要市場の比較分析------------------\")\n",
    "\n",
    "# より具体的な分析指示\n",
    "query2 = \"\"\"\n",
    "日本(JP)とイギリス(GB)のトレンドを比較分析してください。\n",
    "\n",
    "分析観点：\n",
    "- 共通するグローバルトレンド\n",
    "- 市場固有のローカルトレンド\n",
    "- 文化的・地域的な違いが表れているキーワード\n",
    "\n",
    "各市場での戦略の違いについても提案してください。\n",
    "\"\"\"\n",
    "\n",
    "result2 = analysis_agent.chat(query2)"
   ]
  },
  {
   "cell_type": "markdown",
   "id": "QncxOlASOpRL",
   "metadata": {
    "id": "QncxOlASOpRL"
   },
   "source": [
    "#### シナリオ 3: マーケティング戦略提案"
   ]
  },
  {
   "cell_type": "code",
   "execution_count": 122,
   "id": "Y_eejmLjOrmG",
   "metadata": {
    "id": "Y_eejmLjOrmG"
   },
   "outputs": [
    {
     "name": "stdout",
     "output_type": "stream",
     "text": [
      "\n",
      "------------------シナリオ 3: マーケティング戦略提案------------------\n",
      "呼び出しAgent: trends_analysis_agent\n"
     ]
    },
    {
     "data": {
      "text/markdown": [
       "承知いたしました。日本のマーケティング担当者が次に注目すべき点を3点、簡潔に提案します。\n",
       "\n",
       "1.  **インフルエンサーの影響力と「炎上」リスクの再評価:**\n",
       "    国内のタレントやYouTuberの話題は依然として人々の関心の中心です。しかし、「炎上」というキーワードが示すように、その影響力は諸刃の剣でもあります。コラボレーション先の選定基準を再評価し、リスク管理体制を強化することが不可欠です。\n",
       "\n",
       "2.  **「瞬間的な熱狂」を捉えるリアルタイム性:**\n",
       "    スポーツの世界記録や著名人の結婚など、日本のトレンドは予測困難な「瞬間的なイベント」によって大きく動きます。この熱狂を逃さず自社のマーケティングに結びつけるため、SNSなどを通じてリアルタイムで話題を察知し、迅速に対応できる俊敏なチーム体制と企画力が求められます。\n",
       "\n",
       "3.  **「ニッチなコミュニティ」の熱狂度:**\n",
       "    「Mリーグ」のような特定の趣味やジャンルが大きなトレンドになることから、ニッチな領域にも非常に熱狂的なファンコミュニティが存在することがわかります。自社ブランドと親和性の高いニッチなコミュニティを見つけ、その中で深く響くアプローチを行うことで、費用対効果の高いマーケティングが期待できます。"
      ],
      "text/plain": [
       "<IPython.core.display.Markdown object>"
      ]
     },
     "metadata": {},
     "output_type": "display_data"
    }
   ],
   "source": [
    "print(\"\\n------------------シナリオ 3: マーケティング戦略提案------------------\")\n",
    "\n",
    "# 戦略的な分析指示\n",
    "query3 = \"\"\"\n",
    "ここまでの分析結果を基に、日本のマーケティング担当者が次に注目すべき点を簡潔に提案してください。\n",
    "\"\"\"\n",
    "\n",
    "result3 = analysis_agent.chat(query3)"
   ]
  },
  {
   "cell_type": "markdown",
   "id": "4551g7YEOuXi",
   "metadata": {
    "id": "4551g7YEOuXi"
   },
   "source": [
    "#### 🎯 **フリーフォーム分析**\n",
    "##### 💬 ここで自由に質問してみましょう！"
   ]
  },
  {
   "cell_type": "code",
   "execution_count": 50,
   "id": "pNkpfJXXOyvt",
   "metadata": {
    "id": "pNkpfJXXOyvt"
   },
   "outputs": [
    {
     "name": "stdout",
     "output_type": "stream",
     "text": [
      "\n",
      "------------------フリーフォーム分析------------------\n",
      "💬 ここで自由に質問してみましょう！\n",
      "呼び出しAgent: trends_analysis_agent\n",
      "呼び出し Tool: execute_sql_tool\n",
      "呼び出しAgent: trends_analysis_agent\n",
      "呼び出しAgent: trends_analysis_agent\n"
     ]
    },
    {
     "data": {
      "text/markdown": [
       "はい、承知いたしました。\n",
       "グローバルの最新トレンドの中から、エンターテイメント業界（ゲーム、音楽、テレビ番組）に関連するキーワードを抽出し、分析します。\n",
       "\n",
       "### エンタメ関連のグローバルトレンドキーワード\n",
       "\n",
       "最新のグローバル検索トレンドトップ20の中から、以下の4つのキーワードがエンターテイメント分野で特に注目されています。\n",
       "\n",
       "1.  **Silksong / Hollow Knight: Silksong (シルクソング)**\n",
       "    *   **分析**:\n",
       "        これは非常に期待されているインディーゲーム『Hollow Knight』の続編です。グローバルで2位と7位にランクインしており、極めて高い関心を集めていることがわかります。2つの関連キーワードがトップ10に入るのは異例であり、新しい予告編の公開、発売日の発表、または大規模なゲームイベントでの発表が近いことを示唆しています。インディーゲームがこれほどの世界的な話題を生む力を持っていることは、現在のゲーム市場の大きな特徴です。\n",
       "\n",
       "2.  **Radiohead (レディオヘッド)**\n",
       "    *   **分析**:\n",
       "        世界的に有名なイギリスのロックバンドです。彼らがトレンド入りする背景には、新作アルバムの発表、ツアーの告知、過去の名盤の記念盤リリース、またはメンバーのソロ活動に関する大きなニュースなどが考えられます。長年にわたり第一線で活躍するアーティストが、今なおグローバルな検索トレンドの上位に登場することは、彼らの影響力の大きさと、音楽ファンの根強い期待感を示しています。\n",
       "\n",
       "3.  **Wednesday (ウェンズデー)**\n",
       "    *   **分析**:\n",
       "        Netflixで大ヒットしたドラマシリーズです。放送終了後もトレンド上位に位置していることから、シーズン2に関する新情報、キャスト（特に主演のジェナ・オルテガ）に関するニュース、またはアワードへのノミネートなどが関心を集め続けていると推測されます。ストリーミングサービス発のコンテンツが、いかに持続的に世界的な話題を提供し続けるかを示す好例です。\n",
       "\n",
       "4.  **Urkel (アーケル)**\n",
       "    *   **分析**:\n",
       "        これは1990年代に人気を博したアメリカのテレビドラマ『ファミリー・マターズ』の登場人物「スティーブ・アーケル」を指します。昔のキャラクターが突然トレンド入りする背景には、演じていた俳優が新しい作品で注目された、ドラマのリブート（再製作）や同窓会企画が発表された、あるいは大手ストリーミングサービスで配信が開始された、といった可能性が考えられます。懐かしいコンテンツが、何かのきっかけで再び大きな話題となる「リバイバルヒット」の可能性を示しています。"
      ],
      "text/plain": [
       "<IPython.core.display.Markdown object>"
      ]
     },
     "metadata": {},
     "output_type": "display_data"
    }
   ],
   "source": [
    "print(\"\\n------------------フリーフォーム分析------------------\")\n",
    "\n",
    "# 参加者による自由な質問\n",
    "print(\"💬 ここで自由に質問してみましょう！\")\n",
    "\n",
    "# 自由な質問例\n",
    "free_query = \"\"\"\n",
    "グローバルのトレンドを取得し、\n",
    "エンターテイメント業界（映画、音楽、ゲーム等）に関連する\n",
    "トレンドキーワードを分析してください。\n",
    "\"\"\"\n",
    "\n",
    "# 実行\n",
    "result_free = analysis_agent.chat(free_query)"
   ]
  },
  {
   "cell_type": "markdown",
   "id": "5obnfdehPAyH",
   "metadata": {
    "id": "5obnfdehPAyH"
   },
   "source": [
    "---\n",
    "\n",
    "## 第 5 章：エージェントのデプロイ - Agent Engine へのデプロイ\n",
    "\n",
    "### 🔧 Agent Engine 用エージェント作成\n",
    "\n",
    "ここでは、本番環境へのデプロイを想定し、Agent Engine で動作するエージェントを定義します。\n",
    "\n",
    "これまでの章で作成したコンポーネント（MCP サーバー、MCP クライアント）を最大限に活用し、シンプルで再利用性の高いエージェントを作成します。"
   ]
  },
  {
   "cell_type": "code",
   "execution_count": 53,
   "id": "77f94918",
   "metadata": {},
   "outputs": [
    {
     "name": "stdout",
     "output_type": "stream",
     "text": [
      "✅ MCP 設定を自動読み込み:\n",
      "   🌐 サーバー URL: https://mcp-trends-custom-babj3ulyaa-uc.a.run.app\n",
      "   📋 プロジェクト ID: data-agent-bq\n",
      "✅ Agent Engine 用エージェントを作成しました。\n",
      "   - 利用ツール: execute_sql_for_engine, get_dataset_info_for_engine, get_table_info_for_engine\n"
     ]
    }
   ],
   "source": [
    "from google.adk.agents import Agent\n",
    "import asyncio\n",
    "from toolbox_core import ToolboxClient\n",
    "\n",
    "# mcp_config.py から設定を自動読み込み\n",
    "try:\n",
    "    from mcp_config import MCP_CONFIG\n",
    "    MCP_SERVER_URL = MCP_CONFIG[\"server_url\"]\n",
    "    PROJECT_ID = MCP_CONFIG[\"project_id\"]\n",
    "    print(f\"✅ MCP 設定を自動読み込み:\")\n",
    "    print(f\"   🌐 サーバー URL: {MCP_SERVER_URL}\")\n",
    "    print(f\"   📋 プロジェクト ID: {PROJECT_ID}\")\n",
    "except ImportError:\n",
    "    print(\"⚠️ mcp_config.py が見つかりません。手動設定を使用します。\")\n",
    "    MCP_SERVER_URL = \"YOUR_MCP_SERVER_URL\"  # ここにデプロイした URL を手動で設定\n",
    "    PROJECT_ID = \"YOUR_PROJECT_ID\" # ここにプロジェクト ID を手動で設定\n",
    "\n",
    "# --- Agent Engine で動作する非同期ツールの定義 ---\n",
    "\n",
    "async def _run_mcp_tool_async(tool_name: str, **kwargs) -> any:\n",
    "    \"\"\"指定されたMCPツールを非同期で呼び出す内部ヘルパー関数\"\"\"\n",
    "    try:\n",
    "        async with ToolboxClient(MCP_SERVER_URL) as toolbox:\n",
    "            tools = await toolbox.load_toolset(\"google-trends-analysis\")\n",
    "            target_tool = next(\n",
    "                (t for t in tools if getattr(t, '_name', '') == tool_name), None\n",
    "            )\n",
    "            if not target_tool:\n",
    "                raise RuntimeError(f\"'{tool_name}' not found on the MCP server.\")\n",
    "            \n",
    "            # 動的な引数でツールを呼び出す\n",
    "            return await target_tool(**kwargs)\n",
    "    except Exception as e:\n",
    "        error_message = f\"MCP tool '{tool_name}' execution error: {str(e)}\"\n",
    "        print(f\"❌ {error_message}\")\n",
    "        return {\"error\": error_message}\n",
    "\n",
    "# --- ADK ツールとしてエージェントに渡す非同期関数群 ---\n",
    "\n",
    "async def execute_sql_for_engine(sql: str) -> list:\n",
    "    \"\"\"MCP サーバー経由で BigQuery に SQL クエリを実行します。分析やデータ取得に使います。\"\"\"\n",
    "    return await _run_mcp_tool_async(tool_name=\"execute_sql_tool\", sql=sql)\n",
    "\n",
    "async def get_dataset_info_for_engine(dataset_id: str) -> dict:\n",
    "    \"\"\"MCP サーバー経由で BigQuery のデータセット情報を取得します。\"\"\"\n",
    "    return await _run_mcp_tool_async(tool_name=\"bigquery_get_dataset_info\", dataset_id=dataset_id)\n",
    "\n",
    "async def get_table_info_for_engine(table_id: str) -> dict:\n",
    "    \"\"\"MCP サーバー経由で BigQuery のテーブルスキーマなどの情報を取得します。\"\"\"\n",
    "    return await _run_mcp_tool_async(tool_name=\"bigquery_get_table_info\", table_id=table_id)\n",
    "\n",
    "\n",
    "\n",
    "# --- Agent Engine デプロイ用の新しいエージェントを定義 ---\n",
    "\n",
    "trends_agent_for_engine = Agent(\n",
    "    name=\"trends_agent_for_engine\",\n",
    "    model=DEFAULT_MODEL,\n",
    "    description=\"MCP Toolbox for Databases を活用して BigQuery のデータ分析を行うエージェント\",\n",
    "    instruction=\"\"\"\n",
    "    あなたは Google Trends のデータを分析するプロのデータアナリストです。\n",
    "    ユーザーの質問に答えるために、以下の思考プロセスを厳密に守ってください。\n",
    "\n",
    "    # あなたの思考プロセス\n",
    "\n",
    "    ## フェーズ1: 情報収集\n",
    "    1.  まず `get_dataset_info_for_engine` や `get_table_info_for_engine` を使い、利用可能なデータの構造（スキーマなど）を把握します。\n",
    "    2.  把握したデータ構造を基に、ユーザーの質問に答えるためのSQLクエリを頭の中で組み立てます。\n",
    "    3.  組み立てたSQLクエリを `execute_sql_for_engine` ツールを使って実行し、分析に必要な情報を取得します。\n",
    "\n",
    "    ## フェーズ2: 回答生成\n",
    "    4.  **重要: `execute_sql_for_engine` で分析結果を取得したら、あなたは回答生成フェーズに入ります。**\n",
    "    5.  **このフェーズに入った後は、いかなる理由があっても他のツール（`get_dataset_info_for_engine` や `execute_sql_for_engine` など）を再度使用してはいけません。**\n",
    "    6.  ツールから返ってきたデータ（JSONやリスト形式）を解釈し、最も重要なポイントを抽出します。\n",
    "    7.  抽出した情報だけを基にして、ユーザーにとって分かりやすい自然言語の文章で最終的な回答を生成します。\n",
    "\n",
    "    # 回答時の厳格なルール\n",
    "    -   最終的な回答には、SQLクエリや分析途中のデータ（JSON）を絶対に含めないでください。\n",
    "    -   必ず、洞察や結論をまとめた、人間が読むためのテキスト形式で回答を完了させてください。\n",
    "    -   あなたの最後の応答は、必ずツール呼び出しではなく、ユーザー向けのテキストでなければなりません。\n",
    "\n",
    "    # 利用可能なデータソース\n",
    "    # データセット情報\n",
    "    public_dataset: bigquery-public-data.google_trends.international_top_terms\n",
    "    \"\"\",\n",
    "    tools=[\n",
    "        execute_sql_for_engine,\n",
    "        get_dataset_info_for_engine,\n",
    "        get_table_info_for_engine\n",
    "    ]\n",
    ")\n",
    "\n",
    "print(\"✅ Agent Engine 用エージェントを作成しました。\")\n",
    "print(f\"   - 利用ツール: {', '.join([t.__name__ for t in trends_agent_for_engine.tools])}\")"
   ]
  },
  {
   "cell_type": "markdown",
   "id": "86646263",
   "metadata": {},
   "source": [
    "### 🔐 必要な権限設定（自動実行）"
   ]
  },
  {
   "cell_type": "code",
   "execution_count": null,
   "id": "26d8fd28",
   "metadata": {},
   "outputs": [
    {
     "name": "stdout",
     "output_type": "stream",
     "text": [
      "✅ MCP設定からプロジェクトID自動読み込み: data-agent-bq\n",
      "✅ プロジェクト番号を動的取得: 258509337164\n",
      "🔐 Agent Engine用の権限設定を確認・付与中...\n",
      "✅ ユーザー権限設定: roles/aiplatform.user\n",
      "✅ ユーザー権限設定: roles/serviceusage.serviceUsageConsumer\n",
      "✅ SA権限設定: roles/storage.admin\n",
      "✅ SA権限設定: roles/storage.objectViewer\n",
      "✅ SA権限設定: roles/aiplatform.user\n",
      "✅ SA権限設定: roles/run.invoker\n",
      "✅ SA権限設定: roles/bigquery.user\n",
      "🎉 Agent Engine権限設定完了！\n"
     ]
    }
   ],
   "source": [
    "# 🔐 Agent Engine用の権限設定\n",
    "import subprocess\n",
    "import os\n",
    "\n",
    "# mcp_config.py から設定を自動読み込み\n",
    "try:\n",
    "    from mcp_config import MCP_CONFIG\n",
    "    PROJECT_ID = MCP_CONFIG[\"project_id\"]\n",
    "    print(f\"✅ MCP 設定からプロジェクト ID 自動読み込み: {PROJECT_ID}\")\n",
    "\n",
    "    # プロジェクト番号を動的に取得\n",
    "    try:\n",
    "        result = subprocess.run(\n",
    "            f\"gcloud projects describe {PROJECT_ID} --format='value(projectNumber)'\",\n",
    "            shell=True, capture_output=True, text=True, check=True\n",
    "        )\n",
    "        PROJECT_NUMBER = result.stdout.strip()\n",
    "        print(f\"✅ プロジェクト番号を動的取得: {PROJECT_NUMBER}\")\n",
    "    except subprocess.CalledProcessError:\n",
    "        print(\"⚠️ プロジェクト番号の自動取得に失敗しました\")\n",
    "        PROJECT_NUMBER = None\n",
    "\n",
    "except ImportError:\n",
    "      # フォールバック設定（mcp_config.py がない場合）\n",
    "      print(\"⚠️ mcp_config.py が見つかりません。手動設定を使用します。\")\n",
    "      PROJECT_ID = \"data-agent-bq\"  # 自動セットが失敗したら、こちらに入力してください\n",
    "      PROJECT_NUMBER = \"258509337164\"  # 自動セットが失敗したら、こちらに入力してください\n",
    "print(\"🔐 Agent Engine 用の権限設定を確認・付与中...\")\n",
    "\n",
    "def setup_agent_engine_permissions():\n",
    "    \"\"\"Agent Engine に必要な権限をセットアップ\"\"\"\n",
    "    try:\n",
    "        # 現在のユーザーに必要な権限\n",
    "        user_permissions = [\n",
    "            \"roles/aiplatform.user\",\n",
    "            \"roles/serviceusage.serviceUsageConsumer\"\n",
    "        ]\n",
    "        \n",
    "        # Agent Engine のサービスアカウントとProjectに必要な権限\n",
    "        service_account = f\"service-{PROJECT_NUMBER}@gcp-sa-aiplatform.iam.gserviceaccount.com\"\n",
    "        sa_permissions = [\n",
    "            \"roles/storage.admin\",\n",
    "            \"roles/storage.objectViewer\",\n",
    "            \"roles/aiplatform.user\",\n",
    "            \"roles/run.invoker\",\n",
    "            \"roles/bigquery.user\"\n",
    "        ]\n",
    "        \n",
    "        # ユーザー権限の設定\n",
    "        current_user = subprocess.run(\n",
    "            \"gcloud config get-value account\", \n",
    "            shell=True, capture_output=True, text=True\n",
    "        ).stdout.strip()\n",
    "        \n",
    "        if current_user:\n",
    "            for role in user_permissions:\n",
    "                cmd = f\"gcloud projects add-iam-policy-binding {PROJECT_ID} --member=\\\"user:{current_user}\\\" --role=\\\"{role}\\\"\"\n",
    "                subprocess.run(cmd, shell=True, capture_output=True)\n",
    "                print(f\"✅ ユーザー権限設定: {role}\")\n",
    "        \n",
    "        # サービスアカウント権限の設定\n",
    "        for role in sa_permissions:\n",
    "            cmd = f\"gcloud projects add-iam-policy-binding {PROJECT_ID} --member=\\\"serviceAccount:{service_account}\\\" --role=\\\"{role}\\\"\"\n",
    "            subprocess.run(cmd, shell=True, capture_output=True)\n",
    "            print(f\"✅ SA 権限設定: {role}\")\n",
    "        \n",
    "        print(\"🎉 Agent Engine 権限設定完了！\")\n",
    "        return True\n",
    "        \n",
    "    except Exception as e:\n",
    "        print(f\"⚠️ 権限設定エラー: {e}\")\n",
    "        print(\"💡 手動で以下を実行してください:\")\n",
    "        print(f\"gcloud projects add-iam-policy-binding {PROJECT_ID} --member=\\\"user:{current_user}\\\" --role=\\\"roles/aiplatform.user\\\"\")\n",
    "        print(f\"gcloud projects add-iam-policy-binding {PROJECT_ID} --member=\\\"serviceAccount:{service_account}\\\" --role=\\\"roles/storage.admin\\\"\")\n",
    "        return False\n",
    "\n",
    "# 権限設定の実行\n",
    "permissions_ok = setup_agent_engine_permissions()"
   ]
  },
  {
   "cell_type": "markdown",
   "id": "51zXBMXrPIVi",
   "metadata": {
    "id": "51zXBMXrPIVi"
   },
   "source": [
    "### Agent Engine へのデプロイ\n",
    "\n",
    "以下のセルでは、これまでのハンズオンの集大成として、作成したエージェントを Google Cloud の本番実行環境である **Agent Engine** にデプロイします。\n",
    "\n",
    "#### このコードが実行していること\n",
    "1. `AdkApp` の作成:\n",
    "- 前段で定義した `agent_for_engine`（MCP Toolbox と連携するシンプルなエージェント）を、`AdkApp` というコンテナにパッケージングします。これが Agent Engine にデプロイされる実体となります。\n",
    "\n",
    "2. `requirements` の定義:\n",
    "- デプロイされたエージェントが Cloud 上で動作するために最低限必要な Python ライブラリをリストアップしています。\n",
    "- `google-adk` や、MCP サーバーと通信するための `toolbox-core` などが含まれます。\n",
    "\n",
    "3. `agent_engines.create` の呼び出し:\n",
    "- このコマンドが、デプロイの本体です。\n",
    "- パッケージ化した `simple_app` と `requirements` を Vertex AI に送信し、バックグラウンドでコンテナイメージのビルドとデプロイを自動的に実行します。\n",
    "- 完了すると、デプロイされたエージェントの一意な ID（`resource_name`）が返されます。\n",
    "\n",
    "このプロセスにより、ローカルの Notebook で開発したエージェントを、スケーラブルで堅牢な本番環境へ簡単に移行することができます。"
   ]
  },
  {
   "cell_type": "code",
   "execution_count": 54,
   "id": "cbf00311",
   "metadata": {},
   "outputs": [
    {
     "name": "stdout",
     "output_type": "stream",
     "text": [
      "🚀 ADK アプリケーション作成中...\n",
      "\n",
      "📡 Agent Engine にデプロイ中...\n",
      "⏱️ この処理には数分かかる場合があります...\n",
      "🚀 MCP Toolbox 統合 Agent Engine デプロイを開始...\n",
      "Identified the following requirements: {'pydantic': '2.11.7', 'google-cloud-aiplatform': '1.104.0', 'cloudpickle': '3.1.1'}\n",
      "The following requirements are incompatible: {'google-cloud-aiplatform==1.104.0 (required: >=1.110.0)'}\n",
      "The final list of requirements: ['google-adk>=1.13.0', 'google-cloud-aiplatform>=1.110.0', 'google-genai>=1.30.0', 'toolbox-core>=0.5.0', 'aiohttp>=3.8.0', 'requests>=2.28.0', 'cloudpickle>=2.0.0', 'pydantic>=1.10.0', 'nest-asyncio>=1.5.0']\n",
      "Using bucket data-agent-bq-data-analysis\n",
      "Wrote to gs://data-agent-bq-data-analysis/agent_engine/agent_engine.pkl\n",
      "Writing to gs://data-agent-bq-data-analysis/agent_engine/requirements.txt\n",
      "Creating in-memory tarfile of extra_packages\n",
      "Writing to gs://data-agent-bq-data-analysis/agent_engine/dependencies.tar.gz\n",
      "Creating AgentEngine\n",
      "Create AgentEngine backing LRO: projects/258509337164/locations/us-central1/reasoningEngines/385941775488909312/operations/7082254990676328448\n",
      "View progress and logs at https://console.cloud.google.com/logs/query?project=data-agent-bq\n",
      "AgentEngine created. Resource name: projects/258509337164/locations/us-central1/reasoningEngines/385941775488909312\n",
      "To use this AgentEngine in another session:\n",
      "agent_engine = vertexai.agent_engines.get('projects/258509337164/locations/us-central1/reasoningEngines/385941775488909312')\n",
      "🎉 Agent Engine デプロイが完了しました！\n",
      "🆔 Agent ID: projects/258509337164/locations/us-central1/reasoningEngines/385941775488909312\n",
      "\n",
      "🎯 MCP Toolbox 統合 Agent Engine デプロイ処理完了\n"
     ]
    }
   ],
   "source": [
    "from vertexai import agent_engines\n",
    "from vertexai.preview.reasoning_engines import AdkApp\n",
    "\n",
    "# ADK アプリケーションの作成\n",
    "print(\"🚀 ADK アプリケーション作成中...\")\n",
    "\n",
    "simple_app = AdkApp(\n",
    "    agent=trends_agent_for_engine,\n",
    "    enable_tracing=True,\n",
    ")\n",
    "# Agent Engine へのデプロイ\n",
    "print(\"\\n📡 Agent Engine にデプロイ中...\")\n",
    "print(\"⏱️ この処理には数分かかる場合があります...\")\n",
    "\n",
    "try:\n",
    "    print(\"🚀 MCP Toolbox 統合 Agent Engine デプロイを開始...\")\n",
    "    \n",
    "    # MCP Toolbox対応の新しいrequirements\n",
    "    mcp_toolbox_requirements = [\n",
    "        # ADK/AI Platform 基本\n",
    "        'google-adk>=1.13.0',\n",
    "        'google-cloud-aiplatform>=1.110.0', \n",
    "        'google-genai>=1.30.0',\n",
    "        \n",
    "        # MCP Toolbox統合\n",
    "        'toolbox-core>=0.5.0',  # MCP Toolbox Core SDK\n",
    "        'aiohttp>=3.8.0',       # 非同期 HTTP クライアント\n",
    "        'requests>=2.28.0',     # HTTP 同期クライアント\n",
    "\n",
    "        # その他の必要なライブラリ\n",
    "        'cloudpickle>=2.0.0', \n",
    "        'pydantic>=1.10.0',\n",
    "        'nest-asyncio>=1.5.0',  # Jupyter 非同期サポート\n",
    "    ]\n",
    "    \n",
    "    remote_agent = agent_engines.create(\n",
    "        simple_app,\n",
    "        requirements=mcp_toolbox_requirements,\n",
    "        display_name=\"MiniTAP MCP Toolbox Trends Agent v1.0\",\n",
    "        description=\"MCP Toolbox for Databases 統合 Google Trends データ分析エージェント\",\n",
    "    )\n",
    "\n",
    "    print(\"🎉 Agent Engine デプロイが完了しました！\")\n",
    "    print(f\"🆔 Agent ID: {remote_agent.resource_name}\")\n",
    "\n",
    "except Exception as e:\n",
    "    print(f\"❌ MCP Toolbox 統合デプロイエラー: {e}\")\n",
    "\n",
    "print(\"\\n🎯 MCP Toolbox 統合 Agent Engine デプロイ処理完了\")\n"
   ]
  },
  {
   "cell_type": "markdown",
   "id": "Ncok3aZLPOPY",
   "metadata": {
    "id": "Ncok3aZLPOPY"
   },
   "source": [
    "### リモートエージェントとの対話"
   ]
  },
  {
   "cell_type": "code",
   "execution_count": 58,
   "id": "4-l1_D3dPQOk",
   "metadata": {
    "id": "4-l1_D3dPQOk"
   },
   "outputs": [
    {
     "name": "stdout",
     "output_type": "stream",
     "text": [
      "🌐 リモートエージェント実践テスト:\n",
      "\n",
      "🧪 テストケース 1: 最近の急上昇トレンドを5つリストアップして、その背景を分析してください。\n",
      "--------------------------------------------------\n"
     ]
    },
    {
     "data": {
      "text/markdown": [
       "最近の急上昇トレンドを分析しました。\n",
       "\n",
       "現在、日本で特に急上昇しているトレンドは「**ティファール 電気ケトル 無償交換**」です。\n",
       "\n",
       "**背景の分析**\n",
       "このキーワードが急上昇している背景には、ティファール社製の一部電気ケトルに不具合があることが判明し、メーカーが自主回収と無償交換の対応を発表したことが挙げられます。\n",
       "\n",
       "多くのユーザーが、自身が使用している製品が対象かどうかを確認したり、交換手続きの方法を調べたりするために検索した結果、検索数が急増し、Googleトレンドの急上昇ワードとして浮上したと考えられます。製品の安全性に関する情報であったため、特に多くの人々の関心を集めたものと推測されます。"
      ],
      "text/plain": [
       "<IPython.core.display.Markdown object>"
      ]
     },
     "metadata": {},
     "output_type": "display_data"
    },
    {
     "name": "stdout",
     "output_type": "stream",
     "text": [
      "✅ リモートエージェント実行完了\n",
      "\n",
      "🧪 テストケース 2: 最近日本のトレンドを分析してください。\n",
      "--------------------------------------------------\n"
     ]
    },
    {
     "data": {
      "text/markdown": [
       "日本のGoogle検索における最新のトレンドを分析しました。\n",
       "\n",
       "直近のデータによると、製品の安全性に関する情報や、時事的なニュースが大きな注目を集めています。特に「ティファール 電気ケトル 無償交換」や、国内の政治に関する「へずまりゅう 辞職勧告」が検索ランキングの1位でした。\n",
       "\n",
       "また、野球（「ドジャース 対 フィリーズ」「オリックス 対 ロッテ」）やMリーグ、陸上競技（「棒高跳び 世界記録」）といったスポーツ関連の話題も多く検索されています。\n",
       "\n",
       "その他、俳優の「江口のりこ」さんや「ロバートレッドフォード」さん、感染症の「エムポックス」、人気YouTuberの「ヒカル 炎上」など、芸能から社会問題まで幅広いトピックが現在の関心事となっていることがわかります。\n",
       "\n",
       "最新のトップ10トレンドは以下の通りです。\n",
       "\n",
       "1.  ティファール 電気ケトル 無償交換\n",
       "2.  へずまりゅう 辞職勧告\n",
       "3.  ドジャース 対 フィリーズ\n",
       "4.  江口のりこ\n",
       "5.  ロバートレッドフォード\n",
       "6.  棒高跳び 世界記録\n",
       "7.  エムポックス\n",
       "8.  mリーグ\n",
       "9.  オリックス 対 ロッテ\n",
       "10. ヒカル 炎上"
      ],
      "text/plain": [
       "<IPython.core.display.Markdown object>"
      ]
     },
     "metadata": {},
     "output_type": "display_data"
    },
    {
     "name": "stdout",
     "output_type": "stream",
     "text": [
      "✅ リモートエージェント実行完了\n",
      "\n",
      "🧪 テストケース 3: グローバルトレンドを検索し、ビジネスチャンスも教えてください\n",
      "--------------------------------------------------\n"
     ]
    },
    {
     "data": {
      "text/markdown": [
       "近年のグローバルトレンドと、そこから考えられるビジネスチャンスについてご説明します。\n",
       "\n",
       "直近のトレンドを分析したところ、大きく分けて「エンターテイメント・著名人」「テクノロジー」「スポーツ（特にサッカー）」の3つの分野への関心が高いことが分かりました。\n",
       "\n",
       "**1. エンターテイメント・著名人関連の動向**\n",
       "\n",
       "俳優の「ロバート・レッドフォード」や「オーウェン・クーパー」、そして「the pitt」といったキーワードが世界的に注目を集めています。これは、彼らが出演する新作映画やドラマ、あるいはゴシップなどが大きな話題になっていることを示唆しています。\n",
       "\n",
       "*   **ビジネスチャンスの例**\n",
       "    *   関連作品の配信サービスと連携した特集上映や、関連グッズのオンライン販売。\n",
       "    *   著名人のキャリアや作品を深掘りする解説コンテンツの制作・配信。\n",
       "\n",
       "**2. テクノロジー分野の動向**\n",
       "\n",
       "「ios 26」というキーワードが検索上位に入っています。これは、Appleの次期OSに対する世界的な期待感の表れと考えられます。新しいOSの登場は、多くのユーザーにとって大きな関心事です。\n",
       "\n",
       "*   **ビジネスチャンスの例**\n",
       "    *   新型OSに対応したスマートフォンアクセサリーの開発・販売。\n",
       "    *   新機能の活用方法を解説するオンライン講座やセミナーの開催。\n",
       "    *   新しいOSで利用できるアプリケーションの開発。\n",
       "\n",
       "**3. スポーツ（特にサッカー）関連の動向**\n",
       "\n",
       "「UEFAチャンピオンズリーグ」や「レアル・マドリード」、「ユベントス」といった、ヨーロッパのサッカーに関連するキーワードが多数見られます。世界的に人気の高いサッカーのビッグイベントや強豪チームへの関心は、常に高い水準にあります。\n",
       "\n",
       "*   **ビジネスチャンスの例**\n",
       "    *   試合のライブビューイングイベントの企画・運営。\n",
       "    *   人気チームのユニフォームや応援グッズの輸入販売。\n",
       "    *   試合結果の速報や解説、選手の独占インタビューなどを配信するスポーツメディアの運営。\n",
       "\n",
       "これらのトレンドは、世界中の人々の興味や関心がどこに向かっているかを示す貴重な指標です。ご自身のビジネスにこれらの要素を取り入れることで、新たな顧客層の開拓や、既存サービスの価値向上に繋がる可能性があります。"
      ],
      "text/plain": [
       "<IPython.core.display.Markdown object>"
      ]
     },
     "metadata": {},
     "output_type": "display_data"
    },
    {
     "name": "stdout",
     "output_type": "stream",
     "text": [
      "✅ リモートエージェント実行完了\n"
     ]
    }
   ],
   "source": [
    "# シンプルなリモートエージェント関数\n",
    "def chat_with_remote_agent(remote_agent, query, user_id=\"analyst_user\"):\n",
    "    \"\"\"リモートエージェントとのシンプルな対話（画像表示対応）\"\"\"\n",
    "    from IPython.display import display, Markdown, Image\n",
    "    import base64\n",
    "    import io\n",
    "    import json\n",
    "    try:\n",
    "        # セッション作成\n",
    "        session = remote_agent.create_session(user_id=user_id)\n",
    "        session_id = session.get('id') or session.get('session_id')\n",
    "        \n",
    "        # クエリ実行\n",
    "        events = remote_agent.stream_query(\n",
    "            user_id=user_id,\n",
    "            session_id=session_id,\n",
    "            message=query\n",
    "        )\n",
    "        \n",
    "        # 結果を収集・表示\n",
    "        responses = []\n",
    "        for event in events:\n",
    "            if isinstance(event, dict) and 'content' in event:\n",
    "                if 'parts' in event['content']:\n",
    "                    for part in event['content']['parts']:\n",
    "                        # テキスト部分の処理\n",
    "                        if 'text' in part:\n",
    "                            response_text = part['text']\n",
    "                            try:\n",
    "                                # テキストが JSON 形式の画像データか試す\n",
    "                                data = json.loads(response_text)\n",
    "                                if 'message' in data:\n",
    "                                    display(Markdown(data['message']))\n",
    "                                    responses.append(data['message'])\n",
    "                                if 'image' in data:\n",
    "                                    image_data = base64.b64decode(data['image'])\n",
    "                                    display(Image(data=image_data))\n",
    "                            except (json.JSONDecodeError, TypeError):\n",
    "                                # JSON でなければ通常のテキストとして表示\n",
    "                                display(Markdown(response_text))\n",
    "                                responses.append(response_text)\n",
    "        \n",
    "        return '\\n'.join(responses) if responses else \"応答を取得できませんでした\"\n",
    "        \n",
    "    except Exception as e:\n",
    "        return f\"❌ エラー: {e}\"\n",
    "\n",
    "# リモートエージェントの実用テスト（デプロイが成功した場合）\n",
    "if 'remote_agent' in locals():\n",
    "    print(\"🌐 リモートエージェント実践テスト:\")\n",
    "    \n",
    "    # 🚀 テストケース\n",
    "    test_cases = [\n",
    "        \"最近の急上昇トレンドを5つリストアップして、その背景を分析してください。\",\n",
    "        \"最近日本のトレンドを分析してください。\", \n",
    "        \"グローバルトレンドを検索し、ビジネスチャンスも教えてください\"\n",
    "    ]\n",
    "    \n",
    "    for i, query in enumerate(test_cases, 1):\n",
    "        print(f\"\\n🧪 テストケース {i}: {query}\")\n",
    "        print(\"-\" * 50)\n",
    "        result = chat_with_remote_agent(remote_agent, query)\n",
    "        print(\"✅ リモートエージェント実行完了\")\n",
    "else:\n",
    "    print(\"⚠️ リモートエージェントが利用できません\") \n",
    "    print(\"💡 ローカルエージェント（analysis_agent）で同等の分析が可能です\")"
   ]
  },
  {
   "cell_type": "markdown",
   "id": "OeMZi9edPTXg",
   "metadata": {
    "id": "OeMZi9edPTXg"
   },
   "source": [
    "---\n",
    "\n",
    "## 第 5 章 - 発展編：エージェントの登録 - Agentspace との連携\n",
    "\n",
    "### 事前準備の手順"
   ]
  },
  {
   "attachments": {
    "image-2.png": {
     "image/png": "[encoded data removed]"
    },
    "image-3.png": {
     "image/png": "[encoded data removed]"
    },
    "image.png": {
     "image/png": "[encoded data removed]"
    }
   },
   "cell_type": "markdown",
   "id": "0271d1f4",
   "metadata": {},
   "source": [
    "Agent Engine にデプロイしたエージェントを Agentspace へ登録するには、まずそのツールを格納するための「アプリ」を以下の手順で作成する必要があります。\n",
    "\n",
    "#### 手順\n",
    "\n",
    "1.  **Agent Builder コンソールへ移動**\n",
    "    * [こちらのリンクから Agent Builder コンソールを開きます](https://console.cloud.google.com/gen-app-builder/)\n",
    "    ![image.png](attachment:image.png)\n",
    "\n",
    "2.  **新しいアプリを作成**\n",
    "    * 「**+ 新しいアプリ**」をクリックし、アプリの種類として「**Agentspace**」を選択します。\n",
    "    ![image-2.png](attachment:image-2.png)\n",
    "\n",
    "3.  **アプリ名を設定**\n",
    "    * 「アプリ名」に `minitap-trends-app` と入力します。この名前は後ほど API を呼び出す際に**アプリ ID** として使用します。\n",
    "    ![image-3.png](attachment:image-3.png)\n",
    "\n",
    "4.  **会社名を設定**\n",
    "    * 「会社名」には任意の名前（例： `MiniTAP`）を入力します。\n",
    "\n",
    "5.  **ロケーションを選択**\n",
    "    * ロケーションとして「**グローバル（global）**」を選択します。\n",
    "\n",
    "6.  **データストアの作成をスキップ**\n",
    "    * 「データストアを作成」の画面が表示されますが、今回は外部ツールを利用するため、ここでは何も設定せずにアプリの作成を完了させてください。\n",
    "\n",
    "7.  **アプリ ID を再確認**\n",
    "    * 作成が完了すると、`minitap-trends-app` のページに移動します。この**アプリ ID** を次のステップで使用します。"
   ]
  },
  {
   "cell_type": "markdown",
   "id": "c0b79b69",
   "metadata": {},
   "source": [
    "#### 1. 変数を設定\n",
    "\n",
    "まず、以下のコマンドを実行し、コマンド内で使用する変数を設定します。\n",
    "\n",
    "ID はご自身の環境に合わせて書き換えてください。\n"
   ]
  },
  {
   "cell_type": "code",
   "execution_count": 10,
   "id": "yVx-_vgSPVtl",
   "metadata": {
    "id": "yVx-_vgSPVtl"
   },
   "outputs": [
    {
     "name": "stdout",
     "output_type": "stream",
     "text": [
      "🏢 Agentspace 登録設定:\n",
      "{\n",
      "  \"project_id\": \"data-agent-bq\",\n",
      "  \"project_number\": \"258509337164\",\n",
      "  \"location\": \"global\",\n",
      "  \"reasoning_engine\": \"projects/258509337164/locations/us-central1/reasoningEngines/3267682587052605440\",\n",
      "  \"display_name\": \"minitap-trends-app\",\n",
      "  \"description\": \"Google Trends データを分析してマーケティングインサイトを提供\",\n",
      "  \"tool_description\": \"1. まず `get_dataset_info_for_engine` や `get_table_info_for_engine` を使い、利用可能なデータの構造（スキーマなど）を把握します。 2. 把握したデータ構造を基に、ユーザーの質問に答えるための SQL クエリを頭の中で組み立てます。 3. 組み立てた SQL クエリを `execute_sql_for_engine` ツールを使って実行し、分析に必要な情報を取得します。\",\n",
      "  \"agent_id\": \"minitap-trends-app\",\n",
      "  \"as_app\": \"minitap-trends-app\"\n",
      "}\n",
      "\n",
      "📝 以下のコマンドをターミナルで実行してください。\n",
      "\n",
      "    curl -X POST \\\n",
      "      -H \"Authorization: Bearer $(gcloud auth print-access-token)\" \\\n",
      "      -H \"Content-Type: application/json\" \\\n",
      "      -H \"x-goog-user-project: \"data-agent-bq\"\" \\\n",
      "      https://discoveryengine.googleapis.com/v1alpha/projects/data-agent-bq/locations/global/collections/default_collection/engines/minitap-trends-app/assistants/default_assistant/agents \\\n",
      "      -d '{\n",
      "          \"displayName\": \"minitap-trends-app\",\n",
      "          \"description\": \"Google Trends データを分析してマーケティングインサイトを提供\",\n",
      "          \"adk_agent_definition\": {\n",
      "            \"tool_settings\": {\n",
      "              \"tool_description\": \"1. まず `get_dataset_info_for_engine` や `get_table_info_for_engine` を使い、利用可能なデータの構造（スキーマなど）を把握します。 2. 把握したデータ構造を基に、ユーザーの質問に答えるための SQL クエリを頭の中で組み立てます。 3. 組み立てた SQL クエリを `execute_sql_for_engine` ツールを使って実行し、分析に必要な情報を取得します。\"\n",
      "            },\n",
      "            \"provisioned_reasoning_engine\": {\n",
      "              \"reasoning_engine\": \"projects/258509337164/locations/us-central1/reasoningEngines/3267682587052605440\"\n",
      "            }\n",
      "          }\n",
      "        }'\n",
      "    \n"
     ]
    }
   ],
   "source": [
    "import time\n",
    "import json\n",
    "\n",
    "def prepare_agentspace_registration():\n",
    "    \"\"\"Agentspace登録の準備\"\"\"\n",
    "\n",
    "    registration_config = {\n",
    "        \"project_id\": \"data-agent-bq\",\n",
    "        \"project_number\": \"258509337164\",  # 実際のプロジェクト番号\n",
    "        \"location\": \"global\",\n",
    "        \"reasoning_engine\": remote_agent.resource_name,\n",
    "        \"display_name\": \"minitap-trends-app\",\n",
    "        \"description\": \"Google Trends データを分析してマーケティングインサイトを提供\",\n",
    "        \"tool_description\": \"1. まず `get_dataset_info_for_engine` や `get_table_info_for_engine` を使い、利用可能なデータの構造（スキーマなど）を把握します。 2. 把握したデータ構造を基に、ユーザーの質問に答えるための SQL クエリを頭の中で組み立てます。 3. 組み立てた SQL クエリを `execute_sql_for_engine` ツールを使って実行し、分析に必要な情報を取得します。\",\n",
    "        \"agent_id\": \"minitap-trends-app\",\n",
    "        \"as_app\": f\"minitap-trends-app\"\n",
    "    }\n",
    "\n",
    "    print(\"🏢 Agentspace 登録設定:\")\n",
    "    print(json.dumps(registration_config, indent=2, ensure_ascii=False))\n",
    "\n",
    "    return registration_config\n",
    "\n",
    "# 登録設定の準備\n",
    "agentspace_config = prepare_agentspace_registration()\n",
    "\n",
    "# Agentspace 登録用の API コール例\n",
    "if agentspace_config:\n",
    "    print(\"\\n📝 以下のコマンドをターミナルで実行してください。\")\n",
    "    print(f\"\"\"\n",
    "    curl -X POST \\\\\n",
    "      -H \"Authorization: Bearer $(gcloud auth print-access-token)\" \\\\\n",
    "      -H \"Content-Type: application/json\" \\\\\n",
    "      -H \"x-goog-user-project: \"{agentspace_config['project_id']}\"\" \\\\\n",
    "      https://discoveryengine.googleapis.com/v1alpha/projects/{agentspace_config['project_id']}/locations/global/collections/default_collection/engines/{agentspace_config['as_app']}/assistants/default_assistant/agents \\\\\n",
    "      -d '{{\n",
    "          \"displayName\": \"{agentspace_config['display_name']}\",\n",
    "          \"description\": \"{agentspace_config['description']}\",\n",
    "          \"adk_agent_definition\": {{\n",
    "            \"tool_settings\": {{\n",
    "              \"tool_description\": \"{agentspace_config['tool_description']}\"\n",
    "            }},\n",
    "            \"provisioned_reasoning_engine\": {{\n",
    "              \"reasoning_engine\": \"{agentspace_config['reasoning_engine']}\"\n",
    "            }}\n",
    "          }}\n",
    "        }}'\n",
    "    \"\"\")"
   ]
  },
  {
   "cell_type": "markdown",
   "id": "776bc0d0",
   "metadata": {},
   "source": [
    "#### ⚠️ メモ\n",
    "今のところ、上記のコマンドを実行すると、Agent.create のメソッドが見つからないエラーが表示されます。\n",
    "```\n",
    "{\n",
    "  \"error\": {\n",
    "    \"code\": 404,\n",
    "    \"message\": \"Method not found.\",\n",
    "    \"status\": \"NOT_FOUND\"\n",
    "  }\n",
    "\n",
    "}\n",
    "```\n",
    "Allowlist に登録してもらう必要があるかもしれないので、Buganizer を起票して問い合わせ中です。"
   ]
  },
  {
   "cell_type": "markdown",
   "id": "1uHAzH20PmqO",
   "metadata": {
    "id": "1uHAzH20PmqO"
   },
   "source": [
    "---\n",
    "\n",
    "## 🧹 後片付け（オプション）\n",
    "\n",
    "### リソースのクリーンアップ"
   ]
  },
  {
   "cell_type": "code",
   "execution_count": 7,
   "id": "Bb0EE_rFPo5l",
   "metadata": {
    "id": "Bb0EE_rFPo5l"
   },
   "outputs": [
    {
     "name": "stdout",
     "output_type": "stream",
     "text": [
      "🎊 お疲れさまでした！ MiniTAP ハンズオン完了です！\n",
      "💡 今後は自然言語でデータ分析ができるエージェントを活用してください！\n"
     ]
    }
   ],
   "source": [
    "def cleanup_resources():\n",
    "    \"\"\"リソースのクリーンアップ\"\"\"\n",
    "    print(\"🧹 リソースのクリーンアップを開始...\")\n",
    "\n",
    "    # Agent Engineのエージェント削除\n",
    "    try:\n",
    "        if 'remote_agent' in locals():\n",
    "            remote_agent.delete(force=True)\n",
    "            print(\"✅ Agent Engine のエージェントを削除しました\")\n",
    "    except Exception as e:\n",
    "        print(f\"⚠️ Agent Engine 削除エラー: {e}\")\n",
    "\n",
    "    print(\"🏁 クリーンアップ完了\")\n",
    "\n",
    "# 注意: 以下のコメントアウトを外すとリソースが削除されます\n",
    "# cleanup_resources()\n",
    "\n",
    "print(\"🎊 お疲れさまでした！ MiniTAP ハンズオン完了です！\")\n",
    "print(\"💡 今後は自然言語でデータ分析ができるエージェントを活用してください！\")"
   ]
  },
  {
   "cell_type": "markdown",
   "id": "wSs81pEWPsHV",
   "metadata": {
    "id": "wSs81pEWPsHV"
   },
   "source": [
    "---\n",
    "\n",
    "## 🎯 **ハンズオンのハイライト**\n",
    "\n",
    "この MiniTAP で体験できたこと：\n",
    "\n",
    "### ✨ **自然言語でのデータ分析**\n",
    "- **「過去 30 日の急上昇キーワードを分析して」** → エージェントが自動で SQL 生成・実行\n",
    "- **「日本とイギリスのトレンドを比較して」** → 複数国データの比較分析を自動実行\n",
    "- **「マーケティング戦略を提案して」** → ビジネス価値のある具体的提案を生成\n",
    "\n",
    "### 🏗️ **スケーラブルなアーキテクチャ**\n",
    "- **MCP Toolbox** による安全なデータアクセス\n",
    "- **ADK Agent Native Toolkit** による簡単実装\n",
    "- **Agent Engine** でのクラウドデプロイ\n",
    "- **Agentspace** への登録\n",
    "\n",
    "### 💼 **ビジネス活用可能**\n",
    "- 自然言語での分析実行\n",
    "- リアルタイムでの意思決定支援\n",
    "\n",
    "**🚀 Happy Analytics 📊**"
   ]
  }
 ],
 "metadata": {
  "colab": {
   "name": "admin (2025/08/20 10:52:50)",
   "provenance": []
  },
  "kernelspec": {
   "display_name": "Python 3",
   "language": "python",
   "name": "python3"
  },
  "language_info": {
   "codemirror_mode": {
    "name": "ipython",
    "version": 3
   },
   "file_extension": ".py",
   "mimetype": "text/x-python",
   "name": "python",
   "nbconvert_exporter": "python",
   "pygments_lexer": "ipython3",
   "version": "3.12.3"
  }
 },
 "nbformat": 4,
 "nbformat_minor": 5
}
